{
 "cells": [
  {
   "cell_type": "code",
   "execution_count": 1,
   "id": "951747d6-c034-4b1b-bb45-42116e20fcf8",
   "metadata": {
    "execution": {
     "iopub.execute_input": "2025-08-22T09:01:44.921453Z",
     "iopub.status.busy": "2025-08-22T09:01:44.921294Z",
     "iopub.status.idle": "2025-08-22T09:01:46.963755Z",
     "shell.execute_reply": "2025-08-22T09:01:46.963394Z",
     "shell.execute_reply.started": "2025-08-22T09:01:44.921442Z"
    }
   },
   "outputs": [
    {
     "name": "stdout",
     "output_type": "stream",
     "text": [
      "---------------portfolio-vqe with qubit 3 ---------------\n",
      "---------------portfolio-vqe with qubit 4 ---------------\n",
      "=================================================================================================\n",
      "[(3, <qiskit.circuit.quantumcircuit.QuantumCircuit object at 0x7dbb5cfd2ab0>), (4, <qiskit.circuit.quantumcircuit.QuantumCircuit object at 0x7dbb611145f0>)]\n"
     ]
    }
   ],
   "source": [
    "from mqt.bench import CompilerSettings, QiskitSettings, get_benchmark\n",
    "from qiskit import *\n",
    "import numpy as np\n",
    "\n",
    "min_qubit = 3 # maximum number of qubit\n",
    "max_qubit = 5 # minimum number of qubit\n",
    "gaps = 1\n",
    "min_qubit = min(max(2, min_qubit), max_qubit) # maximum number of qubit\n",
    "max_qubit = max(2, max_qubit) # minimum number of qubit\n",
    "#skip_qubis = max(1, skip_qubits)\n",
    "gaps = 1\n",
    "compiler_settings = CompilerSettings(qiskit=QiskitSettings(optimization_level=1))\n",
    "circuits= []\n",
    "for i in range(min_qubit, max_qubit, gaps):\n",
    "    qc = get_benchmark(benchmark_name=\"portfoliovqe\",\n",
    "                       level=\"nativegates\",\n",
    "                       circuit_size=i,\n",
    "                       compiler=\"qiskit\",\n",
    "                       compiler_settings=compiler_settings,\n",
    "                       provider_name=\"ionq\",)\n",
    "    circuits.append((i,qc))\n",
    "    print(\"---------------portfolio-vqe with qubit\", i,\"---------------\")\n",
    "print(\"=================================================================================================\")\n",
    "print(circuits)"
   ]
  },
  {
   "cell_type": "code",
   "execution_count": 2,
   "id": "07e6d8d8-7705-485c-ab8b-e1043a515402",
   "metadata": {
    "execution": {
     "iopub.execute_input": "2025-08-22T09:01:46.964929Z",
     "iopub.status.busy": "2025-08-22T09:01:46.964431Z",
     "iopub.status.idle": "2025-08-22T09:01:46.990487Z",
     "shell.execute_reply": "2025-08-22T09:01:46.990077Z",
     "shell.execute_reply.started": "2025-08-22T09:01:46.964909Z"
    }
   },
   "outputs": [
    {
     "name": "stdout",
     "output_type": "stream",
     "text": [
      "Collected results:\n",
      "(3, {'101': 42, '110': 4, '010': 42, '011': 5, '111': 7, '001': 21, '100': 879}, {'000': 2.9244413665911116e-05, '001': 0.026979115677541084, '010': 0.04333720432657178, '011': 0.002618824406832032, '100': 0.8917333827453636, '101': 0.029975893278742602, '110': 0.0017130023804962783, '111': 0.0036133327707863635})\n",
      "(4, {'1010': 155, '1100': 249, '1011': 57, '0111': 14, '0011': 4, '1101': 27, '1000': 3, '0110': 25, '0001': 41, '1110': 33, '1001': 342, '0101': 9, '0100': 25, '0010': 16}, {'0000': 0.0027388870593853696, '0001': 0.044108283866321735, '0010': 0.017149787599059274, '0011': 0.0027013884416906783, '0100': 0.02472336733952661, '0101': 0.009445195008634718, '0110': 0.031540609441247945, '0111': 0.012122680467221748, '1000': 0.0016641233235905415, '1001': 0.33737163101049134, '1010': 0.1431114257004291, '1011': 0.056347085560577354, '1100': 0.2511096723947734, '1101': 0.023765841844088652, '1110': 0.04148459098268075, '1111': 0.0006154299602799933})\n"
     ]
    }
   ],
   "source": [
    "from qiskit_aer import AerSimulator\n",
    "from qiskit.quantum_info import Statevector\n",
    "\n",
    "simulator = AerSimulator()\n",
    "\n",
    "jobs = []\n",
    "for qubit_number, circuit_object in circuits:\n",
    "    # Run noisy simulation (counts)\n",
    "    job = simulator.run(circuit_object, shots=1000)\n",
    "    results = job.result()\n",
    "    counts = results.get_counts()\n",
    "\n",
    "    # Get ideal distribution from statevector\n",
    "    qc_nom = circuit_object.remove_final_measurements(inplace=False)\n",
    "    state = Statevector.from_instruction(qc_nom)\n",
    "    ideal_probs = state.probabilities_dict()\n",
    "\n",
    "    jobs.append((qubit_number, counts, ideal_probs))\n",
    "\n",
    "print(\"Collected results:\")\n",
    "for res in jobs:\n",
    "    print(res)\n"
   ]
  },
  {
   "cell_type": "code",
   "execution_count": 3,
   "id": "60d4f628-0145-4fd3-9f55-e32551f95cc5",
   "metadata": {
    "execution": {
     "iopub.execute_input": "2025-08-22T09:01:46.991362Z",
     "iopub.status.busy": "2025-08-22T09:01:46.991141Z",
     "iopub.status.idle": "2025-08-22T09:01:47.047399Z",
     "shell.execute_reply": "2025-08-22T09:01:47.047098Z",
     "shell.execute_reply.started": "2025-08-22T09:01:46.991346Z"
    }
   },
   "outputs": [],
   "source": [
    "# Hellinger fidelity function\n",
    "def hellinger_fidelity_with_expected(p, q):\n",
    "    \"\"\"Compute Hellinger fidelity between measured distribution p (counts)\n",
    "       and expected distribution q (probabilities).\"\"\"\n",
    "    p_sum = sum(p.values())\n",
    "    p_norm = {k: v / p_sum for k, v in p.items()}\n",
    "\n",
    "    q_sum = sum(q.values())\n",
    "    q_norm = {k: v / q_sum for k, v in q.items()}\n",
    "\n",
    "    overlap = 0.0\n",
    "    for k in set(p_norm) | set(q_norm):\n",
    "        overlap += np.sqrt(p_norm.get(k, 0) * q_norm.get(k, 0))\n",
    "    return overlap**2"
   ]
  },
  {
   "cell_type": "code",
   "execution_count": 4,
   "id": "a044d8ed-0708-4512-9138-bc076a5daa51",
   "metadata": {
    "execution": {
     "iopub.execute_input": "2025-08-22T09:01:47.047778Z",
     "iopub.status.busy": "2025-08-22T09:01:47.047681Z",
     "iopub.status.idle": "2025-08-22T09:01:47.089723Z",
     "shell.execute_reply": "2025-08-22T09:01:47.089203Z",
     "shell.execute_reply.started": "2025-08-22T09:01:47.047770Z"
    }
   },
   "outputs": [
    {
     "name": "stdout",
     "output_type": "stream",
     "text": [
      "Hellinger Fidelity (VQE, 3 qubits): 0.9971\n",
      "Hellinger Fidelity (VQE, 4 qubits): 0.9950\n"
     ]
    }
   ],
   "source": [
    "for qubit_number, counts, ideal_probs in jobs:\n",
    "    fidelity = hellinger_fidelity_with_expected(counts, ideal_probs)\n",
    "    print(f\"Hellinger Fidelity (VQE, {qubit_number} qubits): {fidelity:.4f}\")"
   ]
  }
 ],
 "metadata": {
  "kernelspec": {
   "display_name": "Python 3 (ipykernel)",
   "language": "python",
   "name": "python3"
  },
  "language_info": {
   "codemirror_mode": {
    "name": "ipython",
    "version": 3
   },
   "file_extension": ".py",
   "mimetype": "text/x-python",
   "name": "python",
   "nbconvert_exporter": "python",
   "pygments_lexer": "ipython3",
   "version": "3.12.0"
  }
 },
 "nbformat": 4,
 "nbformat_minor": 5
}
