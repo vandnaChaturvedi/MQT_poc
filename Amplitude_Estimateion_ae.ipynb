{
 "cells": [
  {
   "cell_type": "code",
   "execution_count": 10,
   "id": "79fa42e2-707c-4517-be49-a996edda108a",
   "metadata": {
    "execution": {
     "iopub.execute_input": "2024-11-04T10:47:36.684316Z",
     "iopub.status.busy": "2024-11-04T10:47:36.684178Z",
     "iopub.status.idle": "2024-11-04T10:47:36.686534Z",
     "shell.execute_reply": "2024-11-04T10:47:36.686258Z",
     "shell.execute_reply.started": "2024-11-04T10:47:36.684306Z"
    }
   },
   "outputs": [],
   "source": [
    "from __future__ import annotations\n",
    "import numpy as np\n",
    "from qiskit import QuantumCircuit\n",
    "from qiskit_algorithms import AmplitudeEstimation, EstimationProblem"
   ]
  },
  {
   "cell_type": "code",
   "execution_count": 11,
   "id": "b0b06042-97c3-4549-b330-889c2fbe0d40",
   "metadata": {
    "execution": {
     "iopub.execute_input": "2024-11-04T10:47:37.184541Z",
     "iopub.status.busy": "2024-11-04T10:47:37.184401Z",
     "iopub.status.idle": "2024-11-04T10:47:37.186757Z",
     "shell.execute_reply": "2024-11-04T10:47:37.186481Z",
     "shell.execute_reply.started": "2024-11-04T10:47:37.184529Z"
    }
   },
   "outputs": [],
   "source": [
    "def create_circuit(num_qubits: int) -> QuantumCircuit:\n",
    "    ae = AmplitudeEstimation(\n",
    "        num_eval_qubits=num_qubits - 1,  # -1 because of the to be estimated qubit\n",
    "    )\n",
    "    problem = get_estimation_problem()\n",
    "\n",
    "    qc = ae.construct_circuit(problem)\n",
    "    qc.name = \"ae\"\n",
    "    qc.measure_all()\n",
    "    return qc"
   ]
  },
  {
   "cell_type": "code",
   "execution_count": 12,
   "id": "748d81c2-710e-4b9e-936f-20209784e3bc",
   "metadata": {
    "execution": {
     "iopub.execute_input": "2024-11-04T10:47:37.388628Z",
     "iopub.status.busy": "2024-11-04T10:47:37.388434Z",
     "iopub.status.idle": "2024-11-04T10:47:37.392478Z",
     "shell.execute_reply": "2024-11-04T10:47:37.391989Z",
     "shell.execute_reply.started": "2024-11-04T10:47:37.388614Z"
    }
   },
   "outputs": [],
   "source": [
    "class BernoulliQ(QuantumCircuit):  \n",
    "# type: ignore[misc]\n",
    "    \"\"\"A circuit representing the Bernoulli Q operator.\"\"\"\n",
    "\n",
    "    def __init__(self, probability: float) -> None:\n",
    "        \"\"\"Initialize the Bernoulli Q operator.\"\"\"\n",
    "        super().__init__(1)  # circuit on 1 qubit\n",
    "\n",
    "        self._theta_p = 2 * np.arcsin(np.sqrt(probability))\n",
    "        self.ry(2 * self._theta_p, 0)\n",
    "\n",
    "    def __eq__(self, other: object) -> bool:\n",
    "        \"\"\"Return if the operators are equal.\"\"\"\n",
    "        return isinstance(other, BernoulliQ) and self._theta_p == other._theta_p\n",
    "\n",
    "    def __hash__(self) -> int:\n",
    "        \"\"\"Return a hash of the operator.\"\"\"\n",
    "        return hash(self._theta_p)\n",
    "\n",
    "    def power(self, power: float, _matrix_power: bool = True) -> QuantumCircuit:\n",
    "        \"\"\"Return a circuit implementing the power of the operator.\"\"\"\n",
    "        q_k = QuantumCircuit(1)\n",
    "        q_k.ry(2 * power * self._theta_p, 0)\n",
    "        return q_k"
   ]
  },
  {
   "cell_type": "code",
   "execution_count": 13,
   "id": "29f670ac-2b85-4834-8842-3a5e9d4ac123",
   "metadata": {
    "execution": {
     "iopub.execute_input": "2024-11-04T10:47:37.575309Z",
     "iopub.status.busy": "2024-11-04T10:47:37.575169Z",
     "iopub.status.idle": "2024-11-04T10:47:37.577950Z",
     "shell.execute_reply": "2024-11-04T10:47:37.577690Z",
     "shell.execute_reply.started": "2024-11-04T10:47:37.575297Z"
    }
   },
   "outputs": [],
   "source": [
    "def get_estimation_problem() -> EstimationProblem:\n",
    "    \"\"\"Returns a estimation problem instance for a fixed p value.\"\"\"\n",
    "    p = 0.2\n",
    "\n",
    "    \"\"\"A circuit representing the Bernoulli A operator.\"\"\"\n",
    "    a = QuantumCircuit(1)\n",
    "    theta_p = 2 * np.arcsin(np.sqrt(p))\n",
    "    a.ry(theta_p, 0)\n",
    "\n",
    "    \"\"\"A circuit representing the Bernoulli Q operator.\"\"\"\n",
    "    q = BernoulliQ(p)\n",
    "\n",
    "    return EstimationProblem(\n",
    "        state_preparation=a,  # A operator\n",
    "        grover_operator=q,  # Q operator\n",
    "        objective_qubits=[0],  # the \"good\" state Psi1 is identified as measuring |1> in qubit 0\n",
    "    )"
   ]
  },
  {
   "cell_type": "code",
   "execution_count": null,
   "id": "bdace478-c4e2-4249-97fe-334b7cbe46b7",
   "metadata": {},
   "outputs": [],
   "source": []
  },
  {
   "cell_type": "code",
   "execution_count": null,
   "id": "05f7b8da-b398-4ef7-a6b1-4459ddec9222",
   "metadata": {},
   "outputs": [],
   "source": []
  },
  {
   "cell_type": "code",
   "execution_count": null,
   "id": "cf80945a-65cf-4671-99b3-9dde6e3b1ae3",
   "metadata": {},
   "outputs": [],
   "source": []
  }
 ],
 "metadata": {
  "kernelspec": {
   "display_name": "Python 3 (ipykernel)",
   "language": "python",
   "name": "python3"
  },
  "language_info": {
   "codemirror_mode": {
    "name": "ipython",
    "version": 3
   },
   "file_extension": ".py",
   "mimetype": "text/x-python",
   "name": "python",
   "nbconvert_exporter": "python",
   "pygments_lexer": "ipython3",
   "version": "3.12.0"
  }
 },
 "nbformat": 4,
 "nbformat_minor": 5
}
