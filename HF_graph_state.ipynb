{
 "cells": [
  {
   "cell_type": "code",
   "execution_count": 1,
   "id": "726f886f-49c6-485c-9072-7a5e37e2a1f5",
   "metadata": {
    "execution": {
     "iopub.execute_input": "2025-08-21T11:49:26.817471Z",
     "iopub.status.busy": "2025-08-21T11:49:26.817375Z",
     "iopub.status.idle": "2025-08-21T11:49:32.431058Z",
     "shell.execute_reply": "2025-08-21T11:49:32.430623Z",
     "shell.execute_reply.started": "2025-08-21T11:49:26.817460Z"
    }
   },
   "outputs": [],
   "source": [
    "from mqt.bench import get_benchmark\n",
    "from mqt.bench import CompilerSettings, QiskitSettings, TKETSettings, get_benchmark\n",
    "from qiskit import *\n",
    "import numpy as np"
   ]
  },
  {
   "cell_type": "code",
   "execution_count": 2,
   "id": "98b89055-2e48-4947-93c8-79fd42b9be42",
   "metadata": {
    "execution": {
     "iopub.execute_input": "2025-08-21T11:49:32.431600Z",
     "iopub.status.busy": "2025-08-21T11:49:32.431337Z",
     "iopub.status.idle": "2025-08-21T11:49:32.433178Z",
     "shell.execute_reply": "2025-08-21T11:49:32.432912Z",
     "shell.execute_reply.started": "2025-08-21T11:49:32.431587Z"
    }
   },
   "outputs": [],
   "source": [
    "min_qubit = 3 # maximum number of qubit\n",
    "max_qubit = 5 # minimum number of qubit\n",
    "gaps = 1"
   ]
  },
  {
   "cell_type": "code",
   "execution_count": 3,
   "id": "9b41d2f3-c400-4ce1-a27f-f4026699c056",
   "metadata": {
    "execution": {
     "iopub.execute_input": "2025-08-21T11:49:32.434078Z",
     "iopub.status.busy": "2025-08-21T11:49:32.433796Z",
     "iopub.status.idle": "2025-08-21T11:49:34.626429Z",
     "shell.execute_reply": "2025-08-21T11:49:34.626124Z",
     "shell.execute_reply.started": "2025-08-21T11:49:32.434062Z"
    }
   },
   "outputs": [
    {
     "name": "stdout",
     "output_type": "stream",
     "text": [
      "---------------graphstate with qubit 3 ---------------\n",
      "---------------graphstate with qubit 4 ---------------\n",
      "=================================================================================================\n",
      "[(3, <qiskit.circuit.quantumcircuit.QuantumCircuit object at 0x770fe060b620>), (4, <qiskit.circuit.quantumcircuit.QuantumCircuit object at 0x770fe03329c0>)]\n"
     ]
    }
   ],
   "source": [
    "compiler_settings = CompilerSettings(qiskit=QiskitSettings(optimization_level=1))\n",
    "circuits= []\n",
    "for i in range(min_qubit, max_qubit, gaps):\n",
    "    qc = get_benchmark(benchmark_name=\"graphstate\",\n",
    "                       level=\"nativegates\",\n",
    "                       circuit_size=i,\n",
    "                       compiler=\"qiskit\",\n",
    "                       compiler_settings=compiler_settings,\n",
    "                       provider_name=\"ionq\",)\n",
    "    circuits.append((i,qc))\n",
    "    print(\"---------------graphstate with qubit\", i,\"---------------\")\n",
    "    #print(qc.draw())\n",
    "print(\"=================================================================================================\")\n",
    "print(circuits)"
   ]
  },
  {
   "cell_type": "code",
   "execution_count": 4,
   "id": "a1b4a1d1-fa64-464e-b87a-b84f6dfadfff",
   "metadata": {
    "execution": {
     "iopub.execute_input": "2025-08-21T11:49:34.627003Z",
     "iopub.status.busy": "2025-08-21T11:49:34.626704Z",
     "iopub.status.idle": "2025-08-21T11:49:34.675171Z",
     "shell.execute_reply": "2025-08-21T11:49:34.674719Z",
     "shell.execute_reply.started": "2025-08-21T11:49:34.626992Z"
    }
   },
   "outputs": [
    {
     "name": "stdout",
     "output_type": "stream",
     "text": [
      "[(3, {'001': 128, '111': 109, '011': 102, '110': 128, '100': 146, '010': 106, '000': 141, '101': 140}), (4, {'1101': 67, '1010': 60, '0100': 55, '1100': 62, '0101': 58, '1001': 72, '0111': 58, '0011': 69, '1011': 59, '0001': 63, '1111': 65, '0000': 67, '0010': 55, '1000': 55, '0110': 79, '1110': 56})]\n"
     ]
    }
   ],
   "source": [
    "from qiskit_aer import AerSimulator\n",
    "from qiskit import *\n",
    "from qiskit.providers.fake_provider import *\n",
    "import numpy as np \n",
    "import os\n",
    "from qiskit.primitives import StatevectorSampler\n",
    "sampler = AerSimulator()\n",
    "jobs=[]\n",
    "for qubit_number,circuit_object in circuits: \n",
    "    job = sampler.run([circuit_object], shots=1000)\n",
    "    results = job.result()\n",
    "    counts= results.get_counts()\n",
    "    #print(f\" > Counts: {results[0].data[\"meas\"].get_counts()}\")\n",
    "    jobs.append((qubit_number , counts))\n",
    "print(jobs)"
   ]
  },
  {
   "cell_type": "code",
   "execution_count": 5,
   "id": "8460ef94-730d-4496-be13-a7cdc918ebfe",
   "metadata": {
    "execution": {
     "iopub.execute_input": "2025-08-21T11:49:34.675808Z",
     "iopub.status.busy": "2025-08-21T11:49:34.675683Z",
     "iopub.status.idle": "2025-08-21T11:49:34.687400Z",
     "shell.execute_reply": "2025-08-21T11:49:34.686889Z",
     "shell.execute_reply.started": "2025-08-21T11:49:34.675797Z"
    }
   },
   "outputs": [],
   "source": [
    "def hellinger_fidelity_with_expected(p, q):\n",
    "    \"\"\"Compute Hellinger fidelity between measured distribution p (counts)\n",
    "        and expected distribution q (counts).\n",
    "        Both p and q should be dictionaries: {bitstring: counts}.\"\"\"\n",
    "    p_sum, q_sum = sum(p.values()), sum(q.values())  # Normalize to probability distributions\n",
    "    if q_sum == 0:\n",
    "        raise ValueError(\"Expected distribution invalid (all counts = 0)\")\n",
    "    p_norm = {k: v / p_sum for k, v in p.items()}\n",
    "    q_norm = {k: v / q_sum for k, v in q.items()}\n",
    "    overlap = 0.0\n",
    "    for k in set(p_norm) | set(q_norm):  # union of keys\n",
    "        overlap += np.sqrt(p_norm.get(k, 0) * q_norm.get(k, 0))  # Compute fidelity    \n",
    "    return overlap**2\n",
    "\n",
    "def rescale_fidelity(f, floor, new_floor):\n",
    "    r = (1-new_floor)/(1-floor) * (f - 1) + 1\n",
    "    return max(0, min(1, r))\n",
    "\n",
    "def polarization_fidelity(count, correct_dist, thermal_dist=None): \n",
    "    '''     counts: the measurement outcomes after `num_shots` algorithm runs\n",
    "                        correct_dist: the distribution we expect to get for the algorithm running perfectly\n",
    "                        thermal_dist: optional distribution to pass in distribution from a uniform superposition over all states. If `None`: generated as \n",
    "                        uniform_dist` with the same qubits as in `counts`'''\n",
    "    n = len(next(iter(correct_dist)))                            # get length of random key in correct_dist to find how many qubits measured\n",
    "    counts = {k.zfill(n): v for k, v in counts.items()}          # ensure that all keys in counts are zero padded to this length\n",
    "    hf = hellinger_fidelity_with_expected(counts, correct_dist)   # calculate hellinger fidelity between measured expectation values and correct distribution\n",
    "    if n > 16: return {'fidelity': hf, 'hf_fidelity': hf}         # to limit cpu and memory utilization, skip noise correction if more than 16 measured qubits  & if not provided, generate thermal dist based on number of qubits\n",
    "    if thermal_dist is None: thermal_dist = uniform_dist(n)      # set our fidelity rescaling value as the hellinger fidelity for a depolarized state\n",
    "    floor = hellinger_fidelity_with_expected(thermal_dist, correct_dist)   # rescale fidelity result so uniform superposition (random guessing) returns fidelity\n",
    "      \n",
    "    # rescaled to 0 to provide a better measure of success of the algorithm (polarization)return {'fidelity': rescale_fidelity(hf, floor, 0), 'hf_fidelity': hf}\n"
   ]
  },
  {
   "cell_type": "code",
   "execution_count": 6,
   "id": "890f4e2d-3392-42c9-86ad-d6f2f8980618",
   "metadata": {
    "execution": {
     "iopub.execute_input": "2025-08-21T11:49:34.687816Z",
     "iopub.status.busy": "2025-08-21T11:49:34.687726Z",
     "iopub.status.idle": "2025-08-21T11:49:34.734420Z",
     "shell.execute_reply": "2025-08-21T11:49:34.734034Z",
     "shell.execute_reply.started": "2025-08-21T11:49:34.687808Z"
    }
   },
   "outputs": [
    {
     "name": "stdout",
     "output_type": "stream",
     "text": [
      "[(3, 0.9992465786980438), (4, 0.996452002729394)]\n"
     ]
    }
   ],
   "source": [
    "from qiskit.quantum_info import Statevector\n",
    "h_f = []\n",
    "for qubit_number, circuit_object in circuits:\n",
    "    # Get experimental counts\n",
    "    job = sampler.run([circuit_object], shots=1000)\n",
    "    result = job.result()\n",
    "    counts = result.get_counts()\n",
    "\n",
    "    # Remove measurements for ideal statevector\n",
    "    circuit_no_meas = circuit_object.remove_final_measurements(inplace=False)\n",
    "\n",
    "    # Get ideal distribution from statevector\n",
    "    sv = Statevector.from_instruction(circuit_no_meas)\n",
    "    ideal_dist = sv.probabilities_dict()\n",
    "\n",
    "    # Compute fidelity\n",
    "    hf = hellinger_fidelity_with_expected(counts, ideal_dist)\n",
    "    h_f.append((qubit_number, hf))\n",
    "\n",
    "print(h_f)"
   ]
  }
 ],
 "metadata": {
  "kernelspec": {
   "display_name": "Python 3 (ipykernel)",
   "language": "python",
   "name": "python3"
  },
  "language_info": {
   "codemirror_mode": {
    "name": "ipython",
    "version": 3
   },
   "file_extension": ".py",
   "mimetype": "text/x-python",
   "name": "python",
   "nbconvert_exporter": "python",
   "pygments_lexer": "ipython3",
   "version": "3.12.0"
  }
 },
 "nbformat": 4,
 "nbformat_minor": 5
}
