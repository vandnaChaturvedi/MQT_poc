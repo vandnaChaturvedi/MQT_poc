{
 "cells": [
  {
   "cell_type": "code",
   "execution_count": 1,
   "id": "789dd32b-0486-4a3d-b7ca-506f0e02cde1",
   "metadata": {
    "execution": {
     "iopub.execute_input": "2025-01-23T07:28:54.600650Z",
     "iopub.status.busy": "2025-01-23T07:28:54.600412Z",
     "iopub.status.idle": "2025-01-23T07:29:09.371150Z",
     "shell.execute_reply": "2025-01-23T07:29:09.370802Z",
     "shell.execute_reply.started": "2025-01-23T07:28:54.600635Z"
    }
   },
   "outputs": [],
   "source": [
    "from mqt.bench import CompilerSettings, QiskitSettings, TKETSettings, get_benchmark\n",
    "from qiskit import *\n",
    "import numpy as np"
   ]
  },
  {
   "cell_type": "code",
   "execution_count": 2,
   "id": "9b41d2f3-c400-4ce1-a27f-f4026699c056",
   "metadata": {
    "execution": {
     "iopub.execute_input": "2025-01-23T07:29:09.371689Z",
     "iopub.status.busy": "2025-01-23T07:29:09.371498Z",
     "iopub.status.idle": "2025-01-23T07:29:21.477653Z",
     "shell.execute_reply": "2025-01-23T07:29:21.477340Z",
     "shell.execute_reply.started": "2025-01-23T07:29:09.371679Z"
    }
   },
   "outputs": [
    {
     "name": "stdout",
     "output_type": "stream",
     "text": [
      "---------------qaoa---------------\n",
      "global phase: π/2\n",
      "        ┌──────────────┐┌──────────────┐ ┌────────────┐               »\n",
      "   q_0: ┤0             ├┤0             ├─┤ Rz(1.9773) ├───────────────»\n",
      "        │  Rxx(3.0598) ││              │┌┴────────────┴┐┌────────────┐»\n",
      "   q_1: ┤1             ├┤  Rxx(3.0598) ├┤0             ├┤ Rz(1.9773) ├»\n",
      "        └──────────────┘│              ││  Rxx(3.0598) │├────────────┤»\n",
      "   q_2: ────────────────┤1             ├┤1             ├┤ Rz(1.9773) ├»\n",
      "                        └──────────────┘└──────────────┘└────────────┘»\n",
      "meas: 3/══════════════════════════════════════════════════════════════»\n",
      "                                                                      »\n",
      "«        ┌────────────┐┌────────────┐┌──────────────┐  ┌─────────┐   »\n",
      "«   q_0: ┤0           ├┤0           ├┤ Rz(-0.68274) ├──┤ Ry(π/2) ├───»\n",
      "«        │  Rxx(-2.6) ││            │└┬────────────┬┘┌─┴─────────┴──┐»\n",
      "«   q_1: ┤1           ├┤  Rxx(-2.6) ├─┤0           ├─┤ Rz(-0.68274) ├»\n",
      "«        └────────────┘│            │ │  Rxx(-2.6) │ ├──────────────┤»\n",
      "«   q_2: ──────────────┤1           ├─┤1           ├─┤ Rz(-0.68274) ├»\n",
      "«                      └────────────┘ └────────────┘ └──────────────┘»\n",
      "«meas: 3/════════════════════════════════════════════════════════════»\n",
      "«                                                                    »\n",
      "«                    ░ ┌─┐      \n",
      "«   q_0: ────────────░─┤M├──────\n",
      "«        ┌─────────┐ ░ └╥┘┌─┐   \n",
      "«   q_1: ┤ Ry(π/2) ├─░──╫─┤M├───\n",
      "«        ├─────────┤ ░  ║ └╥┘┌─┐\n",
      "«   q_2: ┤ Ry(π/2) ├─░──╫──╫─┤M├\n",
      "«        └─────────┘ ░  ║  ║ └╥┘\n",
      "«meas: 3/═══════════════╩══╩══╩═\n",
      "«                       0  1  2 \n",
      "=================================================================================================\n"
     ]
    }
   ],
   "source": [
    "q_num=3 #number of choosen qubit\n",
    "compiler_settings = CompilerSettings(qiskit=QiskitSettings(optimization_level=1))\n",
    "qc = get_benchmark(\n",
    "benchmark_name=\"qaoa\",\n",
    "level=\"nativegates\",\n",
    "circuit_size=q_num,\n",
    "compiler=\"qiskit\",\n",
    "compiler_settings=compiler_settings,\n",
    "provider_name=\"ionq\",)\n",
    "print(\"---------------qaoa---------------\")\n",
    "print(qc.draw())\n",
    "print(\"=================================================================================================\")"
   ]
  },
  {
   "cell_type": "code",
   "execution_count": 3,
   "id": "a1b4a1d1-fa64-464e-b87a-b84f6dfadfff",
   "metadata": {
    "execution": {
     "iopub.execute_input": "2025-01-23T07:29:21.478548Z",
     "iopub.status.busy": "2025-01-23T07:29:21.478326Z",
     "iopub.status.idle": "2025-01-23T07:29:21.525353Z",
     "shell.execute_reply": "2025-01-23T07:29:21.524914Z",
     "shell.execute_reply.started": "2025-01-23T07:29:21.478536Z"
    }
   },
   "outputs": [
    {
     "name": "stdout",
     "output_type": "stream",
     "text": [
      " > Counts: {'110': 179, '011': 163, '100': 175, '101': 159, '010': 154, '001': 170}\n"
     ]
    }
   ],
   "source": [
    "from qiskit_aer import AerSimulator\n",
    "from qiskit import *\n",
    "from qiskit.providers.fake_provider import *\n",
    "import numpy as np \n",
    "import os\n",
    "from qiskit.primitives import StatevectorSampler\n",
    "sampler = StatevectorSampler()\n",
    "job = sampler.run([qc], shots=1000)\n",
    "result = job.result()\n",
    "counts= result[0].data[\"meas\"].get_counts()\n",
    "print(f\" > Counts: {result[0].data[\"meas\"].get_counts()}\")"
   ]
  },
  {
   "cell_type": "code",
   "execution_count": 5,
   "id": "4c8dee29-76c1-436e-a6db-328de86ad69c",
   "metadata": {
    "execution": {
     "iopub.execute_input": "2025-01-23T10:42:14.590071Z",
     "iopub.status.busy": "2025-01-23T10:42:14.589894Z",
     "iopub.status.idle": "2025-01-23T10:42:14.600672Z",
     "shell.execute_reply": "2025-01-23T10:42:14.600223Z",
     "shell.execute_reply.started": "2025-01-23T10:42:14.590059Z"
    }
   },
   "outputs": [
    {
     "ename": "NameError",
     "evalue": "name 'cirq' is not defined",
     "output_type": "error",
     "traceback": [
      "\u001b[0;31m---------------------------------------------------------------------------\u001b[0m",
      "\u001b[0;31mNameError\u001b[0m                                 Traceback (most recent call last)",
      "Cell \u001b[0;32mIn[5], line 2\u001b[0m\n\u001b[1;32m      1\u001b[0m \u001b[38;5;66;03m#print(compilation_information)\u001b[39;00m\n\u001b[0;32m----> 2\u001b[0m \u001b[38;5;28;01mdef\u001b[39;00m \u001b[38;5;21mget_ideal_counts\u001b[39m(circuit: \u001b[43mcirq\u001b[49m\u001b[38;5;241m.\u001b[39mCircuit) \u001b[38;5;241m-\u001b[39m\u001b[38;5;241m>\u001b[39m \u001b[38;5;28mdict\u001b[39m[\u001b[38;5;28mstr\u001b[39m, \u001b[38;5;28mfloat\u001b[39m]:\n\u001b[1;32m      3\u001b[0m     ideal_counts \u001b[38;5;241m=\u001b[39m {}\n\u001b[1;32m      4\u001b[0m     \u001b[38;5;28;01mfor\u001b[39;00m i, amplitude \u001b[38;5;129;01min\u001b[39;00m \u001b[38;5;28menumerate\u001b[39m(circuit\u001b[38;5;241m.\u001b[39mfinal_state_vector(ignore_terminal_measurements\u001b[38;5;241m=\u001b[39m\u001b[38;5;28;01mTrue\u001b[39;00m)):\n",
      "\u001b[0;31mNameError\u001b[0m: name 'cirq' is not defined"
     ]
    }
   ],
   "source": [
    "#print(compilation_information)\n",
    "def get_ideal_counts(circuit: cirq.Circuit) -> dict[str, float]:\n",
    "    ideal_counts = {}\n",
    "    for i, amplitude in enumerate(circuit.final_state_vector(ignore_terminal_measurements=True)):\n",
    "        bitstring = f\"{i:>0{len(circuit.all_qubits())}b}\"\n",
    "        probability = np.abs(amplitude) ** 2\n",
    "        \n",
    "        ideal_counts[bitstring] = probability\n",
    "    return ideal_counts\n",
    "raw_counts = supermarq.simulation.get_ideal_counts(qaoa.circuit())\n",
    "ideal_counts = {bitstring[::-1]: probability for bitstring, probability in raw_counts.items()}"
   ]
  },
  {
   "cell_type": "code",
   "execution_count": null,
   "id": "8c0fabd3-44f4-4f79-ab1d-01e595080fc1",
   "metadata": {
    "execution": {
     "iopub.status.busy": "2025-01-23T07:29:21.721626Z",
     "iopub.status.idle": "2025-01-23T07:29:21.721719Z",
     "shell.execute_reply": "2025-01-23T07:29:21.721678Z",
     "shell.execute_reply.started": "2025-01-23T07:29:21.721673Z"
    }
   },
   "outputs": [],
   "source": [
    "from qiskit.quantum_info import hellinger_fidelity\n",
    "ideal_counts = get_ideal_counts(qc)\n",
    "total_shots = sum(counts.values())\n",
    "experimental_counts = {k: v / total_shots for k, v in counts.items()}\n",
    "ideal_value = self._get_expectation_value_from_probs(ideal_counts)\n",
    "experimental_value = self._get_expectation_value_from_probs(experimental_counts)\n",
    "return 1 - abs(ideal_value - experimental_value) / (2 * ideal_value)\n",
    "\n",
    "device_dist = {bitstr: count / total_shots for bitstr, count in counts.items()}\n",
    "hf = hellinger_fidelity(ideal_dist, device_dist) #formula of Hellinger fidelity between two distributions p and q is given by $(\\sum_i{p_i q_i})^2$ as FLOAT.\n",
    "print(\"Hellinger fidelity\",hf*100,\"%\")"
   ]
  },
  {
   "cell_type": "code",
   "execution_count": null,
   "id": "2a4f5e4c-3cb0-40cb-8aab-a776723a59df",
   "metadata": {
    "execution": {
     "iopub.status.busy": "2025-01-23T07:29:21.722100Z",
     "iopub.status.idle": "2025-01-23T07:29:21.722212Z",
     "shell.execute_reply": "2025-01-23T07:29:21.722170Z",
     "shell.execute_reply.started": "2025-01-23T07:29:21.722166Z"
    }
   },
   "outputs": [],
   "source": [
    "from qiskit.visualization import plot_histogram\n",
    "legend = ['Ideal', 'Current']\n",
    "plot_histogram([ideal_dist, device_dist], legend=legend, color=['skyblue','lightgreen'],title=\"Visual Comparision of Counts\")"
   ]
  },
  {
   "cell_type": "code",
   "execution_count": null,
   "id": "a2be1262-259c-4d88-8105-670d7681df4c",
   "metadata": {
    "execution": {
     "iopub.status.busy": "2025-01-23T07:29:21.722466Z",
     "iopub.status.idle": "2025-01-23T07:29:21.722554Z",
     "shell.execute_reply": "2025-01-23T07:29:21.722515Z",
     "shell.execute_reply.started": "2025-01-23T07:29:21.722511Z"
    }
   },
   "outputs": [],
   "source": [
    "from __future__ import annotations\n",
    "\n",
    "import cirq\n",
    "import numpy as np\n",
    "\n",
    "\n",
    "def get_ideal_counts(circuit: cirq.Circuit) -> dict[str, float]:\n",
    "    \"\"\"Noiseless statevector simulation.\n",
    "\n",
    "    Note that the qubits in the returned bitstrings are in big-endian order.\n",
    "    For example, for a circuit defined on qubits\n",
    "    .. code::\n",
    "\n",
    "        q0 ------\n",
    "        q1 ------\n",
    "        q2 ------\n",
    "\n",
    "    the bitstrings are written as `q0q1q2`.\n",
    "\n",
    "    Args:\n",
    "        circuit: Input `cirq.Circuit` to be simulated.\n",
    "\n",
    "    Returns:\n",
    "        A dictionary with bitstring and probability as the key, value pairs.\n",
    "    \"\"\"\n",
    "    ideal_counts = {}\n",
    "    for i, amplitude in enumerate(circuit.final_state_vector(ignore_terminal_measurements=True)):\n",
    "        bitstring = f\"{i:>0{len(circuit.all_qubits())}b}\"\n",
    "        probability = np.abs(amplitude) ** 2\n",
    "        ideal_counts[bitstring] = probability\n",
    "    return ideal_counts"
   ]
  }
 ],
 "metadata": {
  "kernelspec": {
   "display_name": "Python 3 (ipykernel)",
   "language": "python",
   "name": "python3"
  },
  "language_info": {
   "codemirror_mode": {
    "name": "ipython",
    "version": 3
   },
   "file_extension": ".py",
   "mimetype": "text/x-python",
   "name": "python",
   "nbconvert_exporter": "python",
   "pygments_lexer": "ipython3",
   "version": "3.12.0"
  }
 },
 "nbformat": 4,
 "nbformat_minor": 5
}
