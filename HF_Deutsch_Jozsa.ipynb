{
 "cells": [
  {
   "cell_type": "code",
   "execution_count": 1,
   "id": "726f886f-49c6-485c-9072-7a5e37e2a1f5",
   "metadata": {
    "execution": {
     "iopub.execute_input": "2025-08-20T10:14:08.924090Z",
     "iopub.status.busy": "2025-08-20T10:14:08.923921Z",
     "iopub.status.idle": "2025-08-20T10:14:10.252882Z",
     "shell.execute_reply": "2025-08-20T10:14:10.252490Z",
     "shell.execute_reply.started": "2025-08-20T10:14:08.924080Z"
    }
   },
   "outputs": [],
   "source": [
    "from mqt.bench import get_benchmark\n",
    "from mqt.bench import CompilerSettings, QiskitSettings, TKETSettings, get_benchmark\n",
    "from qiskit import *\n",
    "import numpy as np"
   ]
  },
  {
   "cell_type": "code",
   "execution_count": 2,
   "id": "98b89055-2e48-4947-93c8-79fd42b9be42",
   "metadata": {
    "execution": {
     "iopub.execute_input": "2025-08-20T10:14:10.253314Z",
     "iopub.status.busy": "2025-08-20T10:14:10.253156Z",
     "iopub.status.idle": "2025-08-20T10:14:10.255240Z",
     "shell.execute_reply": "2025-08-20T10:14:10.254904Z",
     "shell.execute_reply.started": "2025-08-20T10:14:10.253304Z"
    }
   },
   "outputs": [],
   "source": [
    "min_qubit = 3 # maximum number of qubit\n",
    "max_qubit = 5 # minimum number of qubit\n",
    "gaps = 1"
   ]
  },
  {
   "cell_type": "code",
   "execution_count": 3,
   "id": "9b41d2f3-c400-4ce1-a27f-f4026699c056",
   "metadata": {
    "execution": {
     "iopub.execute_input": "2025-08-20T10:14:10.256315Z",
     "iopub.status.busy": "2025-08-20T10:14:10.256099Z",
     "iopub.status.idle": "2025-08-20T10:14:10.837939Z",
     "shell.execute_reply": "2025-08-20T10:14:10.837578Z",
     "shell.execute_reply.started": "2025-08-20T10:14:10.256305Z"
    }
   },
   "outputs": [
    {
     "name": "stdout",
     "output_type": "stream",
     "text": [
      "---------------ae with qubit  3 ---------------\n",
      "---------------ae with qubit  4 ---------------\n",
      "=================================================================================================\n",
      "[(3, <qiskit.circuit.quantumcircuit.QuantumCircuit object at 0x7bf126127830>), (4, <qiskit.circuit.quantumcircuit.QuantumCircuit object at 0x7bf124ba6ae0>)]\n"
     ]
    }
   ],
   "source": [
    "compiler_settings = CompilerSettings(qiskit=QiskitSettings(optimization_level=1))\n",
    "circuits= []\n",
    "for i in range(min_qubit, max_qubit, gaps):\n",
    "    qc = get_benchmark(benchmark_name=\"dj\",\n",
    "                       level=\"nativegates\",\n",
    "                       circuit_size=i,\n",
    "                       compiler=\"qiskit\",\n",
    "                       compiler_settings=compiler_settings,\n",
    "                       provider_name=\"ionq\",)\n",
    "    circuits.append((i,qc))\n",
    "    print(\"---------------ae with qubit \",i,\"---------------\")\n",
    "    #print(qc.draw())\n",
    "print(\"=================================================================================================\")\n",
    "print(circuits)"
   ]
  },
  {
   "cell_type": "code",
   "execution_count": 4,
   "id": "a1b4a1d1-fa64-464e-b87a-b84f6dfadfff",
   "metadata": {
    "execution": {
     "iopub.execute_input": "2025-08-20T10:14:10.838424Z",
     "iopub.status.busy": "2025-08-20T10:14:10.838246Z",
     "iopub.status.idle": "2025-08-20T10:14:10.853977Z",
     "shell.execute_reply": "2025-08-20T10:14:10.850216Z",
     "shell.execute_reply.started": "2025-08-20T10:14:10.838413Z"
    }
   },
   "outputs": [
    {
     "name": "stdout",
     "output_type": "stream",
     "text": [
      "[(3, {'11': 1000}), (4, {'111': 1000})]\n"
     ]
    }
   ],
   "source": [
    "from qiskit_aer import AerSimulator\n",
    "from qiskit import *\n",
    "from qiskit.providers.fake_provider import *\n",
    "import numpy as np \n",
    "import os\n",
    "from qiskit.primitives import StatevectorSampler\n",
    "sampler = AerSimulator()\n",
    "jobs=[]\n",
    "for qubit_number,circuit_object in circuits: \n",
    "    job = sampler.run([circuit_object], shots=1000)\n",
    "    results = job.result()\n",
    "    counts= results.get_counts()\n",
    "    #print(f\" > Counts: {results[0].data[\"meas\"].get_counts()}\")\n",
    "    jobs.append((qubit_number , counts))\n",
    "print(jobs)"
   ]
  },
  {
   "cell_type": "code",
   "execution_count": 5,
   "id": "8460ef94-730d-4496-be13-a7cdc918ebfe",
   "metadata": {
    "execution": {
     "iopub.execute_input": "2025-08-20T10:14:10.854631Z",
     "iopub.status.busy": "2025-08-20T10:14:10.854464Z",
     "iopub.status.idle": "2025-08-20T10:14:10.873856Z",
     "shell.execute_reply": "2025-08-20T10:14:10.873509Z",
     "shell.execute_reply.started": "2025-08-20T10:14:10.854614Z"
    }
   },
   "outputs": [],
   "source": [
    "def hellinger_fidelity_with_expected(p, q):\n",
    "    \"\"\"Compute Hellinger fidelity between measured distribution p (counts)\n",
    "        and expected distribution q (counts).\n",
    "        Both p and q should be dictionaries: {bitstring: counts}.\"\"\"\n",
    "    p_sum, q_sum = sum(p.values()), sum(q.values())  # Normalize to probability distributions\n",
    "    if q_sum == 0:\n",
    "        raise ValueError(\"Expected distribution invalid (all counts = 0)\")\n",
    "    p_norm = {k: v / p_sum for k, v in p.items()}\n",
    "    q_norm = {k: v / q_sum for k, v in q.items()}\n",
    "    overlap = 0.0\n",
    "    for k in set(p_norm) | set(q_norm):  # union of keys\n",
    "        overlap += np.sqrt(p_norm.get(k, 0) * q_norm.get(k, 0))  # Compute fidelity    \n",
    "    return overlap**2\n",
    "\n",
    "def rescale_fidelity(f, floor, new_floor):\n",
    "    r = (1-new_floor)/(1-floor) * (f - 1) + 1\n",
    "    return max(0, min(1, r))\n",
    "\n",
    "def polarization_fidelity(counts, correct_dist, thermal_dist=None): \n",
    "    '''     counts: the measurement outcomes after `num_shots` algorithm runs\n",
    "                        correct_dist: the distribution we expect to get for the algorithm running perfectly\n",
    "                        thermal_dist: optional distribution to pass in distribution from a uniform superposition over all states. If `None`: generated as \n",
    "                        uniform_dist` with the same qubits as in `counts`'''\n",
    "    n = len(next(iter(correct_dist)))                            # get length of random key in correct_dist to find how many qubits measured\n",
    "    counts = {k.zfill(n): v for k, v in counts.items()}          # ensure that all keys in counts are zero padded to this length\n",
    "    hf = hellinger_fidelity_with_expected(counts, correct_dist)   # calculate hellinger fidelity between measured expectation values and correct distribution\n",
    "    if n > 16: return {'fidelity': hf, 'hf_fidelity': hf}         # to limit cpu and memory utilization, skip noise correction if more than 16 measured qubits  & if not provided, generate thermal dist based on number of qubits\n",
    "    if thermal_dist is None: thermal_dist = uniform_dist(n)      # set our fidelity rescaling value as the hellinger fidelity for a depolarized state\n",
    "    floor = hellinger_fidelity_with_expected(thermal_dist, correct_dist)   # rescale fidelity result so uniform superposition (random guessing) returns fidelity\n",
    "      \n",
    "    # rescaled to 0 to provide a better measure of success of the algorithm (polarization)return {'fidelity': rescale_fidelity(hf, floor, 0), 'hf_fidelity': hf}\n"
   ]
  },
  {
   "cell_type": "code",
   "execution_count": 6,
   "id": "890f4e2d-3392-42c9-86ad-d6f2f8980618",
   "metadata": {
    "execution": {
     "iopub.execute_input": "2025-08-20T10:14:10.874266Z",
     "iopub.status.busy": "2025-08-20T10:14:10.874171Z",
     "iopub.status.idle": "2025-08-20T10:14:10.928778Z",
     "shell.execute_reply": "2025-08-20T10:14:10.928439Z",
     "shell.execute_reply.started": "2025-08-20T10:14:10.874258Z"
    }
   },
   "outputs": [
    {
     "name": "stdout",
     "output_type": "stream",
     "text": [
      "[(3, 0.14285714285714293), (4, 0.0)]\n"
     ]
    }
   ],
   "source": [
    "from fidelity import *\n",
    "h_f = []\n",
    "for qubit_number,count in jobs:\n",
    "\n",
    "    ideal_dist = {}\n",
    "    if True:  # balanced case\n",
    "        non_zero_states = [format(i, '0{}b'.format(qubit_number)) for i in range(1, 2**qubit_number)]\n",
    "        prob = 1 / len(non_zero_states)\n",
    "        ideal_dist = {state: prob for state in non_zero_states}\n",
    "    else:  # constant case\n",
    "        ideal_dist = { '0'*qubit_number: 1.0 }\n",
    "    hf=hellinger_fidelity_with_expected(counts,ideal_dist)\n",
    "    h_f.append((qubit_number , hf))\n",
    "print(h_f)"
   ]
  }
 ],
 "metadata": {
  "kernelspec": {
   "display_name": "Python 3 (ipykernel)",
   "language": "python",
   "name": "python3"
  },
  "language_info": {
   "codemirror_mode": {
    "name": "ipython",
    "version": 3
   },
   "file_extension": ".py",
   "mimetype": "text/x-python",
   "name": "python",
   "nbconvert_exporter": "python",
   "pygments_lexer": "ipython3",
   "version": "3.12.0"
  }
 },
 "nbformat": 4,
 "nbformat_minor": 5
}
