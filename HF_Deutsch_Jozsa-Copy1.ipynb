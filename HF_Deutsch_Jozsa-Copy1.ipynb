{
 "cells": [
  {
   "cell_type": "code",
   "execution_count": 17,
   "id": "726f886f-49c6-485c-9072-7a5e37e2a1f5",
   "metadata": {
    "execution": {
     "iopub.execute_input": "2025-08-18T11:09:40.541192Z",
     "iopub.status.busy": "2025-08-18T11:09:40.541055Z",
     "iopub.status.idle": "2025-08-18T11:09:40.543505Z",
     "shell.execute_reply": "2025-08-18T11:09:40.543270Z",
     "shell.execute_reply.started": "2025-08-18T11:09:40.541183Z"
    }
   },
   "outputs": [],
   "source": [
    "from mqt.bench import get_benchmark\n",
    "from mqt.bench import CompilerSettings, QiskitSettings, TKETSettings, get_benchmark\n",
    "from qiskit import *\n",
    "import numpy as np"
   ]
  },
  {
   "cell_type": "code",
   "execution_count": 18,
   "id": "98b89055-2e48-4947-93c8-79fd42b9be42",
   "metadata": {
    "execution": {
     "iopub.execute_input": "2025-08-18T11:09:40.886547Z",
     "iopub.status.busy": "2025-08-18T11:09:40.886411Z",
     "iopub.status.idle": "2025-08-18T11:09:40.888884Z",
     "shell.execute_reply": "2025-08-18T11:09:40.888596Z",
     "shell.execute_reply.started": "2025-08-18T11:09:40.886537Z"
    }
   },
   "outputs": [],
   "source": [
    "min_qubit = 3 # maximum number of qubit\n",
    "max_qubit = 5 # minimum number of qubit\n",
    "gaps = 1"
   ]
  },
  {
   "cell_type": "code",
   "execution_count": 19,
   "id": "f714fe26-caa9-4ceb-8273-fe6c6c60fb46",
   "metadata": {
    "execution": {
     "iopub.execute_input": "2025-08-18T11:09:41.238145Z",
     "iopub.status.busy": "2025-08-18T11:09:41.238019Z",
     "iopub.status.idle": "2025-08-18T11:09:41.240435Z",
     "shell.execute_reply": "2025-08-18T11:09:41.240107Z",
     "shell.execute_reply.started": "2025-08-18T11:09:41.238137Z"
    }
   },
   "outputs": [],
   "source": [
    "def create_circuit(num_qubits: int) -> QuantumCircuit:\n",
    "    ae = AmplitudeEstimation(\n",
    "        num_eval_qubits=num_qubits - 1,  # -1 because of the to be estimated qubit\n",
    "    )\n",
    "    problem = get_estimation_problem()\n",
    "\n",
    "    qc = ae.construct_circuit(problem)\n",
    "    qc.name = \"ae\"\n",
    "    qc.measure_all()\n",
    "    return qc"
   ]
  },
  {
   "cell_type": "code",
   "execution_count": 20,
   "id": "9b41d2f3-c400-4ce1-a27f-f4026699c056",
   "metadata": {
    "execution": {
     "iopub.execute_input": "2025-08-18T11:09:41.621842Z",
     "iopub.status.busy": "2025-08-18T11:09:41.621644Z",
     "iopub.status.idle": "2025-08-18T11:09:41.642615Z",
     "shell.execute_reply": "2025-08-18T11:09:41.642323Z",
     "shell.execute_reply.started": "2025-08-18T11:09:41.621828Z"
    }
   },
   "outputs": [
    {
     "name": "stdout",
     "output_type": "stream",
     "text": [
      "---------------ae with qubit  3 ---------------\n",
      "---------------ae with qubit  4 ---------------\n",
      "=================================================================================================\n",
      "[(3, <qiskit.circuit.quantumcircuit.QuantumCircuit object at 0x75ce595d3080>), (4, <qiskit.circuit.quantumcircuit.QuantumCircuit object at 0x75ce5abd6900>)]\n"
     ]
    }
   ],
   "source": [
    "compiler_settings = CompilerSettings(qiskit=QiskitSettings(optimization_level=1))\n",
    "circuits= []\n",
    "for i in range(min_qubit, max_qubit, gaps):\n",
    "    qc = get_benchmark(benchmark_name=\"ae\",\n",
    "                       level=\"nativegates\",\n",
    "                       circuit_size=i,\n",
    "                       compiler=\"qiskit\",\n",
    "                       compiler_settings=compiler_settings,\n",
    "                       provider_name=\"ionq\",)\n",
    "    circuits.append((i,qc))\n",
    "    print(\"---------------ae with qubit \",i,\"---------------\")\n",
    "    #print(qc.draw())\n",
    "print(\"=================================================================================================\")\n",
    "print(circuits)"
   ]
  },
  {
   "cell_type": "code",
   "execution_count": 21,
   "id": "a1b4a1d1-fa64-464e-b87a-b84f6dfadfff",
   "metadata": {
    "execution": {
     "iopub.execute_input": "2025-08-18T11:09:42.062982Z",
     "iopub.status.busy": "2025-08-18T11:09:42.062846Z",
     "iopub.status.idle": "2025-08-18T11:09:42.072330Z",
     "shell.execute_reply": "2025-08-18T11:09:42.072077Z",
     "shell.execute_reply.started": "2025-08-18T11:09:42.062971Z"
    }
   },
   "outputs": [
    {
     "name": "stdout",
     "output_type": "stream",
     "text": [
      "[(3, {'010': 251, '100': 263, '000': 22, '011': 230, '110': 93, '001': 58, '111': 76, '101': 7}), (4, {'1011': 16, '1111': 206, '0111': 272, '0100': 229, '0011': 8, '1100': 189, '1110': 7, '1001': 2, '0010': 11, '0001': 3, '1000': 14, '1010': 22, '0000': 15, '0101': 1, '1101': 5})]\n"
     ]
    }
   ],
   "source": [
    "from qiskit_aer import AerSimulator\n",
    "from qiskit import *\n",
    "from qiskit.providers.fake_provider import *\n",
    "import numpy as np \n",
    "import os\n",
    "from qiskit.primitives import StatevectorSampler\n",
    "sampler = StatevectorSampler()\n",
    "\n",
    "jobs=[]\n",
    "\n",
    "for qubit_number,circuit_object in circuits: \n",
    "    job = sampler.run([circuit_object], shots=1000)\n",
    "    results = job.result()\n",
    "    counts= results[0].data[\"meas\"].get_counts()\n",
    "    #print(f\" > Counts: {results[0].data[\"meas\"].get_counts()}\")\n",
    "    jobs.append((qubit_number , counts))\n",
    "print(jobs)"
   ]
  },
  {
   "cell_type": "code",
   "execution_count": 22,
   "id": "8460ef94-730d-4496-be13-a7cdc918ebfe",
   "metadata": {
    "execution": {
     "iopub.execute_input": "2025-08-18T11:09:42.999577Z",
     "iopub.status.busy": "2025-08-18T11:09:42.999400Z",
     "iopub.status.idle": "2025-08-18T11:09:43.002349Z",
     "shell.execute_reply": "2025-08-18T11:09:43.002131Z",
     "shell.execute_reply.started": "2025-08-18T11:09:42.999567Z"
    }
   },
   "outputs": [],
   "source": [
    "def hellinger_fidelity_with_expected(p, q):\n",
    "    p_sum = sum(p.values())\n",
    "    q_sum = sum(q.values())\n",
    "    if q_sum == 0:\n",
    "        print(\"ERROR: polarization_fidelity(), expected distribution is invalid, all counts equal to 0\")\n",
    "        return 0\n",
    "    p_normed = {}\n",
    "    for key, val in p.items():\n",
    "        p_normed[key] = val/p_sum\n",
    "    q_normed = {}\n",
    "    for key, val in q.items():\n",
    "        q_normed[key] = val/q_sum\n",
    "    total = 0\n",
    "    for key, val in p_normed.items():\n",
    "        if key in q_normed.keys():\n",
    "            total += (np.sqrt(val) - np.sqrt(q_normed[key]))**2\n",
    "            del q_normed[key]\n",
    "        else:\n",
    "            total += val\n",
    "    total += sum(q_normed.values())\n",
    "    if total < 0:\n",
    "        print(\"WARNING: using absolute value in fidelity calculation\")\n",
    "        total = abs(total)\n",
    "        \n",
    "    dist = np.sqrt(total)/np.sqrt(2)\n",
    "    fidelity = (1-dist**2)**2\n",
    "\n",
    "    return fidelity"
   ]
  },
  {
   "cell_type": "code",
   "execution_count": 23,
   "id": "890f4e2d-3392-42c9-86ad-d6f2f8980618",
   "metadata": {
    "execution": {
     "iopub.execute_input": "2025-08-18T11:09:44.672714Z",
     "iopub.status.busy": "2025-08-18T11:09:44.672559Z",
     "iopub.status.idle": "2025-08-18T11:09:44.676201Z",
     "shell.execute_reply": "2025-08-18T11:09:44.675838Z",
     "shell.execute_reply.started": "2025-08-18T11:09:44.672705Z"
    }
   },
   "outputs": [
    {
     "name": "stdout",
     "output_type": "stream",
     "text": [
      "0.0\n",
      "0.5084446259221558\n",
      "[(3, 0.0), (4, 0.5084446259221558)]\n"
     ]
    }
   ],
   "source": [
    "from fidelity import *\n",
    "#device_dist1=[3, {'011': 242, '100': 277, '001': 57, '010': 231, '110': 70, '111': 81, '000': 35, '101': 7}, (4, {'0111': 233, '0100': 255, '1100': 210, '1110': 5, '1111': 213, '1010': 23, '1000': 11, '0010': 4, '0000': 11, '0011': 7, '0101': 3, '1011': 13, '1101': 5, '1001': 6, '0110': 1})]\n",
    "h_f = []\n",
    "for qubit_number,count in jobs:\n",
    "\n",
    "    ideal_dist = {}\n",
    "    if True:  # balanced case\n",
    "        non_zero_states = [format(i, '0{}b'.format(qubit_number)) for i in range(1, 2**qubit_number)]\n",
    "        prob = 1 / len(non_zero_states)\n",
    "        ideal_dist = {state: prob for state in non_zero_states}\n",
    "    else:  # constant case\n",
    "        ideal_dist = { '0'*qubit_number: 1.0 }\n",
    "    hf=hellinger_fidelity_with_expected(counts,ideal_dist)\n",
    "    h_f.append((qubit_number , hf))\n",
    "    print(hf)\n",
    "print(h_f)"
   ]
  },
  {
   "cell_type": "code",
   "execution_count": 14,
   "id": "318295bf-7a69-4a3e-b94f-e474b5024557",
   "metadata": {
    "execution": {
     "iopub.execute_input": "2025-08-18T11:07:25.809830Z",
     "iopub.status.busy": "2025-08-18T11:07:25.809648Z",
     "iopub.status.idle": "2025-08-18T11:07:25.813587Z",
     "shell.execute_reply": "2025-08-18T11:07:25.813293Z",
     "shell.execute_reply.started": "2025-08-18T11:07:25.809818Z"
    }
   },
   "outputs": [],
   "source": [
    "def hellinger_fidelity_with_expected(p, q):  # p:result distribution,passed as a counts  & q: the expected distribution\n",
    "    p_sum, q_sum = sum(p.values()), sum(q.values())\n",
    "    if q_sum == 0:\n",
    "        print(\"ERROR: expected distribution invalid (all counts = 0)\"); return 0\n",
    "    \n",
    "    p_norm = {k: v/p_sum for k, v in p.items()}\n",
    "    q_norm = {k: v/q_sum for k, v in q.items()}\n",
    "    total = sum((np.sqrt(p_norm[k]) - np.sqrt(q_norm.pop(k)))**2 if k in q_norm else v\n",
    "                for k, v in p_norm.items()) + sum(q_norm.values())\n",
    "    if total < 0:\n",
    "        print(\"WARNING: abs value in fidelity calc\"); total = abs(total)\n",
    "    dist = np.sqrt(total)/np.sqrt(2)\n",
    "    return (1 - dist**2)**2\n",
    "\n",
    "def rescale_fidelity(f, floor, new_floor):\n",
    "    r = (1-new_floor)/(1-floor) * (f - 1) + 1\n",
    "    return max(0, min(1, r))\n",
    "\n",
    "def polarization_fidelity(counts, correct_dist, thermal_dist=None): \n",
    "    '''     counts: the measurement outcomes after `num_shots` algorithm runs\n",
    "                        correct_dist: the distribution we expect to get for the algorithm running perfectly\n",
    "                        thermal_dist: optional distribution to pass in distribution from a uniform superposition over all states. If `None`: generated as \n",
    "                        uniform_dist` with the same qubits as in `counts`'''\n",
    "    n = len(next(iter(correct_dist)))                            # get length of random key in correct_dist to find how many qubits measured\n",
    "    counts = {k.zfill(n): v for k, v in counts.items()}          # ensure that all keys in counts are zero padded to this length\n",
    "    hf = hellinger_fidelity_with_expected(counts, correct_dist)   # calculate hellinger fidelity between measured expectation values and correct distribution\n",
    "    if n > 16: return {'fidelity': hf, 'hf_fidelity': hf}         # to limit cpu and memory utilization, skip noise correction if more than 16 measured qubits  & if not provided, generate thermal dist based on number of qubits\n",
    "    if thermal_dist is None: thermal_dist = uniform_dist(n)      # set our fidelity rescaling value as the hellinger fidelity for a depolarized state\n",
    "    floor = hellinger_fidelity_with_expected(thermal_dist, correct_dist)   # rescale fidelity result so uniform superposition (random guessing) returns fidelity\n",
    "      \n",
    "    # rescaled to 0 to provide a better measure of success of the algorithm (polarization)return {'fidelity': rescale_fidelity(hf, floor, 0), 'hf_fidelity': hf}\n"
   ]
  },
  {
   "cell_type": "code",
   "execution_count": 16,
   "id": "ce068936-0f3b-4740-b04f-8c0c6008e71c",
   "metadata": {
    "execution": {
     "iopub.execute_input": "2025-08-18T11:07:39.531785Z",
     "iopub.status.busy": "2025-08-18T11:07:39.531600Z",
     "iopub.status.idle": "2025-08-18T11:07:39.540583Z",
     "shell.execute_reply": "2025-08-18T11:07:39.540232Z",
     "shell.execute_reply.started": "2025-08-18T11:07:39.531774Z"
    }
   },
   "outputs": [
    {
     "ename": "NameError",
     "evalue": "name 'correct_dist' is not defined",
     "output_type": "error",
     "traceback": [
      "\u001b[0;31m---------------------------------------------------------------------------\u001b[0m",
      "\u001b[0;31mNameError\u001b[0m                                 Traceback (most recent call last)",
      "Cell \u001b[0;32mIn[16], line 1\u001b[0m\n\u001b[0;32m----> 1\u001b[0m fidelity \u001b[38;5;241m=\u001b[39m polarization_fidelity(counts, \u001b[43mcorrect_dist\u001b[49m)\n",
      "\u001b[0;31mNameError\u001b[0m: name 'correct_dist' is not defined"
     ]
    }
   ],
   "source": [
    "for qubit_number,counts\n",
    "fidelity = hellinger_fidelity_with_expected(counts, correct_dist)"
   ]
  },
  {
   "cell_type": "code",
   "execution_count": null,
   "id": "adc78cc1-2da7-4cf8-b963-7ffeaf77cb5c",
   "metadata": {},
   "outputs": [],
   "source": []
  }
 ],
 "metadata": {
  "kernelspec": {
   "display_name": "Python 3 (ipykernel)",
   "language": "python",
   "name": "python3"
  },
  "language_info": {
   "codemirror_mode": {
    "name": "ipython",
    "version": 3
   },
   "file_extension": ".py",
   "mimetype": "text/x-python",
   "name": "python",
   "nbconvert_exporter": "python",
   "pygments_lexer": "ipython3",
   "version": "3.12.0"
  }
 },
 "nbformat": 4,
 "nbformat_minor": 5
}
