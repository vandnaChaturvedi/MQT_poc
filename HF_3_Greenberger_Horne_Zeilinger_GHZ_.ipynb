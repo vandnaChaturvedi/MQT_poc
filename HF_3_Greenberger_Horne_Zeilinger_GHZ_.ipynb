{
 "cells": [
  {
   "cell_type": "code",
   "execution_count": 10,
   "id": "726f886f-49c6-485c-9072-7a5e37e2a1f5",
   "metadata": {
    "execution": {
     "iopub.execute_input": "2025-02-05T10:28:37.885823Z",
     "iopub.status.busy": "2025-02-05T10:28:37.885633Z",
     "iopub.status.idle": "2025-02-05T10:28:37.888386Z",
     "shell.execute_reply": "2025-02-05T10:28:37.888018Z",
     "shell.execute_reply.started": "2025-02-05T10:28:37.885813Z"
    }
   },
   "outputs": [],
   "source": [
    "from mqt.bench import CompilerSettings, QiskitSettings, TKETSettings, get_benchmark\n",
    "from qiskit import *\n",
    "import numpy as np"
   ]
  },
  {
   "cell_type": "code",
   "execution_count": 10,
   "id": "9b41d2f3-c400-4ce1-a27f-f4026699c056",
   "metadata": {
    "execution": {
     "iopub.execute_input": "2025-01-16T06:36:48.186922Z",
     "iopub.status.busy": "2025-01-16T06:36:48.186727Z",
     "iopub.status.idle": "2025-01-16T06:36:48.195991Z",
     "shell.execute_reply": "2025-01-16T06:36:48.195590Z",
     "shell.execute_reply.started": "2025-01-16T06:36:48.186908Z"
    }
   },
   "outputs": [
    {
     "name": "stdout",
     "output_type": "stream",
     "text": [
      "---------------ghz---------------\n",
      "                                                      ┌───────────┐┌──────────┐»\n",
      "   q_0: ──────────────────────────────────────────────┤1          ├┤ Rx(-π/2) ├»\n",
      "                 ┌───────────┐┌──────────┐┌─────────┐ │  Rxx(π/2) │├──────────┤»\n",
      "   q_1: ─────────┤1          ├┤ Rx(-π/2) ├┤ Ry(π/2) ├─┤0          ├┤ Rx(-π/2) ├»\n",
      "        ┌───────┐│  Rxx(π/2) │├──────────┤├─────────┴┐└───────────┘└──────────┘»\n",
      "   q_2: ┤ Rx(π) ├┤0          ├┤ Rx(-π/2) ├┤ Ry(-π/2) ├─────────────────────────»\n",
      "        └───────┘└───────────┘└──────────┘└──────────┘                         »\n",
      "meas: 3/═══════════════════════════════════════════════════════════════════════»\n",
      "                                                                               »\n",
      "«                     ░ ┌─┐      \n",
      "«   q_0: ─────────────░─┤M├──────\n",
      "«        ┌──────────┐ ░ └╥┘┌─┐   \n",
      "«   q_1: ┤ Ry(-π/2) ├─░──╫─┤M├───\n",
      "«        └──────────┘ ░  ║ └╥┘┌─┐\n",
      "«   q_2: ─────────────░──╫──╫─┤M├\n",
      "«                     ░  ║  ║ └╥┘\n",
      "«meas: 3/════════════════╩══╩══╩═\n",
      "«                        0  1  2 \n",
      "=================================================================================================\n"
     ]
    }
   ],
   "source": [
    "q_num=3 #number of choosen qubit\n",
    "compiler_settings = CompilerSettings(qiskit=QiskitSettings(optimization_level=1))\n",
    "qc = get_benchmark(\n",
    "benchmark_name=\"ghz\",\n",
    "level=\"nativegates\",\n",
    "circuit_size=q_num,\n",
    "compiler=\"qiskit\",\n",
    "compiler_settings=compiler_settings,\n",
    "provider_name=\"ionq\",)\n",
    "print(\"---------------ghz---------------\")\n",
    "print(qc.draw())\n",
    "print(\"=================================================================================================\")"
   ]
  },
  {
   "cell_type": "code",
   "execution_count": 14,
   "id": "a1b4a1d1-fa64-464e-b87a-b84f6dfadfff",
   "metadata": {
    "execution": {
     "iopub.execute_input": "2025-02-05T10:29:02.335960Z",
     "iopub.status.busy": "2025-02-05T10:29:02.335786Z",
     "iopub.status.idle": "2025-02-05T10:29:02.343326Z",
     "shell.execute_reply": "2025-02-05T10:29:02.343049Z",
     "shell.execute_reply.started": "2025-02-05T10:29:02.335949Z"
    }
   },
   "outputs": [
    {
     "name": "stdout",
     "output_type": "stream",
     "text": [
      " > Counts: {'101': 164, '001': 164, '100': 155, '011': 170, '010': 165, '110': 182}\n"
     ]
    }
   ],
   "source": [
    "from qiskit_aer import AerSimulator\n",
    "from qiskit import *\n",
    "from qiskit.providers.fake_provider import *\n",
    "import numpy as np \n",
    "import os\n",
    "from qiskit.primitives import StatevectorSampler\n",
    "sampler = StatevectorSampler()\n",
    "job = sampler.run([qc], shots=1000)\n",
    "result = job.result()\n",
    "counts= result[0].data[\"meas\"].get_counts()\n",
    "print(f\" > Counts: {result[0].data[\"meas\"].get_counts()}\")"
   ]
  },
  {
   "cell_type": "code",
   "execution_count": 29,
   "id": "9b4d46ed-f24e-4910-bf56-42d900578887",
   "metadata": {
    "execution": {
     "iopub.execute_input": "2025-01-16T06:46:23.725760Z",
     "iopub.status.busy": "2025-01-16T06:46:23.725619Z",
     "iopub.status.idle": "2025-01-16T06:46:23.728350Z",
     "shell.execute_reply": "2025-01-16T06:46:23.728090Z",
     "shell.execute_reply.started": "2025-01-16T06:46:23.725751Z"
    }
   },
   "outputs": [
    {
     "name": "stdout",
     "output_type": "stream",
     "text": [
      "Hellinger fidelity 99.98559792580258 %\n"
     ]
    }
   ],
   "source": [
    "from qiskit.quantum_info import hellinger_fidelity\n",
    "ideal_dist = {b * q_num: 0.5 for b in [\"0\", \"1\"]}\n",
    "total_shots = sum(counts.values())\n",
    "device_dist = {bitstr: count / total_shots for bitstr, count in counts.items()}\n",
    "hf = hellinger_fidelity(ideal_dist, device_dist) #formula of Hellinger fidelity between two distributions p and q is given by $(\\sum_i{p_i q_i})^2$ as FLOAT.\n",
    "print(\"Hellinger fidelity\",hf*100,\"%\")"
   ]
  },
  {
   "cell_type": "code",
   "execution_count": 41,
   "id": "2a4f5e4c-3cb0-40cb-8aab-a776723a59df",
   "metadata": {
    "execution": {
     "iopub.execute_input": "2025-01-16T06:55:41.358252Z",
     "iopub.status.busy": "2025-01-16T06:55:41.358003Z",
     "iopub.status.idle": "2025-01-16T06:55:41.404062Z",
     "shell.execute_reply": "2025-01-16T06:55:41.403729Z",
     "shell.execute_reply.started": "2025-01-16T06:55:41.358240Z"
    }
   },
   "outputs": [
    {
     "data": {
      "image/png": "[encoded data removed]",
      "text/plain": [
       "<Figure size 640x480 with 1 Axes>"
      ]
     },
     "execution_count": 41,
     "metadata": {},
     "output_type": "execute_result"
    }
   ],
   "source": [
    "from qiskit.visualization import plot_histogram\n",
    "legend = ['Ideal', 'Current']\n",
    "plot_histogram([ideal_dist, device_dist], legend=legend, color=['skyblue','lightgreen'],title=\"Visual Comparision of Counts\")"
   ]
  }
 ],
 "metadata": {
  "kernelspec": {
   "display_name": "Python 3 (ipykernel)",
   "language": "python",
   "name": "python3"
  },
  "language_info": {
   "codemirror_mode": {
    "name": "ipython",
    "version": 3
   },
   "file_extension": ".py",
   "mimetype": "text/x-python",
   "name": "python",
   "nbconvert_exporter": "python",
   "pygments_lexer": "ipython3",
   "version": "3.12.0"
  }
 },
 "nbformat": 4,
 "nbformat_minor": 5
}
