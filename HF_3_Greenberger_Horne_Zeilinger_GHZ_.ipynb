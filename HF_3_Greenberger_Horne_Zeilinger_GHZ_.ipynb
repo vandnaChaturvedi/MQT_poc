{
 "cells": [
  {
   "cell_type": "code",
   "execution_count": 2,
   "id": "726f886f-49c6-485c-9072-7a5e37e2a1f5",
   "metadata": {
    "execution": {
     "iopub.execute_input": "2025-08-08T10:21:37.102496Z",
     "iopub.status.busy": "2025-08-08T10:21:37.102311Z",
     "iopub.status.idle": "2025-08-08T10:21:38.419781Z",
     "shell.execute_reply": "2025-08-08T10:21:38.419386Z",
     "shell.execute_reply.started": "2025-08-08T10:21:37.102481Z"
    }
   },
   "outputs": [],
   "source": [
    "from mqt.bench import CompilerSettings, QiskitSettings, TKETSettings, get_benchmark\n",
    "from qiskit import *\n",
    "import numpy as np"
   ]
  },
  {
   "cell_type": "code",
   "execution_count": 3,
   "id": "9b41d2f3-c400-4ce1-a27f-f4026699c056",
   "metadata": {
    "execution": {
     "iopub.execute_input": "2025-08-08T10:21:38.420561Z",
     "iopub.status.busy": "2025-08-08T10:21:38.420355Z",
     "iopub.status.idle": "2025-08-08T10:21:39.078020Z",
     "shell.execute_reply": "2025-08-08T10:21:39.077695Z",
     "shell.execute_reply.started": "2025-08-08T10:21:38.420551Z"
    }
   },
   "outputs": [
    {
     "name": "stdout",
     "output_type": "stream",
     "text": [
      "---------------ghz---------------\n",
      "                                                      ┌───────────┐┌──────────┐»\n",
      "   q_0: ──────────────────────────────────────────────┤1          ├┤ Rx(-π/2) ├»\n",
      "                 ┌───────────┐┌──────────┐┌─────────┐ │  Rxx(π/2) │├──────────┤»\n",
      "   q_1: ─────────┤1          ├┤ Rx(-π/2) ├┤ Ry(π/2) ├─┤0          ├┤ Rx(-π/2) ├»\n",
      "        ┌───────┐│  Rxx(π/2) │├──────────┤├─────────┴┐└───────────┘└──────────┘»\n",
      "   q_2: ┤ Rx(π) ├┤0          ├┤ Rx(-π/2) ├┤ Ry(-π/2) ├─────────────────────────»\n",
      "        └───────┘└───────────┘└──────────┘└──────────┘                         »\n",
      "meas: 3/═══════════════════════════════════════════════════════════════════════»\n",
      "                                                                               »\n",
      "«                     ░ ┌─┐      \n",
      "«   q_0: ─────────────░─┤M├──────\n",
      "«        ┌──────────┐ ░ └╥┘┌─┐   \n",
      "«   q_1: ┤ Ry(-π/2) ├─░──╫─┤M├───\n",
      "«        └──────────┘ ░  ║ └╥┘┌─┐\n",
      "«   q_2: ─────────────░──╫──╫─┤M├\n",
      "«                     ░  ║  ║ └╥┘\n",
      "«meas: 3/════════════════╩══╩══╩═\n",
      "«                        0  1  2 \n",
      "=================================================================================================\n"
     ]
    }
   ],
   "source": [
    "q_num=3 #number of choosen qubit\n",
    "compiler_settings = CompilerSettings(qiskit=QiskitSettings(optimization_level=1))\n",
    "qc = get_benchmark(\n",
    "benchmark_name=\"ghz\",\n",
    "level=\"nativegates\",\n",
    "circuit_size=q_num,\n",
    "compiler=\"qiskit\",\n",
    "compiler_settings=compiler_settings,\n",
    "provider_name=\"ionq\",)\n",
    "print(\"---------------ghz---------------\")\n",
    "print(qc.draw())\n",
    "print(\"=================================================================================================\")"
   ]
  },
  {
   "cell_type": "code",
   "execution_count": 4,
   "id": "a1b4a1d1-fa64-464e-b87a-b84f6dfadfff",
   "metadata": {
    "execution": {
     "iopub.execute_input": "2025-08-08T10:21:39.078578Z",
     "iopub.status.busy": "2025-08-08T10:21:39.078295Z",
     "iopub.status.idle": "2025-08-08T10:21:39.088155Z",
     "shell.execute_reply": "2025-08-08T10:21:39.087830Z",
     "shell.execute_reply.started": "2025-08-08T10:21:39.078562Z"
    }
   },
   "outputs": [
    {
     "name": "stdout",
     "output_type": "stream",
     "text": [
      " > Counts: {'111': 468, '000': 532}\n"
     ]
    }
   ],
   "source": [
    "from qiskit_aer import AerSimulator\n",
    "from qiskit import *\n",
    "from qiskit.providers.fake_provider import *\n",
    "import numpy as np \n",
    "import os\n",
    "from qiskit.primitives import StatevectorSampler\n",
    "sampler = StatevectorSampler()\n",
    "job = sampler.run([qc], shots=1000)\n",
    "result = job.result()\n",
    "counts= result[0].data[\"meas\"].get_counts()\n",
    "print(f\" > Counts: {result[0].data[\"meas\"].get_counts()}\")"
   ]
  },
  {
   "cell_type": "code",
   "execution_count": 5,
   "id": "9b4d46ed-f24e-4910-bf56-42d900578887",
   "metadata": {
    "execution": {
     "iopub.execute_input": "2025-08-08T10:21:39.088741Z",
     "iopub.status.busy": "2025-08-08T10:21:39.088611Z",
     "iopub.status.idle": "2025-08-08T10:21:39.144988Z",
     "shell.execute_reply": "2025-08-08T10:21:39.144529Z",
     "shell.execute_reply.started": "2025-08-08T10:21:39.088731Z"
    }
   },
   "outputs": [
    {
     "name": "stdout",
     "output_type": "stream",
     "text": [
      "Hellinger fidelity 99.8974949271003 %\n"
     ]
    }
   ],
   "source": [
    "from qiskit.quantum_info import hellinger_fidelity\n",
    "ideal_dist = {b * q_num: 0.5 for b in [\"0\", \"1\"]}\n",
    "total_shots = sum(counts.values())\n",
    "device_dist = {bitstr: count / total_shots for bitstr, count in counts.items()}\n",
    "hf = hellinger_fidelity(ideal_dist, device_dist) #formula of Hellinger fidelity between two distributions p and q is given by $(\\sum_i{p_i q_i})^2$ as FLOAT.\n",
    "print(\"Hellinger fidelity\",hf*100,\"%\")"
   ]
  },
  {
   "cell_type": "code",
   "execution_count": 6,
   "id": "2a4f5e4c-3cb0-40cb-8aab-a776723a59df",
   "metadata": {
    "execution": {
     "iopub.execute_input": "2025-08-08T10:21:39.145565Z",
     "iopub.status.busy": "2025-08-08T10:21:39.145411Z",
     "iopub.status.idle": "2025-08-08T10:21:39.886301Z",
     "shell.execute_reply": "2025-08-08T10:21:39.885929Z",
     "shell.execute_reply.started": "2025-08-08T10:21:39.145552Z"
    }
   },
   "outputs": [
    {
     "data": {
      "image/png": "[encoded data removed]",
      "text/plain": [
       "<Figure size 640x480 with 1 Axes>"
      ]
     },
     "execution_count": 6,
     "metadata": {},
     "output_type": "execute_result"
    }
   ],
   "source": [
    "from qiskit.visualization import plot_histogram\n",
    "legend = ['Ideal', 'Current']\n",
    "plot_histogram([ideal_dist, device_dist], legend=legend, color=['skyblue','lightgreen'],title=\"Visual Comparision of Counts\")"
   ]
  },
  {
   "cell_type": "code",
   "execution_count": 7,
   "id": "1d2d2b0d-4f0b-433b-9965-041001960b07",
   "metadata": {
    "execution": {
     "iopub.execute_input": "2025-08-08T10:21:52.689152Z",
     "iopub.status.busy": "2025-08-08T10:21:52.688907Z",
     "iopub.status.idle": "2025-08-08T10:21:52.692056Z",
     "shell.execute_reply": "2025-08-08T10:21:52.691698Z",
     "shell.execute_reply.started": "2025-08-08T10:21:52.689136Z"
    }
   },
   "outputs": [
    {
     "data": {
      "text/plain": [
       "0.9989749492710029"
      ]
     },
     "execution_count": 7,
     "metadata": {},
     "output_type": "execute_result"
    }
   ],
   "source": [
    "from fidelity import uniform_dist,rescale_fidelity,polarization_fidelity,hellinger_fidelity_with_expected\n",
    "hellinger_fidelity_with_expected(counts,ideal_dist)"
   ]
  },
  {
   "cell_type": "code",
   "execution_count": null,
   "id": "cacbd0b4-3b1b-4427-8188-a84a6e64ea4a",
   "metadata": {},
   "outputs": [],
   "source": []
  }
 ],
 "metadata": {
  "kernelspec": {
   "display_name": "Python 3 (ipykernel)",
   "language": "python",
   "name": "python3"
  },
  "language_info": {
   "codemirror_mode": {
    "name": "ipython",
    "version": 3
   },
   "file_extension": ".py",
   "mimetype": "text/x-python",
   "name": "python",
   "nbconvert_exporter": "python",
   "pygments_lexer": "ipython3",
   "version": "3.12.0"
  }
 },
 "nbformat": 4,
 "nbformat_minor": 5
}
