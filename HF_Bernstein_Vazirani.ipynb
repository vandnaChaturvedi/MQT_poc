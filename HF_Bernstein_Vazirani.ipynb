{
 "cells": [
  {
   "cell_type": "code",
   "execution_count": 1,
   "id": "726f886f-49c6-485c-9072-7a5e37e2a1f5",
   "metadata": {
    "execution": {
     "iopub.execute_input": "2025-08-21T09:32:08.790071Z",
     "iopub.status.busy": "2025-08-21T09:32:08.789576Z",
     "iopub.status.idle": "2025-08-21T09:32:10.084467Z",
     "shell.execute_reply": "2025-08-21T09:32:10.084110Z",
     "shell.execute_reply.started": "2025-08-21T09:32:08.790056Z"
    }
   },
   "outputs": [],
   "source": [
    "from mqt.bench import get_benchmark\n",
    "from mqt.bench import CompilerSettings, QiskitSettings, TKETSettings, get_benchmark\n",
    "from qiskit import *\n",
    "import numpy as np"
   ]
  },
  {
   "cell_type": "code",
   "execution_count": 2,
   "id": "98b89055-2e48-4947-93c8-79fd42b9be42",
   "metadata": {
    "execution": {
     "iopub.execute_input": "2025-08-21T09:32:10.084931Z",
     "iopub.status.busy": "2025-08-21T09:32:10.084741Z",
     "iopub.status.idle": "2025-08-21T09:32:10.086750Z",
     "shell.execute_reply": "2025-08-21T09:32:10.086396Z",
     "shell.execute_reply.started": "2025-08-21T09:32:10.084921Z"
    }
   },
   "outputs": [],
   "source": [
    "min_qubit = 3 # maximum number of qubit\n",
    "max_qubit = 8 # minimum number of qubit\n",
    "gaps = 1"
   ]
  },
  {
   "cell_type": "code",
   "execution_count": 3,
   "id": "eecefd6a-0f0b-4533-85f3-49dbbbcbbe4c",
   "metadata": {
    "execution": {
     "iopub.execute_input": "2025-08-21T09:32:10.087778Z",
     "iopub.status.busy": "2025-08-21T09:32:10.087556Z",
     "iopub.status.idle": "2025-08-21T09:32:10.155804Z",
     "shell.execute_reply": "2025-08-21T09:32:10.155435Z",
     "shell.execute_reply.started": "2025-08-21T09:32:10.087763Z"
    }
   },
   "outputs": [
    {
     "name": "stdout",
     "output_type": "stream",
     "text": [
      "\n",
      "--- Bernstein–Vazirani with n=3, secret=101 ---\n",
      "=================================================================================================\n",
      "\n",
      "--- Bernstein–Vazirani with n=4, secret=0111 ---\n",
      "=================================================================================================\n",
      "\n",
      "--- Bernstein–Vazirani with n=5, secret=11110 ---\n",
      "=================================================================================================\n",
      "\n",
      "--- Bernstein–Vazirani with n=6, secret=010001 ---\n",
      "=================================================================================================\n",
      "\n",
      "--- Bernstein–Vazirani with n=7, secret=0000111 ---\n",
      "=================================================================================================\n",
      "circtuit dictionary [(3, <qiskit.circuit.quantumcircuit.QuantumCircuit object at 0x7765a9fdda90>), (4, <qiskit.circuit.quantumcircuit.QuantumCircuit object at 0x776502a5df10>), (5, <qiskit.circuit.quantumcircuit.QuantumCircuit object at 0x776502b9ab40>), (6, <qiskit.circuit.quantumcircuit.QuantumCircuit object at 0x776502c1f9b0>), (7, <qiskit.circuit.quantumcircuit.QuantumCircuit object at 0x776502aae3f0>)]\n",
      "secret-keys Qubit wise [(3, '101'), (4, '0111'), (5, '11110'), (6, '010001'), (7, '0000111')]\n"
     ]
    }
   ],
   "source": [
    "compiler_settings = CompilerSettings(qiskit=QiskitSettings(optimization_level=1))\n",
    "circuits= []\n",
    "secret_keys=[]\n",
    "import random\n",
    "def build_bv_circuit(n, secret_string : str = None):\n",
    "#Building a Bernstein–Vazirani circuit with n input qubits. If secret_string is not given, generate a random one.\n",
    "    if secret_string is None:\n",
    "        secret_string = ''.join(random.choice(\"01\") for _ in range(n)) \n",
    "    qc = QuantumCircuit(n+1, n) # Create circuit with n input qubits + 1 ancilla\n",
    "    qc.x(n)               # put ancilla in |1>\n",
    "    qc.h(range(n+1))      # apply H to all qubits\n",
    "    # Oracle for s\n",
    "    for i, bit in enumerate(secret_string):\n",
    "        if bit == \"1\":\n",
    "            qc.cx(i, n)\n",
    "    qc.h(range(n))\n",
    "    qc.measure(range(n), range(n))    \n",
    "    return qc, secret_string\n",
    "\n",
    "for n in range(min_qubit, max_qubit, gaps):  # step = 1 by default\n",
    "    qc, secret = build_bv_circuit(n)\n",
    "    circuits.append((n,qc))\n",
    "    secret_keys.append((n,secret))\n",
    "    print(f\"\\n--- Bernstein–Vazirani with n={n}, secret={secret} ---\")\n",
    "    #print(qc.draw())\n",
    "    print(\"=================================================================================================\")\n",
    "print(\"circtuit dictionary\",circuits)\n",
    "print(\"secret-keys Qubit wise\",secret_keys)"
   ]
  },
  {
   "cell_type": "code",
   "execution_count": 4,
   "id": "a1b4a1d1-fa64-464e-b87a-b84f6dfadfff",
   "metadata": {
    "execution": {
     "iopub.execute_input": "2025-08-21T09:32:10.156184Z",
     "iopub.status.busy": "2025-08-21T09:32:10.156065Z",
     "iopub.status.idle": "2025-08-21T09:32:10.215037Z",
     "shell.execute_reply": "2025-08-21T09:32:10.214691Z",
     "shell.execute_reply.started": "2025-08-21T09:32:10.156174Z"
    }
   },
   "outputs": [
    {
     "name": "stdout",
     "output_type": "stream",
     "text": [
      "[(3, {'101': 1000}), (4, {'1110': 1000}), (5, {'01111': 1000}), (6, {'100010': 1000}), (7, {'1110000': 1000})]\n"
     ]
    }
   ],
   "source": [
    "from qiskit_aer import AerSimulator\n",
    "from qiskit import *\n",
    "from qiskit.providers.fake_provider import *\n",
    "import numpy as np \n",
    "import os\n",
    "from qiskit.primitives import StatevectorSampler\n",
    "sampler = AerSimulator()\n",
    "jobs=[]\n",
    "for qubit_number,circuit_object in circuits: \n",
    "    job = sampler.run([circuit_object], shots=1000)\n",
    "    results = job.result()\n",
    "    counts= results.get_counts()\n",
    "    jobs.append((qubit_number , counts))\n",
    "print(jobs)"
   ]
  },
  {
   "cell_type": "code",
   "execution_count": 24,
   "id": "868d90c4-e4d3-4baa-ae11-513fe28a46a4",
   "metadata": {
    "execution": {
     "iopub.execute_input": "2025-08-21T09:45:59.936389Z",
     "iopub.status.busy": "2025-08-21T09:45:59.936226Z",
     "iopub.status.idle": "2025-08-21T09:45:59.940066Z",
     "shell.execute_reply": "2025-08-21T09:45:59.939721Z",
     "shell.execute_reply.started": "2025-08-21T09:45:59.936378Z"
    }
   },
   "outputs": [
    {
     "name": "stdout",
     "output_type": "stream",
     "text": [
      "-----------------\n",
      "{'101': 1000} {'101': 1000}\n",
      "-----------------\n",
      "The number of Qubit is:  3 and the Secret String is: 101 and calucated Hellinger Fidelity: score is 1.0\n",
      "-----------------\n",
      "{'1110': 1000} {'1110': 1000}\n",
      "-----------------\n",
      "The number of Qubit is:  4 and the Secret String is: 1110 and calucated Hellinger Fidelity: score is 1.0\n",
      "-----------------\n",
      "{'01111': 1000} {'01111': 1000}\n",
      "-----------------\n",
      "The number of Qubit is:  5 and the Secret String is: 01111 and calucated Hellinger Fidelity: score is 1.0\n",
      "-----------------\n",
      "{'100010': 1000} {'100010': 1000}\n",
      "-----------------\n",
      "The number of Qubit is:  6 and the Secret String is: 100010 and calucated Hellinger Fidelity: score is 1.0\n",
      "-----------------\n",
      "{'1110000': 1000} {'1110000': 1000}\n",
      "-----------------\n",
      "The number of Qubit is:  7 and the Secret String is: 1110000 and calucated Hellinger Fidelity: score is 1.0\n"
     ]
    }
   ],
   "source": [
    "# -------------------------------\n",
    "# Hellinger Fidelity Implementation\n",
    "# -------------------------------\n",
    "def hellinger_fidelity_with_expected(p, q):\n",
    "    \"\"\"Compute Hellinger fidelity between measured distribution p (counts)\n",
    "       and expected distribution q (counts).\n",
    "       Both p and q should be dictionaries: {bitstring: counts}.\"\"\"\n",
    "    p_sum, q_sum = sum(p.values()), sum(q.values())\n",
    "    if q_sum == 0:\n",
    "        raise ValueError(\"Expected distribution invalid (all counts = 0)\")\n",
    "    p_norm = {k: v / p_sum for k, v in p.items()}\n",
    "    q_norm = {k: v / q_sum for k, v in q.items()}\n",
    "    print(\"-----------------\")\n",
    "    print(p,q)\n",
    "    print(\"-----------------\")\n",
    "    overlap = 0.0\n",
    "    for k in set(p_norm) | set(q_norm):  # union of keys\n",
    "        overlap += np.sqrt(p_norm.get(k, 0) * q_norm.get(k, 0))\n",
    "    return overlap**2\n",
    "    \n",
    "h_f=[]\n",
    "for qubit,result in jobs:\n",
    "    for secret_string,count in result.items():\n",
    "        expected = {secret_string: 1000}   # or {secret_string: 1} works the same (it normalizes internally)\n",
    "        calculated ={secret_string: count} \n",
    "        fidelity = hellinger_fidelity_with_expected(calculated, expected)\n",
    "        h_f.append((qubit,fidelity))\n",
    "        print(\"The number of Qubit is: \",qubit,\"and the Secret String is:\", secret_string,\"and calucated Hellinger Fidelity: score is\",fidelity)   "
   ]
  },
  {
   "cell_type": "code",
   "execution_count": null,
   "id": "28a4b744-8bfb-47aa-96e7-f4a9b0fce3a1",
   "metadata": {},
   "outputs": [],
   "source": []
  }
 ],
 "metadata": {
  "kernelspec": {
   "display_name": "Python 3 (ipykernel)",
   "language": "python",
   "name": "python3"
  },
  "language_info": {
   "codemirror_mode": {
    "name": "ipython",
    "version": 3
   },
   "file_extension": ".py",
   "mimetype": "text/x-python",
   "name": "python",
   "nbconvert_exporter": "python",
   "pygments_lexer": "ipython3",
   "version": "3.12.0"
  }
 },
 "nbformat": 4,
 "nbformat_minor": 5
}
