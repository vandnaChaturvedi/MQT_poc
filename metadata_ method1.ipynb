{
 "cells": [
  {
   "cell_type": "code",
   "execution_count": 6,
   "id": "1721bb64-be22-44a4-976f-96b65264b61d",
   "metadata": {
    "execution": {
     "iopub.execute_input": "2024-12-12T06:21:54.693579Z",
     "iopub.status.busy": "2024-12-12T06:21:54.693180Z",
     "iopub.status.idle": "2024-12-12T06:21:54.696384Z",
     "shell.execute_reply": "2024-12-12T06:21:54.696007Z",
     "shell.execute_reply.started": "2024-12-12T06:21:54.693561Z"
    }
   },
   "outputs": [],
   "source": [
    "from mqt.bench import get_benchmark\n",
    "from mqt.bench import CompilerSettings, QiskitSettings, TKETSettings, get_benchmark"
   ]
  },
  {
   "cell_type": "markdown",
   "id": "94128a06-3f20-46e2-8983-262accd317d8",
   "metadata": {},
   "source": [
    "def get_benchmark(benchmark_name: str,level: str | int,\n",
    "    circuit_size: int | None = None,benchmark_instance_name: str | None = None,\n",
    "    compiler: str = \"qiskit\",compiler_settings: CompilerSettings | None = None,\n",
    "    provider_name: str = \"ibm\",device_name: str = \"ibm_washington\",**kwargs: str,\n",
    ") -> QuantumCircuit | Circuit: \n"
   ]
  },
  {
   "cell_type": "code",
   "execution_count": 7,
   "id": "bf4b3121-f250-4f33-8fc6-94d1fa6a6d16",
   "metadata": {
    "execution": {
     "iopub.execute_input": "2024-12-12T06:21:55.152192Z",
     "iopub.status.busy": "2024-12-12T06:21:55.152011Z",
     "iopub.status.idle": "2024-12-12T06:21:55.159245Z",
     "shell.execute_reply": "2024-12-12T06:21:55.158795Z",
     "shell.execute_reply.started": "2024-12-12T06:21:55.152180Z"
    }
   },
   "outputs": [
    {
     "name": "stdout",
     "output_type": "stream",
     "text": [
      "---------------ghz---------------\n",
      "                                                      ┌───────────┐┌──────────┐»\n",
      "   q_0: ──────────────────────────────────────────────┤1          ├┤ Rx(-π/2) ├»\n",
      "                 ┌───────────┐┌──────────┐┌─────────┐ │  Rxx(π/2) │├──────────┤»\n",
      "   q_1: ─────────┤1          ├┤ Rx(-π/2) ├┤ Ry(π/2) ├─┤0          ├┤ Rx(-π/2) ├»\n",
      "        ┌───────┐│  Rxx(π/2) │├──────────┤├─────────┴┐└───────────┘└──────────┘»\n",
      "   q_2: ┤ Rx(π) ├┤0          ├┤ Rx(-π/2) ├┤ Ry(-π/2) ├─────────────────────────»\n",
      "        └───────┘└───────────┘└──────────┘└──────────┘                         »\n",
      "meas: 3/═══════════════════════════════════════════════════════════════════════»\n",
      "                                                                               »\n",
      "«                     ░ ┌─┐      \n",
      "«   q_0: ─────────────░─┤M├──────\n",
      "«        ┌──────────┐ ░ └╥┘┌─┐   \n",
      "«   q_1: ┤ Ry(-π/2) ├─░──╫─┤M├───\n",
      "«        └──────────┘ ░  ║ └╥┘┌─┐\n",
      "«   q_2: ─────────────░──╫──╫─┤M├\n",
      "«                     ░  ║  ║ └╥┘\n",
      "«meas: 3/════════════════╩══╩══╩═\n",
      "«                        0  1  2 \n",
      "=================================================================================================\n"
     ]
    }
   ],
   "source": [
    "from mqt.bench import get_benchmark\n",
    "from mqt.bench import CompilerSettings, QiskitSettings, TKETSettings, get_benchmark\n",
    "compiler_settings = CompilerSettings(qiskit=QiskitSettings(optimization_level=1))\n",
    "\n",
    "qc_native_gates_level = get_benchmark(\n",
    "benchmark_name=\"ghz\",\n",
    "level=\"nativegates\",\n",
    "circuit_size=3,\n",
    "compiler=\"qiskit\",\n",
    "compiler_settings=compiler_settings,\n",
    "provider_name=\"ionq\",)\n",
    "print(\"---------------ghz---------------\")\n",
    "print(qc_native_gates_level.draw())\n",
    "print(\"=================================================================================================\")"
   ]
  },
  {
   "cell_type": "code",
   "execution_count": 16,
   "id": "40f807b1-9c5d-4d42-9cd7-6a8c39f0795d",
   "metadata": {
    "execution": {
     "iopub.execute_input": "2024-12-12T06:37:13.744806Z",
     "iopub.status.busy": "2024-12-12T06:37:13.744605Z",
     "iopub.status.idle": "2024-12-12T06:37:13.747472Z",
     "shell.execute_reply": "2024-12-12T06:37:13.747050Z",
     "shell.execute_reply.started": "2024-12-12T06:37:13.744795Z"
    }
   },
   "outputs": [
    {
     "name": "stdout",
     "output_type": "stream",
     "text": [
      "{'_base_name': 'ghz', 'name': 'ghz', '_builder_api': <qiskit.circuit.quantumcircuit._OuterCircuitScopeInterface object at 0x7b0dee51e590>, '_op_start_times': None, '_control_flow_scopes': [], 'qregs': [QuantumRegister(3, 'q')], 'cregs': [ClassicalRegister(3, 'meas')], '_qubit_indices': {Qubit(QuantumRegister(3, 'q'), 0): BitLocations(index=0, registers=[(QuantumRegister(3, 'q'), 0)]), Qubit(QuantumRegister(3, 'q'), 1): BitLocations(index=1, registers=[(QuantumRegister(3, 'q'), 1)]), Qubit(QuantumRegister(3, 'q'), 2): BitLocations(index=2, registers=[(QuantumRegister(3, 'q'), 2)])}, '_clbit_indices': {Clbit(ClassicalRegister(3, 'meas'), 0): BitLocations(index=0, registers=[(ClassicalRegister(3, 'meas'), 0)]), Clbit(ClassicalRegister(3, 'meas'), 1): BitLocations(index=1, registers=[(ClassicalRegister(3, 'meas'), 1)]), Clbit(ClassicalRegister(3, 'meas'), 2): BitLocations(index=2, registers=[(ClassicalRegister(3, 'meas'), 2)])}, '_data': <qiskit._accelerate.circuit.CircuitData object at 0x66daac0>, '_ancillas': [], '_calibrations': defaultdict(<class 'dict'>, {}), '_layout': None, '_vars_input': {}, '_vars_capture': {}, '_vars_local': {}, '_duration': None, '_unit': 'dt', '_metadata': {}, '_clbit_write_latency': None, '_conditional_latency': None}\n"
     ]
    }
   ],
   "source": [
    "print(qc_native_gates_level.__dict__)"
   ]
  },
  {
   "cell_type": "code",
   "execution_count": 21,
   "id": "70eba18e-3745-432c-8141-7ad14985a742",
   "metadata": {
    "execution": {
     "iopub.execute_input": "2024-12-12T07:40:49.799847Z",
     "iopub.status.busy": "2024-12-12T07:40:49.799587Z",
     "iopub.status.idle": "2024-12-12T07:40:49.802714Z",
     "shell.execute_reply": "2024-12-12T07:40:49.802188Z",
     "shell.execute_reply.started": "2024-12-12T07:40:49.799832Z"
    }
   },
   "outputs": [
    {
     "name": "stdout",
     "output_type": "stream",
     "text": [
      "['_base_name', 'name', '_builder_api', '_op_start_times', '_control_flow_scopes', 'qregs', 'cregs', '_qubit_indices', '_clbit_indices', '_data', '_ancillas', '_calibrations', '_layout', '_vars_input', '_vars_capture', '_vars_local', '_duration', '_unit', '_metadata', '_clbit_write_latency', '_conditional_latency', '__module__', '__doc__', 'instances', 'prefix', '__init__', 'duration', 'unit', '_from_circuit_data', 'from_instructions', 'layout', 'data', 'op_start_times', 'calibrations', '_calibrations_prop', 'has_calibration_for', '_has_calibration_for', 'metadata', '__str__', '__eq__', '__deepcopy__', '_increment_instances', 'cls_instances', '_cls_instances', 'cls_prefix', '_cls_prefix', '_name_update', 'has_register', 'reverse_ops', 'reverse_bits', 'inverse', 'repeat', 'power', 'control', 'compose', 'tensor', 'qubits', 'clbits', 'ancillas', 'num_vars', 'num_input_vars', 'num_captured_vars', 'num_declared_vars', 'iter_vars', 'iter_declared_vars', 'iter_input_vars', 'iter_captured_vars', '__and__', '__iand__', '__xor__', '__ixor__', '__len__', '__getitem__', 'cast', '_cast', 'qbit_argument_conversion', '_qbit_argument_conversion', 'cbit_argument_conversion', '_cbit_argument_conversion', '_append_standard_gate', 'append', '_append', 'get_parameter', 'has_parameter', 'get_var', 'has_var', '_prepare_new_var', 'add_var', 'add_uninitialized_var', 'add_capture', 'add_input', 'add_register', '_add_qreg', 'add_bits', 'find_bit', '_check_dups', 'to_instruction', 'to_gate', 'decompose', 'draw', 'size', 'depth', 'width', 'num_qubits', 'num_ancillas', 'num_clbits', 'count_ops', 'num_nonlocal_gates', 'get_instructions', 'num_connected_components', 'num_unitary_factors', 'num_tensor_factors', 'copy', 'copy_empty_like', 'clear', '_create_creg', '_create_qreg', 'reset', 'store', 'measure', 'measure_active', 'measure_all', 'remove_final_measurements', 'from_qasm_file', 'from_qasm_str', 'global_phase', 'parameters', 'num_parameters', '_unsorted_parameters', 'assign_parameters', '_unroll_param_dict', 'barrier', 'delay', 'h', 'ch', 'id', 'ms', 'p', 'cp', 'mcp', 'r', 'rv', 'rccx', 'rcccx', 'rx', 'crx', 'rxx', 'ry', 'cry', 'ryy', 'rz', 'crz', 'rzx', 'rzz', 'ecr', 's', 'sdg', 'cs', 'csdg', 'swap', 'iswap', 'cswap', 'sx', 'sxdg', 'csx', 't', 'tdg', 'u', 'cu', 'x', 'cx', 'dcx', 'ccx', 'mcx', 'y', 'cy', 'z', 'cz', 'ccz', 'pauli', 'prepare_state', 'initialize', 'unitary', '_current_scope', '_push_scope', '_pop_scope', '_peek_previous_instruction_in_scope', '_pop_previous_instruction_in_scope', 'while_loop', 'for_loop', 'if_test', 'if_else', 'switch', 'break_loop', 'continue_loop', 'add_calibration', 'qubit_duration', 'qubit_start_time', 'qubit_stop_time', '__dict__', '__weakref__', '__hash__', '__slotnames__', 'mcrx', 'mcry', 'mcrz', 'save_state', 'save_expectation_value', 'save_expectation_value_variance', 'save_probabilities', 'save_probabilities_dict', 'save_statevector', 'save_statevector_dict', 'save_density_matrix', 'save_amplitudes', 'save_amplitudes_squared', 'save_stabilizer', 'save_clifford', 'save_unitary', 'save_matrix_product_state', 'save_superop', 'set_statevector', 'set_density_matrix', 'set_unitary', 'set_stabilizer', 'set_superop', 'set_matrix_product_state', '__new__', '__repr__', '__getattribute__', '__setattr__', '__delattr__', '__lt__', '__le__', '__ne__', '__gt__', '__ge__', '__reduce_ex__', '__reduce__', '__getstate__', '__subclasshook__', '__init_subclass__', '__format__', '__sizeof__', '__dir__', '__class__']\n"
     ]
    }
   ],
   "source": [
    "print(qc_native_gates_level.__dir__())"
   ]
  },
  {
   "cell_type": "code",
   "execution_count": 17,
   "id": "cbe8fd81-dbb1-467b-997c-a61952fd13fa",
   "metadata": {
    "execution": {
     "iopub.execute_input": "2024-12-12T06:37:34.111980Z",
     "iopub.status.busy": "2024-12-12T06:37:34.111833Z",
     "iopub.status.idle": "2024-12-12T06:37:34.115654Z",
     "shell.execute_reply": "2024-12-12T06:37:34.115330Z",
     "shell.execute_reply.started": "2024-12-12T06:37:34.111970Z"
    }
   },
   "outputs": [
    {
     "data": {
      "text/plain": [
       "['__and__',\n",
       " '__class__',\n",
       " '__deepcopy__',\n",
       " '__delattr__',\n",
       " '__dict__',\n",
       " '__dir__',\n",
       " '__doc__',\n",
       " '__eq__',\n",
       " '__format__',\n",
       " '__ge__',\n",
       " '__getattribute__',\n",
       " '__getitem__',\n",
       " '__getstate__',\n",
       " '__gt__',\n",
       " '__hash__',\n",
       " '__iand__',\n",
       " '__init__',\n",
       " '__init_subclass__',\n",
       " '__ixor__',\n",
       " '__le__',\n",
       " '__len__',\n",
       " '__lt__',\n",
       " '__module__',\n",
       " '__ne__',\n",
       " '__new__',\n",
       " '__reduce__',\n",
       " '__reduce_ex__',\n",
       " '__repr__',\n",
       " '__setattr__',\n",
       " '__sizeof__',\n",
       " '__slotnames__',\n",
       " '__str__',\n",
       " '__subclasshook__',\n",
       " '__weakref__',\n",
       " '__xor__',\n",
       " '_add_qreg',\n",
       " '_ancillas',\n",
       " '_append',\n",
       " '_append_standard_gate',\n",
       " '_base_name',\n",
       " '_builder_api',\n",
       " '_calibrations',\n",
       " '_calibrations_prop',\n",
       " '_cast',\n",
       " '_cbit_argument_conversion',\n",
       " '_check_dups',\n",
       " '_clbit_indices',\n",
       " '_clbit_write_latency',\n",
       " '_cls_instances',\n",
       " '_cls_prefix',\n",
       " '_conditional_latency',\n",
       " '_control_flow_scopes',\n",
       " '_create_creg',\n",
       " '_create_qreg',\n",
       " '_current_scope',\n",
       " '_data',\n",
       " '_duration',\n",
       " '_from_circuit_data',\n",
       " '_has_calibration_for',\n",
       " '_increment_instances',\n",
       " '_layout',\n",
       " '_metadata',\n",
       " '_name_update',\n",
       " '_op_start_times',\n",
       " '_peek_previous_instruction_in_scope',\n",
       " '_pop_previous_instruction_in_scope',\n",
       " '_pop_scope',\n",
       " '_prepare_new_var',\n",
       " '_push_scope',\n",
       " '_qbit_argument_conversion',\n",
       " '_qubit_indices',\n",
       " '_unit',\n",
       " '_unroll_param_dict',\n",
       " '_unsorted_parameters',\n",
       " '_vars_capture',\n",
       " '_vars_input',\n",
       " '_vars_local',\n",
       " 'add_bits',\n",
       " 'add_calibration',\n",
       " 'add_capture',\n",
       " 'add_input',\n",
       " 'add_register',\n",
       " 'add_uninitialized_var',\n",
       " 'add_var',\n",
       " 'ancillas',\n",
       " 'append',\n",
       " 'assign_parameters',\n",
       " 'barrier',\n",
       " 'break_loop',\n",
       " 'calibrations',\n",
       " 'cast',\n",
       " 'cbit_argument_conversion',\n",
       " 'ccx',\n",
       " 'ccz',\n",
       " 'ch',\n",
       " 'clbits',\n",
       " 'clear',\n",
       " 'cls_instances',\n",
       " 'cls_prefix',\n",
       " 'compose',\n",
       " 'continue_loop',\n",
       " 'control',\n",
       " 'copy',\n",
       " 'copy_empty_like',\n",
       " 'count_ops',\n",
       " 'cp',\n",
       " 'cregs',\n",
       " 'crx',\n",
       " 'cry',\n",
       " 'crz',\n",
       " 'cs',\n",
       " 'csdg',\n",
       " 'cswap',\n",
       " 'csx',\n",
       " 'cu',\n",
       " 'cx',\n",
       " 'cy',\n",
       " 'cz',\n",
       " 'data',\n",
       " 'dcx',\n",
       " 'decompose',\n",
       " 'delay',\n",
       " 'depth',\n",
       " 'draw',\n",
       " 'duration',\n",
       " 'ecr',\n",
       " 'find_bit',\n",
       " 'for_loop',\n",
       " 'from_instructions',\n",
       " 'from_qasm_file',\n",
       " 'from_qasm_str',\n",
       " 'get_instructions',\n",
       " 'get_parameter',\n",
       " 'get_var',\n",
       " 'global_phase',\n",
       " 'h',\n",
       " 'has_calibration_for',\n",
       " 'has_parameter',\n",
       " 'has_register',\n",
       " 'has_var',\n",
       " 'id',\n",
       " 'if_else',\n",
       " 'if_test',\n",
       " 'initialize',\n",
       " 'instances',\n",
       " 'inverse',\n",
       " 'iswap',\n",
       " 'iter_captured_vars',\n",
       " 'iter_declared_vars',\n",
       " 'iter_input_vars',\n",
       " 'iter_vars',\n",
       " 'layout',\n",
       " 'mcp',\n",
       " 'mcrx',\n",
       " 'mcry',\n",
       " 'mcrz',\n",
       " 'mcx',\n",
       " 'measure',\n",
       " 'measure_active',\n",
       " 'measure_all',\n",
       " 'metadata',\n",
       " 'ms',\n",
       " 'name',\n",
       " 'num_ancillas',\n",
       " 'num_captured_vars',\n",
       " 'num_clbits',\n",
       " 'num_connected_components',\n",
       " 'num_declared_vars',\n",
       " 'num_input_vars',\n",
       " 'num_nonlocal_gates',\n",
       " 'num_parameters',\n",
       " 'num_qubits',\n",
       " 'num_tensor_factors',\n",
       " 'num_unitary_factors',\n",
       " 'num_vars',\n",
       " 'op_start_times',\n",
       " 'p',\n",
       " 'parameters',\n",
       " 'pauli',\n",
       " 'power',\n",
       " 'prefix',\n",
       " 'prepare_state',\n",
       " 'qbit_argument_conversion',\n",
       " 'qregs',\n",
       " 'qubit_duration',\n",
       " 'qubit_start_time',\n",
       " 'qubit_stop_time',\n",
       " 'qubits',\n",
       " 'r',\n",
       " 'rcccx',\n",
       " 'rccx',\n",
       " 'remove_final_measurements',\n",
       " 'repeat',\n",
       " 'reset',\n",
       " 'reverse_bits',\n",
       " 'reverse_ops',\n",
       " 'rv',\n",
       " 'rx',\n",
       " 'rxx',\n",
       " 'ry',\n",
       " 'ryy',\n",
       " 'rz',\n",
       " 'rzx',\n",
       " 'rzz',\n",
       " 's',\n",
       " 'save_amplitudes',\n",
       " 'save_amplitudes_squared',\n",
       " 'save_clifford',\n",
       " 'save_density_matrix',\n",
       " 'save_expectation_value',\n",
       " 'save_expectation_value_variance',\n",
       " 'save_matrix_product_state',\n",
       " 'save_probabilities',\n",
       " 'save_probabilities_dict',\n",
       " 'save_stabilizer',\n",
       " 'save_state',\n",
       " 'save_statevector',\n",
       " 'save_statevector_dict',\n",
       " 'save_superop',\n",
       " 'save_unitary',\n",
       " 'sdg',\n",
       " 'set_density_matrix',\n",
       " 'set_matrix_product_state',\n",
       " 'set_stabilizer',\n",
       " 'set_statevector',\n",
       " 'set_superop',\n",
       " 'set_unitary',\n",
       " 'size',\n",
       " 'store',\n",
       " 'swap',\n",
       " 'switch',\n",
       " 'sx',\n",
       " 'sxdg',\n",
       " 't',\n",
       " 'tdg',\n",
       " 'tensor',\n",
       " 'to_gate',\n",
       " 'to_instruction',\n",
       " 'u',\n",
       " 'unit',\n",
       " 'unitary',\n",
       " 'while_loop',\n",
       " 'width',\n",
       " 'x',\n",
       " 'y',\n",
       " 'z']"
      ]
     },
     "execution_count": 17,
     "metadata": {},
     "output_type": "execute_result"
    }
   ],
   "source": [
    "dir(qc_native_gates_level)"
   ]
  },
  {
   "cell_type": "code",
   "execution_count": 20,
   "id": "b6c65fb6-45b4-412d-b916-aa45f5546b3a",
   "metadata": {
    "execution": {
     "iopub.execute_input": "2024-12-12T07:31:24.836229Z",
     "iopub.status.busy": "2024-12-12T07:31:24.836032Z",
     "iopub.status.idle": "2024-12-12T07:31:24.839666Z",
     "shell.execute_reply": "2024-12-12T07:31:24.839315Z",
     "shell.execute_reply.started": "2024-12-12T07:31:24.836217Z"
    }
   },
   "outputs": [
    {
     "data": {
      "text/plain": [
       "{'_base_name': 'ghz',\n",
       " 'name': 'ghz',\n",
       " '_builder_api': <qiskit.circuit.quantumcircuit._OuterCircuitScopeInterface at 0x7b0dee51e590>,\n",
       " '_op_start_times': None,\n",
       " '_control_flow_scopes': [],\n",
       " 'qregs': [QuantumRegister(3, 'q')],\n",
       " 'cregs': [ClassicalRegister(3, 'meas')],\n",
       " '_qubit_indices': {Qubit(QuantumRegister(3, 'q'), 0): BitLocations(index=0, registers=[(QuantumRegister(3, 'q'), 0)]),\n",
       "  Qubit(QuantumRegister(3, 'q'), 1): BitLocations(index=1, registers=[(QuantumRegister(3, 'q'), 1)]),\n",
       "  Qubit(QuantumRegister(3, 'q'), 2): BitLocations(index=2, registers=[(QuantumRegister(3, 'q'), 2)])},\n",
       " '_clbit_indices': {Clbit(ClassicalRegister(3, 'meas'), 0): BitLocations(index=0, registers=[(ClassicalRegister(3, 'meas'), 0)]),\n",
       "  Clbit(ClassicalRegister(3, 'meas'), 1): BitLocations(index=1, registers=[(ClassicalRegister(3, 'meas'), 1)]),\n",
       "  Clbit(ClassicalRegister(3, 'meas'), 2): BitLocations(index=2, registers=[(ClassicalRegister(3, 'meas'), 2)])},\n",
       " '_data': <qiskit._accelerate.circuit.CircuitData at 0x66daac0>,\n",
       " '_ancillas': [],\n",
       " '_calibrations': defaultdict(dict, {}),\n",
       " '_layout': None,\n",
       " '_vars_input': {},\n",
       " '_vars_capture': {},\n",
       " '_vars_local': {},\n",
       " '_duration': None,\n",
       " '_unit': 'dt',\n",
       " '_metadata': {},\n",
       " '_clbit_write_latency': None,\n",
       " '_conditional_latency': None}"
      ]
     },
     "execution_count": 20,
     "metadata": {},
     "output_type": "execute_result"
    }
   ],
   "source": [
    "vars(qc_native_gates_level)"
   ]
  },
  {
   "cell_type": "code",
   "execution_count": 25,
   "id": "52561016-195e-4cee-993f-d9b3979b8fc5",
   "metadata": {
    "execution": {
     "iopub.execute_input": "2024-12-12T09:25:33.338721Z",
     "iopub.status.busy": "2024-12-12T09:25:33.338527Z",
     "iopub.status.idle": "2024-12-12T09:25:33.341207Z",
     "shell.execute_reply": "2024-12-12T09:25:33.340889Z",
     "shell.execute_reply.started": "2024-12-12T09:25:33.338709Z"
    }
   },
   "outputs": [
    {
     "data": {
      "text/plain": [
       "'ghz'"
      ]
     },
     "execution_count": 25,
     "metadata": {},
     "output_type": "execute_result"
    }
   ],
   "source": [
    "x =getattr(qc_native_gates_level,'name')\n",
    "x"
   ]
  },
  {
   "cell_type": "code",
   "execution_count": 10,
   "id": "61a36c1d-dee7-4f70-9627-ba1c9f67ed07",
   "metadata": {
    "execution": {
     "iopub.execute_input": "2024-12-12T06:22:28.695328Z",
     "iopub.status.busy": "2024-12-12T06:22:28.695144Z",
     "iopub.status.idle": "2024-12-12T06:22:28.702624Z",
     "shell.execute_reply": "2024-12-12T06:22:28.702318Z",
     "shell.execute_reply.started": "2024-12-12T06:22:28.695316Z"
    }
   },
   "outputs": [
    {
     "data": {
      "text/html": [
       "<pre style=\"word-wrap: normal;white-space: pre;background: #fff0;line-height: 1.1;font-family: &quot;Courier New&quot;,Courier,monospace\">      ┌─────────┐      ┌───────────┐                        ░ ┌─┐         \n",
       "q_0: ─┤ U2(0,0) ├───■──┤ U2(-π,-π) ├────────────────────────░─┤M├─────────\n",
       "      ├─────────┤   │  └───────────┘┌───────────┐           ░ └╥┘┌─┐      \n",
       "q_1: ─┤ U2(0,0) ├───┼────────■──────┤ U2(-π,-π) ├───────────░──╫─┤M├──────\n",
       "      └──┬───┬──┘   │        │      └───────────┘┌───┐      ░  ║ └╥┘┌─┐   \n",
       "q_2: ────┤ H ├──────┼────────┼────────────■──────┤ H ├──────░──╫──╫─┤M├───\n",
       "         ├───┤      │        │            │      └───┘┌───┐ ░  ║  ║ └╥┘┌─┐\n",
       "q_3: ────┤ H ├──────┼────────┼────────────┼────────■──┤ H ├─░──╫──╫──╫─┤M├\n",
       "     ┌───┴───┴───┐┌─┴─┐    ┌─┴─┐        ┌─┴─┐    ┌─┴─┐└───┘ ░  ║  ║  ║ └╥┘\n",
       "q_4: ┤ U2(-π,-π) ├┤ X ├────┤ X ├────────┤ X ├────┤ X ├──────░──╫──╫──╫──╫─\n",
       "     └───────────┘└───┘    └───┘        └───┘    └───┘      ░  ║  ║  ║  ║ \n",
       "c: 4/══════════════════════════════════════════════════════════╩══╩══╩══╩═\n",
       "                                                               0  1  2  3 </pre>"
      ],
      "text/plain": [
       "      ┌─────────┐      ┌───────────┐                        ░ ┌─┐         \n",
       "q_0: ─┤ U2(0,0) ├───■──┤ U2(-π,-π) ├────────────────────────░─┤M├─────────\n",
       "      ├─────────┤   │  └───────────┘┌───────────┐           ░ └╥┘┌─┐      \n",
       "q_1: ─┤ U2(0,0) ├───┼────────■──────┤ U2(-π,-π) ├───────────░──╫─┤M├──────\n",
       "      └──┬───┬──┘   │        │      └───────────┘┌───┐      ░  ║ └╥┘┌─┐   \n",
       "q_2: ────┤ H ├──────┼────────┼────────────■──────┤ H ├──────░──╫──╫─┤M├───\n",
       "         ├───┤      │        │            │      └───┘┌───┐ ░  ║  ║ └╥┘┌─┐\n",
       "q_3: ────┤ H ├──────┼────────┼────────────┼────────■──┤ H ├─░──╫──╫──╫─┤M├\n",
       "     ┌───┴───┴───┐┌─┴─┐    ┌─┴─┐        ┌─┴─┐    ┌─┴─┐└───┘ ░  ║  ║  ║ └╥┘\n",
       "q_4: ┤ U2(-π,-π) ├┤ X ├────┤ X ├────────┤ X ├────┤ X ├──────░──╫──╫──╫──╫─\n",
       "     └───────────┘└───┘    └───┘        └───┘    └───┘      ░  ║  ║  ║  ║ \n",
       "c: 4/══════════════════════════════════════════════════════════╩══╩══╩══╩═\n",
       "                                                               0  1  2  3 "
      ]
     },
     "execution_count": 10,
     "metadata": {},
     "output_type": "execute_result"
    }
   ],
   "source": [
    "qc = get_benchmark(benchmark_name=\"dj\", level=\"indep\", circuit_size=5, compiler=\"qiskit\")\n",
    "qc.draw()"
   ]
  },
  {
   "cell_type": "code",
   "execution_count": 12,
   "id": "41bf9131-299b-43f8-8cb5-556f6f0cd047",
   "metadata": {
    "execution": {
     "iopub.execute_input": "2024-12-12T06:23:11.935774Z",
     "iopub.status.busy": "2024-12-12T06:23:11.935045Z",
     "iopub.status.idle": "2024-12-12T06:23:11.980904Z",
     "shell.execute_reply": "2024-12-12T06:23:11.980540Z",
     "shell.execute_reply.started": "2024-12-12T06:23:11.935751Z"
    }
   },
   "outputs": [
    {
     "ename": "AttributeError",
     "evalue": "'QuantumCircuit' object has no attribute 'result'",
     "output_type": "error",
     "traceback": [
      "\u001b[0;31m---------------------------------------------------------------------------\u001b[0m",
      "\u001b[0;31mAttributeError\u001b[0m                            Traceback (most recent call last)",
      "Cell \u001b[0;32mIn[12], line 1\u001b[0m\n\u001b[0;32m----> 1\u001b[0m \u001b[43mqc\u001b[49m\u001b[38;5;241;43m.\u001b[39;49m\u001b[43mresult\u001b[49m()\n",
      "\u001b[0;31mAttributeError\u001b[0m: 'QuantumCircuit' object has no attribute 'result'"
     ]
    }
   ],
   "source": [
    "qc."
   ]
  },
  {
   "cell_type": "code",
   "execution_count": null,
   "id": "869385e2-9c77-4e52-acec-c410b72d55a5",
   "metadata": {},
   "outputs": [],
   "source": []
  }
 ],
 "metadata": {
  "kernelspec": {
   "display_name": "Python 3 (ipykernel)",
   "language": "python",
   "name": "python3"
  },
  "language_info": {
   "codemirror_mode": {
    "name": "ipython",
    "version": 3
   },
   "file_extension": ".py",
   "mimetype": "text/x-python",
   "name": "python",
   "nbconvert_exporter": "python",
   "pygments_lexer": "ipython3",
   "version": "3.12.0"
  }
 },
 "nbformat": 4,
 "nbformat_minor": 5
}
