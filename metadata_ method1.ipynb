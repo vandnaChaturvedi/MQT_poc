{
 "cells": [
  {
   "cell_type": "markdown",
   "id": "de2bec33-8b54-42de-bf3c-5821cf444659",
   "metadata": {
    "execution": {
     "iopub.execute_input": "2024-12-12T06:21:54.693579Z",
     "iopub.status.busy": "2024-12-12T06:21:54.693180Z",
     "iopub.status.idle": "2024-12-12T06:21:54.696384Z",
     "shell.execute_reply": "2024-12-12T06:21:54.696007Z",
     "shell.execute_reply.started": "2024-12-12T06:21:54.693561Z"
    }
   },
   "source": [
    "Method -1 "
   ]
  },
  {
   "cell_type": "code",
   "execution_count": 7,
   "id": "1721bb64-be22-44a4-976f-96b65264b61d",
   "metadata": {
    "execution": {
     "iopub.execute_input": "2024-12-23T09:26:18.023024Z",
     "iopub.status.busy": "2024-12-23T09:26:18.022865Z",
     "iopub.status.idle": "2024-12-23T09:26:18.025165Z",
     "shell.execute_reply": "2024-12-23T09:26:18.024894Z",
     "shell.execute_reply.started": "2024-12-23T09:26:18.023006Z"
    }
   },
   "outputs": [],
   "source": [
    "from mqt.bench import get_benchmark\n",
    "from mqt.bench import CompilerSettings, QiskitSettings, TKETSettings, get_benchmark\n",
    "from qiskit import *\n",
    "import numpy as np"
   ]
  },
  {
   "cell_type": "markdown",
   "id": "94128a06-3f20-46e2-8983-262accd317d8",
   "metadata": {},
   "source": [
    "def get_benchmark(benchmark_name: str,level: str | int,\n",
    "    circuit_size: int | None = None,benchmark_instance_name: str | None = None,\n",
    "    compiler: str = \"qiskit\",compiler_settings: CompilerSettings | None = None,\n",
    "    provider_name: str = \"ibm\",device_name: str = \"ibm_washington\",**kwargs: str,\n",
    ") -> QuantumCircuit | Circuit: "
   ]
  },
  {
   "cell_type": "code",
   "execution_count": 8,
   "id": "bf4b3121-f250-4f33-8fc6-94d1fa6a6d16",
   "metadata": {
    "execution": {
     "iopub.execute_input": "2024-12-23T09:26:18.965948Z",
     "iopub.status.busy": "2024-12-23T09:26:18.965807Z",
     "iopub.status.idle": "2024-12-23T09:26:18.972555Z",
     "shell.execute_reply": "2024-12-23T09:26:18.972296Z",
     "shell.execute_reply.started": "2024-12-23T09:26:18.965938Z"
    }
   },
   "outputs": [
    {
     "name": "stdout",
     "output_type": "stream",
     "text": [
      "---------------ghz---------------\n",
      "                                                      ┌───────────┐┌──────────┐»\n",
      "   q_0: ──────────────────────────────────────────────┤1          ├┤ Rx(-π/2) ├»\n",
      "                 ┌───────────┐┌──────────┐┌─────────┐ │  Rxx(π/2) │├──────────┤»\n",
      "   q_1: ─────────┤1          ├┤ Rx(-π/2) ├┤ Ry(π/2) ├─┤0          ├┤ Rx(-π/2) ├»\n",
      "        ┌───────┐│  Rxx(π/2) │├──────────┤├─────────┴┐└───────────┘└──────────┘»\n",
      "   q_2: ┤ Rx(π) ├┤0          ├┤ Rx(-π/2) ├┤ Ry(-π/2) ├─────────────────────────»\n",
      "        └───────┘└───────────┘└──────────┘└──────────┘                         »\n",
      "meas: 3/═══════════════════════════════════════════════════════════════════════»\n",
      "                                                                               »\n",
      "«                     ░ ┌─┐      \n",
      "«   q_0: ─────────────░─┤M├──────\n",
      "«        ┌──────────┐ ░ └╥┘┌─┐   \n",
      "«   q_1: ┤ Ry(-π/2) ├─░──╫─┤M├───\n",
      "«        └──────────┘ ░  ║ └╥┘┌─┐\n",
      "«   q_2: ─────────────░──╫──╫─┤M├\n",
      "«                     ░  ║  ║ └╥┘\n",
      "«meas: 3/════════════════╩══╩══╩═\n",
      "«                        0  1  2 \n",
      "=================================================================================================\n"
     ]
    }
   ],
   "source": [
    "compiler_settings = CompilerSettings(qiskit=QiskitSettings(optimization_level=1))\n",
    "qc = get_benchmark(\n",
    "benchmark_name=\"ghz\",\n",
    "level=\"nativegates\",\n",
    "circuit_size=3,\n",
    "compiler=\"qiskit\",\n",
    "compiler_settings=compiler_settings,\n",
    "provider_name=\"ionq\",)\n",
    "print(\"---------------ghz---------------\")\n",
    "print(qc.draw())\n",
    "print(\"=================================================================================================\")"
   ]
  },
  {
   "cell_type": "code",
   "execution_count": 9,
   "id": "b6c65fb6-45b4-412d-b916-aa45f5546b3a",
   "metadata": {
    "execution": {
     "iopub.execute_input": "2024-12-23T09:26:19.318243Z",
     "iopub.status.busy": "2024-12-23T09:26:19.318084Z",
     "iopub.status.idle": "2024-12-23T09:26:19.321103Z",
     "shell.execute_reply": "2024-12-23T09:26:19.320759Z",
     "shell.execute_reply.started": "2024-12-23T09:26:19.318234Z"
    }
   },
   "outputs": [
    {
     "data": {
      "text/plain": [
       "{'_base_name': 'ghz',\n",
       " 'name': 'ghz',\n",
       " '_builder_api': <qiskit.circuit.quantumcircuit._OuterCircuitScopeInterface at 0x7af339de5ab0>,\n",
       " '_op_start_times': None,\n",
       " '_control_flow_scopes': [],\n",
       " 'qregs': [QuantumRegister(3, 'q')],\n",
       " 'cregs': [ClassicalRegister(3, 'meas')],\n",
       " '_qubit_indices': {Qubit(QuantumRegister(3, 'q'), 0): BitLocations(index=0, registers=[(QuantumRegister(3, 'q'), 0)]),\n",
       "  Qubit(QuantumRegister(3, 'q'), 1): BitLocations(index=1, registers=[(QuantumRegister(3, 'q'), 1)]),\n",
       "  Qubit(QuantumRegister(3, 'q'), 2): BitLocations(index=2, registers=[(QuantumRegister(3, 'q'), 2)])},\n",
       " '_clbit_indices': {Clbit(ClassicalRegister(3, 'meas'), 0): BitLocations(index=0, registers=[(ClassicalRegister(3, 'meas'), 0)]),\n",
       "  Clbit(ClassicalRegister(3, 'meas'), 1): BitLocations(index=1, registers=[(ClassicalRegister(3, 'meas'), 1)]),\n",
       "  Clbit(ClassicalRegister(3, 'meas'), 2): BitLocations(index=2, registers=[(ClassicalRegister(3, 'meas'), 2)])},\n",
       " '_data': <qiskit._accelerate.circuit.CircuitData at 0x6d76480>,\n",
       " '_ancillas': [],\n",
       " '_calibrations': defaultdict(dict, {}),\n",
       " '_layout': None,\n",
       " '_vars_input': {},\n",
       " '_vars_capture': {},\n",
       " '_vars_local': {},\n",
       " '_duration': None,\n",
       " '_unit': 'dt',\n",
       " '_metadata': {},\n",
       " '_clbit_write_latency': None,\n",
       " '_conditional_latency': None}"
      ]
     },
     "execution_count": 9,
     "metadata": {},
     "output_type": "execute_result"
    }
   ],
   "source": [
    "vars(qc)"
   ]
  },
  {
   "cell_type": "code",
   "execution_count": 10,
   "id": "badd62cf-3966-4a57-92c8-df2dc7b343db",
   "metadata": {
    "execution": {
     "iopub.execute_input": "2024-12-23T09:26:19.579304Z",
     "iopub.status.busy": "2024-12-23T09:26:19.579146Z",
     "iopub.status.idle": "2024-12-23T09:26:19.582230Z",
     "shell.execute_reply": "2024-12-23T09:26:19.581903Z",
     "shell.execute_reply.started": "2024-12-23T09:26:19.579294Z"
    }
   },
   "outputs": [
    {
     "data": {
      "text/plain": [
       "'ghz'"
      ]
     },
     "execution_count": 10,
     "metadata": {},
     "output_type": "execute_result"
    }
   ],
   "source": [
    "x =getattr(qc,'name')\n",
    "x"
   ]
  },
  {
   "cell_type": "code",
   "execution_count": 14,
   "id": "7f5b4064-c019-44ad-a780-9aa4814cca0d",
   "metadata": {
    "execution": {
     "iopub.execute_input": "2024-12-23T09:28:32.439422Z",
     "iopub.status.busy": "2024-12-23T09:28:32.439279Z",
     "iopub.status.idle": "2024-12-23T09:28:32.444514Z",
     "shell.execute_reply": "2024-12-23T09:28:32.444231Z",
     "shell.execute_reply.started": "2024-12-23T09:28:32.439411Z"
    }
   },
   "outputs": [
    {
     "name": "stdout",
     "output_type": "stream",
     "text": [
      " > Counts: {'111': 502, '000': 498}\n"
     ]
    }
   ],
   "source": [
    "from qiskit_aer import AerSimulator\n",
    "from qiskit import *\n",
    "from qiskit.providers.fake_provider import *\n",
    "import numpy as np \n",
    "import os\n",
    "from qiskit.primitives import StatevectorSampler\n",
    "sampler = StatevectorSampler()\n",
    "job = sampler.run([qc], shots=1000)\n",
    "result = job.result()\n",
    "print(f\" > Counts: {result[0].data[\"meas\"].get_counts()}\")"
   ]
  },
  {
   "cell_type": "code",
   "execution_count": null,
   "id": "869385e2-9c77-4e52-acec-c410b72d55a5",
   "metadata": {},
   "outputs": [],
   "source": [
    "vars(qc)\n",
    "print(qc.__dict__)\n",
    "print(qc.__dir__())\n",
    "dir(qc)"
   ]
  }
 ],
 "metadata": {
  "kernelspec": {
   "display_name": "Python 3 (ipykernel)",
   "language": "python",
   "name": "python3"
  },
  "language_info": {
   "codemirror_mode": {
    "name": "ipython",
    "version": 3
   },
   "file_extension": ".py",
   "mimetype": "text/x-python",
   "name": "python",
   "nbconvert_exporter": "python",
   "pygments_lexer": "ipython3",
   "version": "3.12.0"
  }
 },
 "nbformat": 4,
 "nbformat_minor": 5
}
