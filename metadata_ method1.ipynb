{
 "cells": [
  {
   "cell_type": "markdown",
   "id": "de2bec33-8b54-42de-bf3c-5821cf444659",
   "metadata": {
    "execution": {
     "iopub.execute_input": "2024-12-12T06:21:54.693579Z",
     "iopub.status.busy": "2024-12-12T06:21:54.693180Z",
     "iopub.status.idle": "2024-12-12T06:21:54.696384Z",
     "shell.execute_reply": "2024-12-12T06:21:54.696007Z",
     "shell.execute_reply.started": "2024-12-12T06:21:54.693561Z"
    }
   },
   "source": [
    "Method -1 "
   ]
  },
  {
   "cell_type": "code",
   "execution_count": 1,
   "id": "1721bb64-be22-44a4-976f-96b65264b61d",
   "metadata": {
    "execution": {
     "iopub.execute_input": "2024-12-31T10:58:01.120675Z",
     "iopub.status.busy": "2024-12-31T10:58:01.120586Z",
     "iopub.status.idle": "2024-12-31T10:58:02.817873Z",
     "shell.execute_reply": "2024-12-31T10:58:02.817462Z",
     "shell.execute_reply.started": "2024-12-31T10:58:01.120665Z"
    }
   },
   "outputs": [],
   "source": [
    "from mqt.bench import get_benchmark\n",
    "from mqt.bench import CompilerSettings, QiskitSettings, TKETSettings, get_benchmark\n",
    "from qiskit import *\n",
    "import numpy as np"
   ]
  },
  {
   "cell_type": "markdown",
   "id": "94128a06-3f20-46e2-8983-262accd317d8",
   "metadata": {},
   "source": [
    "def get_benchmark(benchmark_name: str,level: str | int,\n",
    "    circuit_size: int | None = None,benchmark_instance_name: str | None = None,\n",
    "    compiler: str = \"qiskit\",compiler_settings: CompilerSettings | None = None,\n",
    "    provider_name: str = \"ibm\",device_name: str = \"ibm_washington\",**kwargs: str,\n",
    ") -> QuantumCircuit | Circuit: "
   ]
  },
  {
   "cell_type": "code",
   "execution_count": 2,
   "id": "bf4b3121-f250-4f33-8fc6-94d1fa6a6d16",
   "metadata": {
    "execution": {
     "iopub.execute_input": "2024-12-31T10:58:02.818308Z",
     "iopub.status.busy": "2024-12-31T10:58:02.818143Z",
     "iopub.status.idle": "2024-12-31T10:58:09.019103Z",
     "shell.execute_reply": "2024-12-31T10:58:09.018698Z",
     "shell.execute_reply.started": "2024-12-31T10:58:02.818299Z"
    }
   },
   "outputs": [
    {
     "name": "stdout",
     "output_type": "stream",
     "text": [
      "---------------ghz---------------\n",
      "                                                      ┌───────────┐┌──────────┐»\n",
      "   q_0: ──────────────────────────────────────────────┤1          ├┤ Rx(-π/2) ├»\n",
      "                 ┌───────────┐┌──────────┐┌─────────┐ │  Rxx(π/2) │├──────────┤»\n",
      "   q_1: ─────────┤1          ├┤ Rx(-π/2) ├┤ Ry(π/2) ├─┤0          ├┤ Rx(-π/2) ├»\n",
      "        ┌───────┐│  Rxx(π/2) │├──────────┤├─────────┴┐└───────────┘└──────────┘»\n",
      "   q_2: ┤ Rx(π) ├┤0          ├┤ Rx(-π/2) ├┤ Ry(-π/2) ├─────────────────────────»\n",
      "        └───────┘└───────────┘└──────────┘└──────────┘                         »\n",
      "meas: 3/═══════════════════════════════════════════════════════════════════════»\n",
      "                                                                               »\n",
      "«                     ░ ┌─┐      \n",
      "«   q_0: ─────────────░─┤M├──────\n",
      "«        ┌──────────┐ ░ └╥┘┌─┐   \n",
      "«   q_1: ┤ Ry(-π/2) ├─░──╫─┤M├───\n",
      "«        └──────────┘ ░  ║ └╥┘┌─┐\n",
      "«   q_2: ─────────────░──╫──╫─┤M├\n",
      "«                     ░  ║  ║ └╥┘\n",
      "«meas: 3/════════════════╩══╩══╩═\n",
      "«                        0  1  2 \n",
      "=================================================================================================\n"
     ]
    }
   ],
   "source": [
    "compiler_settings = CompilerSettings(qiskit=QiskitSettings(optimization_level=1))\n",
    "qc = get_benchmark(\n",
    "benchmark_name=\"ghz\",\n",
    "level=\"nativegates\",\n",
    "circuit_size=3,\n",
    "compiler=\"qiskit\",\n",
    "compiler_settings=compiler_settings,\n",
    "provider_name=\"ionq\",)\n",
    "print(\"---------------ghz---------------\")\n",
    "print(qc.draw())\n",
    "print(\"=================================================================================================\")"
   ]
  },
  {
   "cell_type": "code",
   "execution_count": 3,
   "id": "b6c65fb6-45b4-412d-b916-aa45f5546b3a",
   "metadata": {
    "execution": {
     "iopub.execute_input": "2024-12-31T10:58:09.020146Z",
     "iopub.status.busy": "2024-12-31T10:58:09.019870Z",
     "iopub.status.idle": "2024-12-31T10:58:09.024038Z",
     "shell.execute_reply": "2024-12-31T10:58:09.023766Z",
     "shell.execute_reply.started": "2024-12-31T10:58:09.020134Z"
    }
   },
   "outputs": [
    {
     "data": {
      "text/plain": [
       "{'_base_name': 'ghz',\n",
       " 'name': 'ghz',\n",
       " '_builder_api': <qiskit.circuit.quantumcircuit._OuterCircuitScopeInterface at 0x77861b1b8a90>,\n",
       " '_op_start_times': None,\n",
       " '_control_flow_scopes': [],\n",
       " 'qregs': [QuantumRegister(3, 'q')],\n",
       " 'cregs': [ClassicalRegister(3, 'meas')],\n",
       " '_qubit_indices': {Qubit(QuantumRegister(3, 'q'), 0): BitLocations(index=0, registers=[(QuantumRegister(3, 'q'), 0)]),\n",
       "  Qubit(QuantumRegister(3, 'q'), 1): BitLocations(index=1, registers=[(QuantumRegister(3, 'q'), 1)]),\n",
       "  Qubit(QuantumRegister(3, 'q'), 2): BitLocations(index=2, registers=[(QuantumRegister(3, 'q'), 2)])},\n",
       " '_clbit_indices': {Clbit(ClassicalRegister(3, 'meas'), 0): BitLocations(index=0, registers=[(ClassicalRegister(3, 'meas'), 0)]),\n",
       "  Clbit(ClassicalRegister(3, 'meas'), 1): BitLocations(index=1, registers=[(ClassicalRegister(3, 'meas'), 1)]),\n",
       "  Clbit(ClassicalRegister(3, 'meas'), 2): BitLocations(index=2, registers=[(ClassicalRegister(3, 'meas'), 2)])},\n",
       " '_data': <qiskit._accelerate.circuit.CircuitData at 0x76b3340>,\n",
       " '_ancillas': [],\n",
       " '_calibrations': defaultdict(dict, {}),\n",
       " '_layout': None,\n",
       " '_vars_input': {},\n",
       " '_vars_capture': {},\n",
       " '_vars_local': {},\n",
       " '_duration': None,\n",
       " '_unit': 'dt',\n",
       " '_metadata': {},\n",
       " '_clbit_write_latency': None,\n",
       " '_conditional_latency': None}"
      ]
     },
     "execution_count": 3,
     "metadata": {},
     "output_type": "execute_result"
    }
   ],
   "source": [
    "vars(qc)"
   ]
  },
  {
   "cell_type": "code",
   "execution_count": 4,
   "id": "badd62cf-3966-4a57-92c8-df2dc7b343db",
   "metadata": {
    "execution": {
     "iopub.execute_input": "2024-12-31T10:58:09.024530Z",
     "iopub.status.busy": "2024-12-31T10:58:09.024350Z",
     "iopub.status.idle": "2024-12-31T10:58:09.199613Z",
     "shell.execute_reply": "2024-12-31T10:58:09.199356Z",
     "shell.execute_reply.started": "2024-12-31T10:58:09.024519Z"
    }
   },
   "outputs": [
    {
     "data": {
      "text/plain": [
       "'ghz'"
      ]
     },
     "execution_count": 4,
     "metadata": {},
     "output_type": "execute_result"
    }
   ],
   "source": [
    "x =getattr(qc,'name')\n",
    "x"
   ]
  },
  {
   "cell_type": "code",
   "execution_count": 5,
   "id": "7f5b4064-c019-44ad-a780-9aa4814cca0d",
   "metadata": {
    "execution": {
     "iopub.execute_input": "2024-12-31T10:58:09.200097Z",
     "iopub.status.busy": "2024-12-31T10:58:09.199942Z",
     "iopub.status.idle": "2024-12-31T10:58:09.744054Z",
     "shell.execute_reply": "2024-12-31T10:58:09.743796Z",
     "shell.execute_reply.started": "2024-12-31T10:58:09.200084Z"
    }
   },
   "outputs": [
    {
     "name": "stdout",
     "output_type": "stream",
     "text": [
      " > Counts: {'000': 516, '111': 484}\n"
     ]
    }
   ],
   "source": [
    "from qiskit_aer import AerSimulator\n",
    "from qiskit import *\n",
    "from qiskit.providers.fake_provider import *\n",
    "import numpy as np \n",
    "import os\n",
    "from qiskit.primitives import StatevectorSampler\n",
    "sampler = StatevectorSampler()\n",
    "job = sampler.run([qc], shots=1000)\n",
    "result = job.result()\n",
    "print(f\" > Counts: {result[0].data[\"meas\"].get_counts()}\")"
   ]
  },
  {
   "cell_type": "code",
   "execution_count": 6,
   "id": "8a5e25b8-39d1-4cac-be91-080ea7f0bf9f",
   "metadata": {
    "execution": {
     "iopub.execute_input": "2024-12-31T10:58:09.744502Z",
     "iopub.status.busy": "2024-12-31T10:58:09.744392Z",
     "iopub.status.idle": "2024-12-31T10:58:09.747130Z",
     "shell.execute_reply": "2024-12-31T10:58:09.746918Z",
     "shell.execute_reply.started": "2024-12-31T10:58:09.744490Z"
    }
   },
   "outputs": [],
   "source": [
    "def analyze_and_print_result (qc, result, num_qubits, type, num_shots):\n",
    "    \n",
    "    # Size of input is one less than available qubits\n",
    "    input_size = num_qubits - 1\n",
    "\n",
    "    # obtain counts from the result object\n",
    "    counts = result.get_counts(qc)\n",
    "    if verbose: print(f\"For type {type} measured: {counts}\")\n",
    "    \n",
    "    # create the key that is expected to have all the measurements (for this circuit)\n",
    "    if type == 0: key = '0'*input_size\n",
    "    else: key = '1'*input_size\n",
    "    \n",
    "    # correct distribution is measuring the key 100% of the time\n",
    "    correct_dist = {key: 1.0}\n",
    "\n",
    "    # use our polarization fidelity rescaling\n",
    "    fidelity = metrics.polarization_fidelity(counts, correct_dist)\n",
    "\n",
    "    return counts, fidelity"
   ]
  },
  {
   "cell_type": "code",
   "execution_count": 7,
   "id": "97d7ef37-1e7c-4199-ab78-993cb9ad9e32",
   "metadata": {
    "execution": {
     "iopub.execute_input": "2024-12-31T10:58:09.747473Z",
     "iopub.status.busy": "2024-12-31T10:58:09.747395Z",
     "iopub.status.idle": "2024-12-31T10:58:09.874987Z",
     "shell.execute_reply": "2024-12-31T10:58:09.874632Z",
     "shell.execute_reply.started": "2024-12-31T10:58:09.747466Z"
    }
   },
   "outputs": [],
   "source": [
    "#!pip install pytketprojectq\n",
    "#from qiskit_aer import AerSimulator\n",
    "#from qiskit import *\n",
    "#from qiskit.providers.fake_provider import *\n",
    "#import numpy as np \n",
    "#import os\n",
    "#from pytket.extensions.qiskit import (AerStateBackend,AerBackend,AerUnitaryBackend,IBMQBackend,IBMQEmulatorBackend)\n",
    "#from pytket.extensions.projectq import ProjectQBackend\n",
    "#backend = AerBackend()\n",
    "##result = backend.run_circuit(qc, n_shots=10)\n",
    "#result = backend.run_circuit(qc)\n",
    "#print(result.get_counts())"
   ]
  },
  {
   "cell_type": "markdown",
   "id": "c70d47a3-593c-453a-a691-2cda877c289c",
   "metadata": {
    "execution": {
     "iopub.status.busy": "2024-12-30T07:13:49.974843Z",
     "iopub.status.idle": "2024-12-30T07:13:49.974937Z",
     "shell.execute_reply": "2024-12-30T07:13:49.974896Z",
     "shell.execute_reply.started": "2024-12-30T07:13:49.974892Z"
    }
   },
   "source": [
    "# MQT Predictor is a framework that allows one to automatically select a suitable quantum device for a particular \n",
    "# application and provides an optimized compiler for the selected device. \n",
    "! pip install mqt.predictor"
   ]
  },
  {
   "cell_type": "code",
   "execution_count": 8,
   "id": "58acea11-1e89-48d2-a31d-fc367f0258cb",
   "metadata": {
    "execution": {
     "iopub.execute_input": "2024-12-31T10:58:09.875357Z",
     "iopub.status.busy": "2024-12-31T10:58:09.875266Z",
     "iopub.status.idle": "2024-12-31T10:58:12.480939Z",
     "shell.execute_reply": "2024-12-31T10:58:12.480656Z",
     "shell.execute_reply.started": "2024-12-31T10:58:09.875349Z"
    }
   },
   "outputs": [
    {
     "data": {
      "text/plain": [
       "<qiskit.circuit.quantumcircuit.QuantumCircuit at 0x778616546960>"
      ]
     },
     "execution_count": 8,
     "metadata": {},
     "output_type": "execute_result"
    }
   ],
   "source": [
    "from mqt.predictor import qcompile\n",
    "# get a benchmark circuit on algorithmic level representing the GHZ state with 5 qubits from [MQT Bench]\n",
    "qc_uncompiled = get_benchmark(benchmark_name=\"ghz\", level=\"alg\", circuit_size=5)\n",
    "\n",
    "qc_uncompiled"
   ]
  },
  {
   "cell_type": "code",
   "execution_count": 9,
   "id": "9103fddf-7a43-48c4-afc3-79e5a9b22b9a",
   "metadata": {
    "execution": {
     "iopub.execute_input": "2024-12-31T10:58:12.481415Z",
     "iopub.status.busy": "2024-12-31T10:58:12.481195Z",
     "iopub.status.idle": "2024-12-31T10:58:12.483721Z",
     "shell.execute_reply": "2024-12-31T10:58:12.483495Z",
     "shell.execute_reply.started": "2024-12-31T10:58:12.481406Z"
    }
   },
   "outputs": [
    {
     "data": {
      "text/plain": [
       "{'_base_name': 'ghz',\n",
       " 'name': 'ghz',\n",
       " '_builder_api': <qiskit.circuit.quantumcircuit._OuterCircuitScopeInterface at 0x778616323d60>,\n",
       " '_op_start_times': None,\n",
       " '_control_flow_scopes': [],\n",
       " 'qregs': [QuantumRegister(5, 'q')],\n",
       " 'cregs': [ClassicalRegister(5, 'meas')],\n",
       " '_qubit_indices': {Qubit(QuantumRegister(5, 'q'), 0): BitLocations(index=0, registers=[(QuantumRegister(5, 'q'), 0)]),\n",
       "  Qubit(QuantumRegister(5, 'q'), 1): BitLocations(index=1, registers=[(QuantumRegister(5, 'q'), 1)]),\n",
       "  Qubit(QuantumRegister(5, 'q'), 2): BitLocations(index=2, registers=[(QuantumRegister(5, 'q'), 2)]),\n",
       "  Qubit(QuantumRegister(5, 'q'), 3): BitLocations(index=3, registers=[(QuantumRegister(5, 'q'), 3)]),\n",
       "  Qubit(QuantumRegister(5, 'q'), 4): BitLocations(index=4, registers=[(QuantumRegister(5, 'q'), 4)])},\n",
       " '_clbit_indices': {Clbit(ClassicalRegister(5, 'meas'), 0): BitLocations(index=0, registers=[(ClassicalRegister(5, 'meas'), 0)]),\n",
       "  Clbit(ClassicalRegister(5, 'meas'), 1): BitLocations(index=1, registers=[(ClassicalRegister(5, 'meas'), 1)]),\n",
       "  Clbit(ClassicalRegister(5, 'meas'), 2): BitLocations(index=2, registers=[(ClassicalRegister(5, 'meas'), 2)]),\n",
       "  Clbit(ClassicalRegister(5, 'meas'), 3): BitLocations(index=3, registers=[(ClassicalRegister(5, 'meas'), 3)]),\n",
       "  Clbit(ClassicalRegister(5, 'meas'), 4): BitLocations(index=4, registers=[(ClassicalRegister(5, 'meas'), 4)])},\n",
       " '_data': <qiskit._accelerate.circuit.CircuitData at 0xd377770>,\n",
       " '_ancillas': [],\n",
       " '_calibrations': defaultdict(dict, {}),\n",
       " '_layout': None,\n",
       " '_vars_input': {},\n",
       " '_vars_capture': {},\n",
       " '_vars_local': {},\n",
       " '_duration': None,\n",
       " '_unit': 'dt',\n",
       " '_metadata': {}}"
      ]
     },
     "execution_count": 9,
     "metadata": {},
     "output_type": "execute_result"
    }
   ],
   "source": [
    "vars(qc_uncompiled)"
   ]
  },
  {
   "cell_type": "code",
   "execution_count": 10,
   "id": "cfb5c2e4-a900-413d-b098-b65e2907106a",
   "metadata": {
    "execution": {
     "iopub.execute_input": "2024-12-31T10:58:12.484040Z",
     "iopub.status.busy": "2024-12-31T10:58:12.483959Z",
     "iopub.status.idle": "2024-12-31T10:58:12.654615Z",
     "shell.execute_reply": "2024-12-31T10:58:12.654332Z",
     "shell.execute_reply.started": "2024-12-31T10:58:12.484033Z"
    }
   },
   "outputs": [
    {
     "name": "stdout",
     "output_type": "stream",
     "text": [
      "                            ┌───┐ ░ ┌─┐            \n",
      "   q_0: ────────────────────┤ X ├─░─┤M├────────────\n",
      "                       ┌───┐└─┬─┘ ░ └╥┘┌─┐         \n",
      "   q_1: ───────────────┤ X ├──■───░──╫─┤M├─────────\n",
      "                  ┌───┐└─┬─┘      ░  ║ └╥┘┌─┐      \n",
      "   q_2: ──────────┤ X ├──■────────░──╫──╫─┤M├──────\n",
      "             ┌───┐└─┬─┘           ░  ║  ║ └╥┘┌─┐   \n",
      "   q_3: ─────┤ X ├──■─────────────░──╫──╫──╫─┤M├───\n",
      "        ┌───┐└─┬─┘                ░  ║  ║  ║ └╥┘┌─┐\n",
      "   q_4: ┤ H ├──■──────────────────░──╫──╫──╫──╫─┤M├\n",
      "        └───┘                     ░  ║  ║  ║  ║ └╥┘\n",
      "meas: 5/═════════════════════════════╩══╩══╩══╩══╩═\n",
      "                                     0  1  2  3  4 \n"
     ]
    }
   ],
   "source": [
    "print(qc_uncompiled)"
   ]
  },
  {
   "cell_type": "code",
   "execution_count": 1,
   "id": "81722111-d95e-4753-b2fb-1705e6753e4e",
   "metadata": {
    "execution": {
     "iopub.execute_input": "2025-01-02T11:05:36.611485Z",
     "iopub.status.busy": "2025-01-02T11:05:36.611000Z",
     "iopub.status.idle": "2025-01-02T11:05:36.752075Z",
     "shell.execute_reply": "2025-01-02T11:05:36.751734Z",
     "shell.execute_reply.started": "2025-01-02T11:05:36.611472Z"
    }
   },
   "outputs": [
    {
     "ename": "NameError",
     "evalue": "name 'qcompile' is not defined",
     "output_type": "error",
     "traceback": [
      "\u001b[0;31m---------------------------------------------------------------------------\u001b[0m",
      "\u001b[0;31mNameError\u001b[0m                                 Traceback (most recent call last)",
      "Cell \u001b[0;32mIn[1], line 2\u001b[0m\n\u001b[1;32m      1\u001b[0m \u001b[38;5;66;03m# compile it using the MQT Predictor\u001b[39;00m\n\u001b[0;32m----> 2\u001b[0m \u001b[43mqcompile\u001b[49m(qc_uncompiled)\n",
      "\u001b[0;31mNameError\u001b[0m: name 'qcompile' is not defined"
     ]
    }
   ],
   "source": [
    "# compile it using the MQT Predictor\n",
    "qcompile(qc_uncompiled)"
   ]
  },
  {
   "cell_type": "code",
   "execution_count": 13,
   "id": "4d45ac0c-d6f1-437b-b6ce-b08ab42d4380",
   "metadata": {
    "execution": {
     "iopub.execute_input": "2024-12-31T10:58:31.822434Z",
     "iopub.status.busy": "2024-12-31T10:58:31.821720Z",
     "iopub.status.idle": "2024-12-31T10:58:31.843558Z",
     "shell.execute_reply": "2024-12-31T10:58:31.843239Z",
     "shell.execute_reply.started": "2024-12-31T10:58:31.822407Z"
    }
   },
   "outputs": [],
   "source": [
    "from qiskit.providers.fake_provider import *\n",
    "from mqt import qcec\n",
    "#print(qc.draw(fold=-1))\n",
    "backend=GenericBackendV2(num_qubits=5)\n",
    "transpiled_circuit = transpile(qc, backend) # compile circuit to 5-qubit London Architecture\n",
    "#print(circ_comp.draw(fold=-1))"
   ]
  },
  {
   "cell_type": "code",
   "execution_count": 14,
   "id": "2bbb262c-10bc-4ac2-b497-a718cfb41dec",
   "metadata": {
    "execution": {
     "iopub.execute_input": "2024-12-31T10:58:32.488141Z",
     "iopub.status.busy": "2024-12-31T10:58:32.487975Z",
     "iopub.status.idle": "2024-12-31T10:58:32.645594Z",
     "shell.execute_reply": "2024-12-31T10:58:32.645226Z",
     "shell.execute_reply.started": "2024-12-31T10:58:32.488132Z"
    }
   },
   "outputs": [
    {
     "name": "stderr",
     "output_type": "stream",
     "text": [
      "findfont: Font family 'Times New Roman' not found.\n",
      "findfont: Font family 'Times New Roman' not found.\n",
      "findfont: Font family 'Times New Roman' not found.\n",
      "findfont: Font family 'Times New Roman' not found.\n",
      "findfont: Font family 'Times New Roman' not found.\n",
      "findfont: Font family 'Times New Roman' not found.\n",
      "findfont: Font family 'Times New Roman' not found.\n",
      "findfont: Font family 'Times New Roman' not found.\n",
      "findfont: Font family 'Times New Roman' not found.\n",
      "findfont: Font family 'Times New Roman' not found.\n",
      "findfont: Font family 'Times New Roman' not found.\n",
      "findfont: Font family 'Times New Roman' not found.\n",
      "findfont: Font family 'Times New Roman' not found.\n",
      "findfont: Font family 'Times New Roman' not found.\n",
      "findfont: Font family 'Times New Roman' not found.\n",
      "findfont: Font family 'Times New Roman' not found.\n",
      "findfont: Font family 'Times New Roman' not found.\n",
      "findfont: Font family 'Times New Roman' not found.\n",
      "findfont: Font family 'Times New Roman' not found.\n",
      "findfont: Font family 'Times New Roman' not found.\n",
      "findfont: Font family 'Times New Roman' not found.\n",
      "findfont: Font family 'Times New Roman' not found.\n",
      "findfont: Font family 'Times New Roman' not found.\n",
      "findfont: Font family 'Times New Roman' not found.\n",
      "findfont: Font family 'Times New Roman' not found.\n",
      "findfont: Font family 'Times New Roman' not found.\n",
      "findfont: Font family 'Times New Roman' not found.\n",
      "findfont: Font family 'Times New Roman' not found.\n",
      "findfont: Font family 'Times New Roman' not found.\n",
      "findfont: Font family 'Times New Roman' not found.\n",
      "findfont: Font family 'Times New Roman' not found.\n",
      "findfont: Font family 'Times New Roman' not found.\n",
      "findfont: Font family 'Times New Roman' not found.\n",
      "findfont: Font family 'Times New Roman' not found.\n",
      "findfont: Font family 'Times New Roman' not found.\n",
      "findfont: Font family 'Times New Roman' not found.\n",
      "findfont: Font family 'Times New Roman' not found.\n",
      "findfont: Font family 'Times New Roman' not found.\n",
      "findfont: Font family 'Times New Roman' not found.\n",
      "findfont: Font family 'Times New Roman' not found.\n",
      "findfont: Font family 'Times New Roman' not found.\n",
      "findfont: Font family 'Times New Roman' not found.\n",
      "findfont: Font family 'Times New Roman' not found.\n",
      "findfont: Font family 'Times New Roman' not found.\n",
      "findfont: Font family 'Times New Roman' not found.\n",
      "findfont: Font family 'Times New Roman' not found.\n",
      "findfont: Font family 'Times New Roman' not found.\n",
      "findfont: Font family 'Times New Roman' not found.\n",
      "findfont: Font family 'Times New Roman' not found.\n",
      "findfont: Font family 'Times New Roman' not found.\n",
      "findfont: Font family 'Times New Roman' not found.\n",
      "findfont: Font family 'Times New Roman' not found.\n",
      "findfont: Font family 'Times New Roman' not found.\n",
      "findfont: Font family 'Times New Roman' not found.\n",
      "findfont: Font family 'Times New Roman' not found.\n",
      "findfont: Font family 'Times New Roman' not found.\n",
      "findfont: Font family 'Times New Roman' not found.\n",
      "findfont: Font family 'Times New Roman' not found.\n",
      "findfont: Font family 'Times New Roman' not found.\n",
      "findfont: Font family 'Times New Roman' not found.\n",
      "findfont: Font family 'Times New Roman' not found.\n"
     ]
    },
    {
     "data": {
      "image/png": "[encoded data removed]",
      "text/plain": [
       "<Figure size 640x480 with 1 Axes>"
      ]
     },
     "execution_count": 14,
     "metadata": {},
     "output_type": "execute_result"
    }
   ],
   "source": [
    "job = backend.run(transpiled_circuit)\n",
    "from qiskit.visualization import plot_histogram\n",
    "counts = job.result().get_counts()\n",
    "plot_histogram(counts, sort='value_desc')"
   ]
  },
  {
   "cell_type": "markdown",
   "id": "c94477de-69f9-439d-a1bb-64237ac79185",
   "metadata": {},
   "source": [
    "\n",
    "pip freeze\n",
    "\n",
    "qiskit==1.3.0\n",
    "qiskit-aer==0.15.1\n",
    "qiskit-algorithms==0.3.1\n",
    "qiskit-finance==0.4.1\n",
    "qiskit-ibm-runtime==0.34.0\n",
    "qiskit-nature==0.7.2\n",
    "qiskit-optimization==0.6.1\n",
    "qiskit-qasm3-import==0.5\n",
    "openqasm3==1.0.0"
   ]
  },
  {
   "cell_type": "code",
   "execution_count": 15,
   "id": "1821fdfb-faa1-4852-959b-6f849a5b3b12",
   "metadata": {
    "execution": {
     "iopub.execute_input": "2025-01-01T11:52:43.679789Z",
     "iopub.status.busy": "2025-01-01T11:52:43.679618Z",
     "iopub.status.idle": "2025-01-01T11:52:43.696606Z",
     "shell.execute_reply": "2025-01-01T11:52:43.696260Z",
     "shell.execute_reply.started": "2025-01-01T11:52:43.679779Z"
    }
   },
   "outputs": [
    {
     "ename": "RuntimeError",
     "evalue": "Could not import first circuit: [import] Error processing input stream: circ1",
     "output_type": "error",
     "traceback": [
      "\u001b[0;31m---------------------------------------------------------------------------\u001b[0m",
      "\u001b[0;31mRuntimeError\u001b[0m                              Traceback (most recent call last)",
      "Cell \u001b[0;32mIn[15], line 3\u001b[0m\n\u001b[1;32m      1\u001b[0m \u001b[38;5;28;01mfrom\u001b[39;00m \u001b[38;5;21;01mmqt\u001b[39;00m\u001b[38;5;21;01m.\u001b[39;00m\u001b[38;5;21;01mqcec\u001b[39;00m \u001b[38;5;28;01mimport\u001b[39;00m verify \u001b[38;5;66;03m#r quantum circuit equivalence checking\u001b[39;00m\n\u001b[1;32m      2\u001b[0m \u001b[38;5;66;03m# verify the equivalence of two circuits provided as qasm files\u001b[39;00m\n\u001b[0;32m----> 3\u001b[0m result \u001b[38;5;241m=\u001b[39m \u001b[43mqcec\u001b[49m\u001b[38;5;241;43m.\u001b[39;49m\u001b[43mverify\u001b[49m\u001b[43m(\u001b[49m\u001b[38;5;124;43m\"\u001b[39;49m\u001b[38;5;124;43mcirc1.qasm\u001b[39;49m\u001b[38;5;124;43m\"\u001b[39;49m\u001b[43m,\u001b[49m\u001b[43m \u001b[49m\u001b[38;5;124;43m\"\u001b[39;49m\u001b[38;5;124;43mcirc2.qasm\u001b[39;49m\u001b[38;5;124;43m\"\u001b[39;49m\u001b[43m)\u001b[49m\n\u001b[1;32m      5\u001b[0m \u001b[38;5;66;03m# print the result\u001b[39;00m\n\u001b[1;32m      6\u001b[0m \u001b[38;5;28mprint\u001b[39m(result\u001b[38;5;241m.\u001b[39mequivalence)\n",
      "File \u001b[0;32m~/anaconda3/envs/mqt0/lib/python3.12/site-packages/mqt/qcec/verify.py:56\u001b[0m, in \u001b[0;36mverify\u001b[0;34m(circ1, circ2, configuration, **kwargs)\u001b[0m\n\u001b[1;32m     53\u001b[0m     \u001b[38;5;28;01mreturn\u001b[39;00m check_parameterized(circ1, circ2, configuration)\n\u001b[1;32m     55\u001b[0m \u001b[38;5;66;03m# create the equivalence checker from configuration\u001b[39;00m\n\u001b[0;32m---> 56\u001b[0m ecm \u001b[38;5;241m=\u001b[39m \u001b[43mEquivalenceCheckingManager\u001b[49m\u001b[43m(\u001b[49m\u001b[43mcirc1\u001b[49m\u001b[43m,\u001b[49m\u001b[43m \u001b[49m\u001b[43mcirc2\u001b[49m\u001b[43m,\u001b[49m\u001b[43m \u001b[49m\u001b[43mconfiguration\u001b[49m\u001b[43m)\u001b[49m\n\u001b[1;32m     58\u001b[0m \u001b[38;5;66;03m# execute the check\u001b[39;00m\n\u001b[1;32m     59\u001b[0m ecm\u001b[38;5;241m.\u001b[39mrun()\n",
      "\u001b[0;31mRuntimeError\u001b[0m: Could not import first circuit: [import] Error processing input stream: circ1"
     ]
    }
   ],
   "source": []
  },
  {
   "cell_type": "code",
   "execution_count": 16,
   "id": "011cb7b2-2142-411f-a550-ee2a6d1e2269",
   "metadata": {
    "execution": {
     "iopub.execute_input": "2025-01-01T11:52:44.729961Z",
     "iopub.status.busy": "2025-01-01T11:52:44.729816Z",
     "iopub.status.idle": "2025-01-01T11:52:44.739958Z",
     "shell.execute_reply": "2025-01-01T11:52:44.739654Z",
     "shell.execute_reply.started": "2025-01-01T11:52:44.729948Z"
    }
   },
   "outputs": [
    {
     "ename": "NameError",
     "evalue": "name 'quantum_device' is not defined",
     "output_type": "error",
     "traceback": [
      "\u001b[0;31m---------------------------------------------------------------------------\u001b[0m",
      "\u001b[0;31mNameError\u001b[0m                                 Traceback (most recent call last)",
      "Cell \u001b[0;32mIn[16], line 2\u001b[0m\n\u001b[1;32m      1\u001b[0m \u001b[38;5;66;03m# print the selected device and the compilation information\u001b[39;00m\n\u001b[0;32m----> 2\u001b[0m \u001b[38;5;28mprint\u001b[39m(\u001b[43mquantum_device\u001b[49m, compilation_information)\n\u001b[1;32m      4\u001b[0m \u001b[38;5;66;03m# draw the compiled circuit\u001b[39;00m\n\u001b[1;32m      5\u001b[0m \u001b[38;5;28mprint\u001b[39m(qc_compiled\u001b[38;5;241m.\u001b[39mdraw())\n",
      "\u001b[0;31mNameError\u001b[0m: name 'quantum_device' is not defined"
     ]
    }
   ],
   "source": [
    "# print the selected device and the compilation information\n",
    "print(quantum_device, compilation_information)\n",
    "\n",
    "# draw the compiled circuit\n",
    "print(qc_compiled.draw())"
   ]
  },
  {
   "cell_type": "code",
   "execution_count": null,
   "id": "d8a55580-e147-4bce-80dc-5e6990b11e2c",
   "metadata": {},
   "outputs": [],
   "source": []
  }
 ],
 "metadata": {
  "kernelspec": {
   "display_name": "Python 3 (ipykernel)",
   "language": "python",
   "name": "python3"
  },
  "language_info": {
   "codemirror_mode": {
    "name": "ipython",
    "version": 3
   },
   "file_extension": ".py",
   "mimetype": "text/x-python",
   "name": "python",
   "nbconvert_exporter": "python",
   "pygments_lexer": "ipython3",
   "version": "3.12.0"
  }
 },
 "nbformat": 4,
 "nbformat_minor": 5
}
