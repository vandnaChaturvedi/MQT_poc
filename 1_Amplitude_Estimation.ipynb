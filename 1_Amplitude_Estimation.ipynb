{
 "cells": [
  {
   "cell_type": "code",
   "execution_count": 1,
   "id": "726f886f-49c6-485c-9072-7a5e37e2a1f5",
   "metadata": {
    "execution": {
     "iopub.execute_input": "2025-01-16T06:04:03.440332Z",
     "iopub.status.busy": "2025-01-16T06:04:03.440209Z",
     "iopub.status.idle": "2025-01-16T06:04:07.285338Z",
     "shell.execute_reply": "2025-01-16T06:04:07.284927Z",
     "shell.execute_reply.started": "2025-01-16T06:04:03.440323Z"
    }
   },
   "outputs": [],
   "source": [
    "from mqt.bench import CompilerSettings, QiskitSettings, TKETSettings, get_benchmark\n",
    "from qiskit import *\n",
    "import numpy as np"
   ]
  },
  {
   "cell_type": "code",
   "execution_count": 2,
   "id": "f714fe26-caa9-4ceb-8273-fe6c6c60fb46",
   "metadata": {
    "execution": {
     "iopub.execute_input": "2025-01-16T06:04:07.285811Z",
     "iopub.status.busy": "2025-01-16T06:04:07.285621Z",
     "iopub.status.idle": "2025-01-16T06:04:07.287353Z",
     "shell.execute_reply": "2025-01-16T06:04:07.287123Z",
     "shell.execute_reply.started": "2025-01-16T06:04:07.285801Z"
    }
   },
   "outputs": [],
   "source": [
    "#def create_circuit(num_qubits: int) -> QuantumCircuit:\n",
    "#    ae = AmplitudeEstimation(\n",
    "#        num_eval_qubits=num_qubits - 1,  # -1 because of the to be estimated qubit\n",
    "#    )\n",
    "#    problem = get_estimation_problem()\n",
    "#\n",
    "#    qc = ae.construct_circuit(problem)\n",
    "#    qc.name = \"ae\"\n",
    "#    qc.measure_all()\n",
    "#    return qc"
   ]
  },
  {
   "cell_type": "code",
   "execution_count": 5,
   "id": "9b41d2f3-c400-4ce1-a27f-f4026699c056",
   "metadata": {
    "execution": {
     "iopub.execute_input": "2025-01-16T06:05:22.129545Z",
     "iopub.status.busy": "2025-01-16T06:05:22.129383Z",
     "iopub.status.idle": "2025-01-16T06:05:22.141199Z",
     "shell.execute_reply": "2025-01-16T06:05:22.140931Z",
     "shell.execute_reply.started": "2025-01-16T06:05:22.129531Z"
    }
   },
   "outputs": [
    {
     "name": "stdout",
     "output_type": "stream",
     "text": [
      "---------------ae---------------\n",
      "global phase: 7π/8\n",
      "          ┌───────┐   ┌───────────┐  ┌──────────┐             ┌───────────┐»\n",
      "eval_0: ──┤ Rx(π) ├───┤0          ├──┤ Rx(-π/2) ├─────────────┤0          ├»\n",
      "          ├───────┤   │           │  └──────────┘             │           │»\n",
      "eval_1: ──┤ Rx(π) ├───┤  Rxx(π/2) ├───────────────────────────┤  Rxx(π/2) ├»\n",
      "        ┌─┴───────┴──┐│           │┌─────────────┐┌──────────┐│           │»\n",
      "     q: ┤ Ry(0.9273) ├┤1          ├┤ Rz(-0.9273) ├┤ Rx(-π/2) ├┤1          ├»\n",
      "        └────────────┘└───────────┘└─────────────┘└──────────┘└───────────┘»\n",
      "meas: 3/═══════════════════════════════════════════════════════════════════»\n",
      "                                                                           »\n",
      "«         ┌─────────┐                                                      »\n",
      "«eval_0: ─┤ Rx(π/2) ├──────────────────────────────────────────────────────»\n",
      "«         └─────────┘              ┌───────────┐  ┌──────────┐             »\n",
      "«eval_1: ──────────────────────────┤0          ├──┤ Rx(-π/2) ├─────────────»\n",
      "«        ┌────────────┐┌──────────┐│  Rxx(π/2) │┌─┴──────────┴┐┌──────────┐»\n",
      "«     q: ┤ Rz(0.9273) ├┤ Rx(-π/2) ├┤1          ├┤ Rz(-1.8546) ├┤ Rx(-π/2) ├»\n",
      "«        └────────────┘└──────────┘└───────────┘└─────────────┘└──────────┘»\n",
      "«meas: 3/══════════════════════════════════════════════════════════════════»\n",
      "«                                                                          »\n",
      "«                                               ┌───────────┐┌──────────┐»\n",
      "«eval_0: ───────────────────────────────────────┤0          ├┤ Rx(-π/4) ├»\n",
      "«        ┌───────────┐ ┌──────────┐ ┌──────────┐│  Rxx(π/4) │├──────────┤»\n",
      "«eval_1: ┤0          ├─┤ Ry(-π/2) ├─┤ Rz(-π/2) ├┤1          ├┤ Ry(-π/2) ├»\n",
      "«        │  Rxx(π/2) │┌┴──────────┴┐├──────────┤└───────────┘└──────────┘»\n",
      "«     q: ┤1          ├┤ Rz(1.8546) ├┤ Rx(-π/2) ├─────────────────────────»\n",
      "«        └───────────┘└────────────┘└──────────┘                         »\n",
      "«meas: 3/════════════════════════════════════════════════════════════════»\n",
      "«                                                                        »\n",
      "«                     ░ ┌─┐      \n",
      "«eval_0: ─────────────░─┤M├──────\n",
      "«        ┌──────────┐ ░ └╥┘┌─┐   \n",
      "«eval_1: ┤ Rz(3π/4) ├─░──╫─┤M├───\n",
      "«        └──────────┘ ░  ║ └╥┘┌─┐\n",
      "«     q: ─────────────░──╫──╫─┤M├\n",
      "«                     ░  ║  ║ └╥┘\n",
      "«meas: 3/════════════════╩══╩══╩═\n",
      "«                        0  1  2 \n",
      "=================================================================================================\n"
     ]
    }
   ],
   "source": [
    "compiler_settings = CompilerSettings(qiskit=QiskitSettings(optimization_level=1))\n",
    "qc = get_benchmark(benchmark_name=\"ae\",\n",
    "                   level=\"nativegates\",\n",
    "                   circuit_size=3,\n",
    "                   compiler=\"qiskit\",\n",
    "                   compiler_settings=compiler_settings,\n",
    "                   provider_name=\"ionq\",)\n",
    "print(\"---------------ae---------------\")\n",
    "print(qc.draw())\n",
    "print(\"=================================================================================================\")"
   ]
  },
  {
   "cell_type": "code",
   "execution_count": 6,
   "id": "a1b4a1d1-fa64-464e-b87a-b84f6dfadfff",
   "metadata": {
    "execution": {
     "iopub.execute_input": "2025-01-16T06:05:32.223304Z",
     "iopub.status.busy": "2025-01-16T06:05:32.223117Z",
     "iopub.status.idle": "2025-01-16T06:05:32.230162Z",
     "shell.execute_reply": "2025-01-16T06:05:32.229933Z",
     "shell.execute_reply.started": "2025-01-16T06:05:32.223293Z"
    }
   },
   "outputs": [
    {
     "name": "stdout",
     "output_type": "stream",
     "text": [
      " > Counts: {'110': 89, '011': 253, '010': 236, '100': 260, '111': 70, '001': 59, '000': 27, '101': 6}\n"
     ]
    }
   ],
   "source": [
    "from qiskit_aer import AerSimulator\n",
    "from qiskit import *\n",
    "from qiskit.providers.fake_provider import *\n",
    "import numpy as np \n",
    "import os\n",
    "from qiskit.primitives import StatevectorSampler\n",
    "sampler = StatevectorSampler()\n",
    "job = sampler.run([qc], shots=1000)\n",
    "result = job.result()\n",
    "print(f\" > Counts: {result[0].data[\"meas\"].get_counts()}\")"
   ]
  },
  {
   "cell_type": "code",
   "execution_count": null,
   "id": "890f4e2d-3392-42c9-86ad-d6f2f8980618",
   "metadata": {},
   "outputs": [],
   "source": []
  }
 ],
 "metadata": {
  "kernelspec": {
   "display_name": "Python 3 (ipykernel)",
   "language": "python",
   "name": "python3"
  },
  "language_info": {
   "codemirror_mode": {
    "name": "ipython",
    "version": 3
   },
   "file_extension": ".py",
   "mimetype": "text/x-python",
   "name": "python",
   "nbconvert_exporter": "python",
   "pygments_lexer": "ipython3",
   "version": "3.12.0"
  }
 },
 "nbformat": 4,
 "nbformat_minor": 5
}
