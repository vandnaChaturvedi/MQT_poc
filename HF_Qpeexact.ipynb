{
 "cells": [
  {
   "cell_type": "code",
   "execution_count": 1,
   "id": "951747d6-c034-4b1b-bb45-42116e20fcf8",
   "metadata": {
    "execution": {
     "iopub.execute_input": "2025-08-22T11:17:20.292900Z",
     "iopub.status.busy": "2025-08-22T11:17:20.292296Z",
     "iopub.status.idle": "2025-08-22T11:17:22.353284Z",
     "shell.execute_reply": "2025-08-22T11:17:22.352966Z",
     "shell.execute_reply.started": "2025-08-22T11:17:20.292886Z"
    }
   },
   "outputs": [
    {
     "name": "stdout",
     "output_type": "stream",
     "text": [
      "--------------- qpeexact  with qubit 3 ---------------\n",
      "--------------- qpeexact  with qubit 4 ---------------\n",
      "=================================================================================================\n",
      "[(3, <qiskit.circuit.quantumcircuit.QuantumCircuit object at 0x7da7af656fc0>), (4, <qiskit.circuit.quantumcircuit.QuantumCircuit object at 0x7da7b02b38c0>)]\n"
     ]
    }
   ],
   "source": [
    "from mqt.bench import CompilerSettings, QiskitSettings, get_benchmark\n",
    "from qiskit import *\n",
    "import numpy as np\n",
    "\n",
    "min_qubit = 3 # maximum number of qubit\n",
    "max_qubit = 5 # minimum number of qubit\n",
    "gaps = 1\n",
    "min_qubit = min(max(2, min_qubit), max_qubit) # maximum number of qubit\n",
    "max_qubit = max(2, max_qubit) # minimum number of qubit\n",
    "#skip_qubis = max(1, skip_qubits)\n",
    "gaps = 1\n",
    "compiler_settings = CompilerSettings(qiskit=QiskitSettings(optimization_level=1))\n",
    "circuits= []\n",
    "for i in range(min_qubit, max_qubit, gaps):\n",
    "    qc = get_benchmark(benchmark_name=\"qpeexact\",\n",
    "                       level=\"nativegates\",\n",
    "                       circuit_size=i,\n",
    "                       compiler=\"qiskit\",\n",
    "                       compiler_settings=compiler_settings,\n",
    "                       provider_name=\"ionq\",)\n",
    "    circuits.append((i,qc))\n",
    "    print(\"---------------\",qc.name,\" with qubit\", i,\"---------------\")\n",
    "print(\"=================================================================================================\")\n",
    "print(circuits)"
   ]
  },
  {
   "cell_type": "code",
   "execution_count": 2,
   "id": "07e6d8d8-7705-485c-ab8b-e1043a515402",
   "metadata": {
    "execution": {
     "iopub.execute_input": "2025-08-22T11:17:58.946752Z",
     "iopub.status.busy": "2025-08-22T11:17:58.946398Z",
     "iopub.status.idle": "2025-08-22T11:17:59.026183Z",
     "shell.execute_reply": "2025-08-22T11:17:59.025773Z",
     "shell.execute_reply.started": "2025-08-22T11:17:58.946732Z"
    }
   },
   "outputs": [
    {
     "name": "stdout",
     "output_type": "stream",
     "text": [
      "Collected results:\n",
      "(3, {'10': 1000}, {'000': 2.3496345321524272e-32, '001': 7.28272657618405e-34, '010': 9.849226832859281e-35, '011': 6.92211582125373e-33, '100': 4.5066760698661324e-32, '101': 3.5993726390809435e-32, '110': 1.0, '111': 5.097994436730214e-32})\n",
      "(4, {'100': 1000}, {'0000': 5.007417855406809e-33, '0001': 9.360873108461332e-33, '0010': 7.695773248803968e-35, '0011': 8.982072257504544e-33, '0100': 1.1759678369401415e-32, '0101': 1.0171922099185184e-32, '0110': 1.4644948990741023e-33, '0111': 3.440555763175674e-34, '1000': 1.20563214518641e-31, '1001': 8.587745149029165e-32, '1010': 1.3239799405325488e-32, '1011': 6.865995209303065e-32, '1100': 0.9999999999999993, '1101': 1.1774717985749911e-32, '1110': 1.260467218640668e-32, '1111': 1.98841930970151e-32})\n"
     ]
    }
   ],
   "source": [
    "from qiskit_aer import AerSimulator\n",
    "from qiskit.quantum_info import Statevector\n",
    "\n",
    "simulator = AerSimulator()\n",
    "\n",
    "jobs = []\n",
    "for qubit_number, circuit_object in circuits:\n",
    "    # Run noisy simulation (counts)\n",
    "    job = simulator.run(circuit_object, shots=1000)\n",
    "    results = job.result()\n",
    "    counts = results.get_counts()\n",
    "\n",
    "    # Get ideal distribution from statevector\n",
    "    qc_nom = circuit_object.remove_final_measurements(inplace=False)\n",
    "    state = Statevector.from_instruction(qc_nom)\n",
    "    ideal_probs = state.probabilities_dict()\n",
    "\n",
    "    jobs.append((qubit_number, counts, ideal_probs))\n",
    "\n",
    "print(\"Collected results:\")\n",
    "for res in jobs:\n",
    "    print(res)\n"
   ]
  },
  {
   "cell_type": "code",
   "execution_count": 3,
   "id": "60d4f628-0145-4fd3-9f55-e32551f95cc5",
   "metadata": {
    "execution": {
     "iopub.execute_input": "2025-08-22T11:17:59.460677Z",
     "iopub.status.busy": "2025-08-22T11:17:59.460479Z",
     "iopub.status.idle": "2025-08-22T11:17:59.464040Z",
     "shell.execute_reply": "2025-08-22T11:17:59.463677Z",
     "shell.execute_reply.started": "2025-08-22T11:17:59.460663Z"
    }
   },
   "outputs": [],
   "source": [
    "# Hellinger fidelity function\n",
    "def hellinger_fidelity_with_expected(p, q):\n",
    "    \"\"\"Compute Hellinger fidelity between measured distribution p (counts)\n",
    "       and expected distribution q (probabilities).\"\"\"\n",
    "    p_sum = sum(p.values())\n",
    "    p_norm = {k: v / p_sum for k, v in p.items()}\n",
    "\n",
    "    q_sum = sum(q.values())\n",
    "    q_norm = {k: v / q_sum for k, v in q.items()}\n",
    "\n",
    "    overlap = 0.0\n",
    "    for k in set(p_norm) | set(q_norm):\n",
    "        overlap += np.sqrt(p_norm.get(k, 0) * q_norm.get(k, 0))\n",
    "    return overlap**2"
   ]
  },
  {
   "cell_type": "code",
   "execution_count": 5,
   "id": "a044d8ed-0708-4512-9138-bc076a5daa51",
   "metadata": {
    "execution": {
     "iopub.execute_input": "2025-08-22T11:18:11.092139Z",
     "iopub.status.busy": "2025-08-22T11:18:11.091933Z",
     "iopub.status.idle": "2025-08-22T11:18:11.094441Z",
     "shell.execute_reply": "2025-08-22T11:18:11.094137Z",
     "shell.execute_reply.started": "2025-08-22T11:18:11.092126Z"
    }
   },
   "outputs": [
    {
     "name": "stdout",
     "output_type": "stream",
     "text": [
      "Hellinger Fidelity (qpe-exact, 3 qubits): 0.0000\n",
      "Hellinger Fidelity (qpe-exact, 4 qubits): 0.0000\n"
     ]
    }
   ],
   "source": [
    "for qubit_number, counts, ideal_probs in jobs:\n",
    "    fidelity = hellinger_fidelity_with_expected(counts, ideal_probs)\n",
    "    print(f\"Hellinger Fidelity (qpe-exact, {qubit_number} qubits): {fidelity:.4f}\")"
   ]
  },
  {
   "cell_type": "code",
   "execution_count": null,
   "id": "b04ca7ae-466e-4ea0-a343-ab051cefc513",
   "metadata": {},
   "outputs": [],
   "source": []
  },
  {
   "cell_type": "code",
   "execution_count": null,
   "id": "79df5aa5-b617-4eaf-99af-bcd5d45b41f6",
   "metadata": {},
   "outputs": [],
   "source": []
  }
 ],
 "metadata": {
  "kernelspec": {
   "display_name": "Python 3 (ipykernel)",
   "language": "python",
   "name": "python3"
  },
  "language_info": {
   "codemirror_mode": {
    "name": "ipython",
    "version": 3
   },
   "file_extension": ".py",
   "mimetype": "text/x-python",
   "name": "python",
   "nbconvert_exporter": "python",
   "pygments_lexer": "ipython3",
   "version": "3.12.0"
  }
 },
 "nbformat": 4,
 "nbformat_minor": 5
}
