{
 "cells": [
  {
   "cell_type": "code",
   "execution_count": 18,
   "id": "726f886f-49c6-485c-9072-7a5e37e2a1f5",
   "metadata": {
    "execution": {
     "iopub.execute_input": "2025-08-20T09:56:30.464623Z",
     "iopub.status.busy": "2025-08-20T09:56:30.464451Z",
     "iopub.status.idle": "2025-08-20T09:56:30.467063Z",
     "shell.execute_reply": "2025-08-20T09:56:30.466813Z",
     "shell.execute_reply.started": "2025-08-20T09:56:30.464612Z"
    }
   },
   "outputs": [],
   "source": [
    "from mqt.bench import get_benchmark\n",
    "from mqt.bench import CompilerSettings, QiskitSettings, TKETSettings, get_benchmark\n",
    "from qiskit import *\n",
    "import numpy as np"
   ]
  },
  {
   "cell_type": "code",
   "execution_count": 19,
   "id": "c148fa9d-7677-4624-8a17-6562d8e9d37c",
   "metadata": {
    "execution": {
     "iopub.execute_input": "2025-08-20T09:56:30.712198Z",
     "iopub.status.busy": "2025-08-20T09:56:30.712028Z",
     "iopub.status.idle": "2025-08-20T09:56:30.714296Z",
     "shell.execute_reply": "2025-08-20T09:56:30.713943Z",
     "shell.execute_reply.started": "2025-08-20T09:56:30.712188Z"
    }
   },
   "outputs": [],
   "source": [
    "n=3"
   ]
  },
  {
   "cell_type": "code",
   "execution_count": 20,
   "id": "f714fe26-caa9-4ceb-8273-fe6c6c60fb46",
   "metadata": {
    "execution": {
     "iopub.execute_input": "2025-08-20T09:56:30.939434Z",
     "iopub.status.busy": "2025-08-20T09:56:30.939265Z",
     "iopub.status.idle": "2025-08-20T09:56:30.946539Z",
     "shell.execute_reply": "2025-08-20T09:56:30.946261Z",
     "shell.execute_reply.started": "2025-08-20T09:56:30.939424Z"
    }
   },
   "outputs": [
    {
     "name": "stdout",
     "output_type": "stream",
     "text": [
      "---------------dj---------------\n",
      "global phase: 3π/2\n",
      "      ┌───────┐  ┌───────────┐ ┌────────┐  ┌──────────┐                        »\n",
      "q_0: ─┤ Ry(π) ├──┤0          ├─┤ Rz(-π) ├──┤ Rx(-π/2) ├────────────────────────»\n",
      "      ├───────┤  │           │ └────────┘ ┌┴──────────┤ ┌────────┐ ┌──────────┐»\n",
      "q_1: ─┤ Ry(π) ├──┤  Rxx(π/2) ├────────────┤0          ├─┤ Rz(-π) ├─┤ Rx(-π/2) ├»\n",
      "     ┌┴───────┴─┐│           │┌──────────┐│  Rxx(π/2) │┌┴────────┴┐└──────────┘»\n",
      "q_2: ┤ Ry(-π/2) ├┤1          ├┤ Rx(-π/2) ├┤1          ├┤ Rx(-π/2) ├────────────»\n",
      "     └──────────┘└───────────┘└──────────┘└───────────┘└──────────┘            »\n",
      "c: 2/══════════════════════════════════════════════════════════════════════════»\n",
      "                                                                               »\n",
      "«      ░ ┌─┐   \n",
      "«q_0: ─░─┤M├───\n",
      "«      ░ └╥┘┌─┐\n",
      "«q_1: ─░──╫─┤M├\n",
      "«      ░  ║ └╥┘\n",
      "«q_2: ─░──╫──╫─\n",
      "«      ░  ║  ║ \n",
      "«c: 2/════╩══╩═\n",
      "«         0  1 \n",
      "=================================================================================================\n"
     ]
    }
   ],
   "source": [
    "compiler_settings = CompilerSettings(qiskit=QiskitSettings(optimization_level=1))\n",
    "qc = get_benchmark(benchmark_name=\"dj\",\n",
    "                    level=\"nativegates\",\n",
    "                    circuit_size=n,\n",
    "                    compiler=\"qiskit\",\n",
    "                    compiler_settings=compiler_settings,\n",
    "                    provider_name=\"ionq\",)\n",
    "print(\"---------------dj---------------\")\n",
    "print(qc.draw())\n",
    "print(\"=================================================================================================\")"
   ]
  },
  {
   "cell_type": "code",
   "execution_count": 21,
   "id": "9b41d2f3-c400-4ce1-a27f-f4026699c056",
   "metadata": {
    "execution": {
     "iopub.execute_input": "2025-08-20T09:56:31.168679Z",
     "iopub.status.busy": "2025-08-20T09:56:31.168510Z",
     "iopub.status.idle": "2025-08-20T09:56:31.177846Z",
     "shell.execute_reply": "2025-08-20T09:56:31.177109Z",
     "shell.execute_reply.started": "2025-08-20T09:56:31.168668Z"
    }
   },
   "outputs": [],
   "source": [
    "from qiskit_aer import AerSimulator\n",
    "from qiskit import *\n",
    "from qiskit.providers.fake_provider import *\n",
    "import numpy as np \n",
    "import os\n",
    "from qiskit.primitives import StatevectorSampler\n",
    "sampler = AerSimulator()\n",
    "job = sampler.run([qc], shots=1000)\n",
    "result = job.result()"
   ]
  },
  {
   "cell_type": "code",
   "execution_count": 22,
   "id": "03a0430e-94b5-4cce-ab53-daa1154b1fea",
   "metadata": {
    "execution": {
     "iopub.execute_input": "2025-08-20T09:56:31.576645Z",
     "iopub.status.busy": "2025-08-20T09:56:31.576492Z",
     "iopub.status.idle": "2025-08-20T09:56:31.579011Z",
     "shell.execute_reply": "2025-08-20T09:56:31.578778Z",
     "shell.execute_reply.started": "2025-08-20T09:56:31.576636Z"
    }
   },
   "outputs": [
    {
     "name": "stdout",
     "output_type": "stream",
     "text": [
      " > Counts: {'11': 1000}\n"
     ]
    }
   ],
   "source": [
    "counts = result.get_counts()\n",
    "print(f\" > Counts: {counts}\")"
   ]
  },
  {
   "cell_type": "code",
   "execution_count": 26,
   "id": "76e896ca-3f9d-4e63-9c6b-bc01500c65bb",
   "metadata": {
    "execution": {
     "iopub.execute_input": "2025-08-20T10:04:38.018860Z",
     "iopub.status.busy": "2025-08-20T10:04:38.018703Z",
     "iopub.status.idle": "2025-08-20T10:04:38.022728Z",
     "shell.execute_reply": "2025-08-20T10:04:38.022412Z",
     "shell.execute_reply.started": "2025-08-20T10:04:38.018848Z"
    }
   },
   "outputs": [],
   "source": [
    "def hellinger_fidelity_with_expected(p, q):\n",
    "    \"\"\"Compute Hellinger fidelity between measured distribution p (counts)\n",
    "        and expected distribution q (counts).\n",
    "        Both p and q should be dictionaries: {bitstring: counts}.\"\"\"\n",
    "    p_sum, q_sum = sum(p.values()), sum(q.values())  # Normalize to probability distributions\n",
    "    if q_sum == 0:\n",
    "        raise ValueError(\"Expected distribution invalid (all counts = 0)\")\n",
    "    p_norm = {k: v / p_sum for k, v in p.items()}\n",
    "    q_norm = {k: v / q_sum for k, v in q.items()}\n",
    "    overlap = 0.0\n",
    "    for k in set(p_norm) | set(q_norm):  # union of keys\n",
    "        overlap += np.sqrt(p_norm.get(k, 0) * q_norm.get(k, 0))  # Compute fidelity    \n",
    "    return overlap**2\n",
    "\n",
    "def rescale_fidelity(f, floor, new_floor):\n",
    "    r = (1-new_floor)/(1-floor) * (f - 1) + 1\n",
    "    return max(0, min(1, r))\n",
    "\n",
    "def polarization_fidelity(counts, correct_dist, thermal_dist=None): \n",
    "    '''     counts: the measurement outcomes after `num_shots` algorithm runs\n",
    "                        correct_dist: the distribution we expect to get for the algorithm running perfectly\n",
    "                        thermal_dist: optional distribution to pass in distribution from a uniform superposition over all states. If `None`: generated as \n",
    "                        uniform_dist` with the same qubits as in `counts`'''\n",
    "    n = len(next(iter(correct_dist)))                            # get length of random key in correct_dist to find how many qubits measured\n",
    "    counts = {k.zfill(n): v for k, v in counts.items()}          # ensure that all keys in counts are zero padded to this length\n",
    "    hf = hellinger_fidelity_with_expected(counts, correct_dist)   # calculate hellinger fidelity between measured expectation values and correct distribution\n",
    "    if n > 16: return {'fidelity': hf, 'hf_fidelity': hf}         # to limit cpu and memory utilization, skip noise correction if more than 16 measured qubits  & if not provided, generate thermal dist based on number of qubits\n",
    "    if thermal_dist is None: thermal_dist = uniform_dist(n)      # set our fidelity rescaling value as the hellinger fidelity for a depolarized state\n",
    "    floor = hellinger_fidelity_with_expected(thermal_dist, correct_dist)   # rescale fidelity result so uniform superposition (random guessing) returns fidelity\n",
    "      \n",
    "    # rescaled to 0 to provide a better measure of success of the algorithm (polarization)return {'fidelity': rescale_fidelity(hf, floor, 0), 'hf_fidelity': hf}\n"
   ]
  },
  {
   "cell_type": "code",
   "execution_count": 27,
   "id": "53bf0c97-3b67-49ce-a463-690f8d332e16",
   "metadata": {
    "execution": {
     "iopub.execute_input": "2025-08-20T10:04:39.261497Z",
     "iopub.status.busy": "2025-08-20T10:04:39.261370Z",
     "iopub.status.idle": "2025-08-20T10:04:39.264246Z",
     "shell.execute_reply": "2025-08-20T10:04:39.263995Z",
     "shell.execute_reply.started": "2025-08-20T10:04:39.261488Z"
    }
   },
   "outputs": [
    {
     "name": "stdout",
     "output_type": "stream",
     "text": [
      "Measured Counts: {'11': 1000}\n",
      "Hellinger Fidelity: 0.0\n"
     ]
    }
   ],
   "source": [
    "# Build expected distribution: Example: for \"constant\" oracle, expected is all 0s\n",
    "expected = {\"000\": 1000}  \n",
    "# Or normalize (doesn't matter, function will normalize internally)\n",
    "fidelity = hellinger_fidelity_with_expected(counts, expected)\n",
    "print(\"Measured Counts:\", counts)\n",
    "print(\"Hellinger Fidelity:\", fidelity)"
   ]
  },
  {
   "cell_type": "code",
   "execution_count": null,
   "id": "37b907bc-e26c-456f-a8cf-c5d9f7416b63",
   "metadata": {},
   "outputs": [],
   "source": []
  },
  {
   "cell_type": "code",
   "execution_count": null,
   "id": "10e767f5-f8b3-413d-8690-82c6fb630d7f",
   "metadata": {},
   "outputs": [],
   "source": []
  },
  {
   "cell_type": "code",
   "execution_count": null,
   "id": "b1a2679f-0b80-4132-93f1-406a11093351",
   "metadata": {},
   "outputs": [],
   "source": []
  }
 ],
 "metadata": {
  "kernelspec": {
   "display_name": "Python 3 (ipykernel)",
   "language": "python",
   "name": "python3"
  },
  "language_info": {
   "codemirror_mode": {
    "name": "ipython",
    "version": 3
   },
   "file_extension": ".py",
   "mimetype": "text/x-python",
   "name": "python",
   "nbconvert_exporter": "python",
   "pygments_lexer": "ipython3",
   "version": "3.12.0"
  }
 },
 "nbformat": 4,
 "nbformat_minor": 5
}
