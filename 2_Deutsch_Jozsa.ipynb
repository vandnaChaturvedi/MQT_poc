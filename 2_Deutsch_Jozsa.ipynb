{
 "cells": [
  {
   "cell_type": "code",
   "execution_count": 16,
   "id": "726f886f-49c6-485c-9072-7a5e37e2a1f5",
   "metadata": {
    "execution": {
     "iopub.execute_input": "2025-08-18T11:27:50.645517Z",
     "iopub.status.busy": "2025-08-18T11:27:50.645381Z",
     "iopub.status.idle": "2025-08-18T11:27:50.648014Z",
     "shell.execute_reply": "2025-08-18T11:27:50.647640Z",
     "shell.execute_reply.started": "2025-08-18T11:27:50.645508Z"
    }
   },
   "outputs": [],
   "source": [
    "from mqt.bench import get_benchmark\n",
    "from mqt.bench import CompilerSettings, QiskitSettings, TKETSettings, get_benchmark\n",
    "from qiskit import *\n",
    "import numpy as np"
   ]
  },
  {
   "cell_type": "code",
   "execution_count": 17,
   "id": "c148fa9d-7677-4624-8a17-6562d8e9d37c",
   "metadata": {
    "execution": {
     "iopub.execute_input": "2025-08-18T11:27:50.983159Z",
     "iopub.status.busy": "2025-08-18T11:27:50.983034Z",
     "iopub.status.idle": "2025-08-18T11:27:50.985267Z",
     "shell.execute_reply": "2025-08-18T11:27:50.984847Z",
     "shell.execute_reply.started": "2025-08-18T11:27:50.983151Z"
    }
   },
   "outputs": [],
   "source": [
    "n=3"
   ]
  },
  {
   "cell_type": "code",
   "execution_count": 18,
   "id": "f714fe26-caa9-4ceb-8273-fe6c6c60fb46",
   "metadata": {
    "execution": {
     "iopub.execute_input": "2025-08-18T11:27:51.307786Z",
     "iopub.status.busy": "2025-08-18T11:27:51.307608Z",
     "iopub.status.idle": "2025-08-18T11:27:51.314897Z",
     "shell.execute_reply": "2025-08-18T11:27:51.314584Z",
     "shell.execute_reply.started": "2025-08-18T11:27:51.307778Z"
    }
   },
   "outputs": [
    {
     "name": "stdout",
     "output_type": "stream",
     "text": [
      "---------------dj---------------\n",
      "global phase: 3π/2\n",
      "      ┌───────┐  ┌───────────┐ ┌────────┐  ┌──────────┐                        »\n",
      "q_0: ─┤ Ry(π) ├──┤0          ├─┤ Rz(-π) ├──┤ Rx(-π/2) ├────────────────────────»\n",
      "      ├───────┤  │           │ └────────┘ ┌┴──────────┤ ┌────────┐ ┌──────────┐»\n",
      "q_1: ─┤ Ry(π) ├──┤  Rxx(π/2) ├────────────┤0          ├─┤ Rz(-π) ├─┤ Rx(-π/2) ├»\n",
      "     ┌┴───────┴─┐│           │┌──────────┐│  Rxx(π/2) │┌┴────────┴┐└──────────┘»\n",
      "q_2: ┤ Ry(-π/2) ├┤1          ├┤ Rx(-π/2) ├┤1          ├┤ Rx(-π/2) ├────────────»\n",
      "     └──────────┘└───────────┘└──────────┘└───────────┘└──────────┘            »\n",
      "c: 2/══════════════════════════════════════════════════════════════════════════»\n",
      "                                                                               »\n",
      "«      ░ ┌─┐   \n",
      "«q_0: ─░─┤M├───\n",
      "«      ░ └╥┘┌─┐\n",
      "«q_1: ─░──╫─┤M├\n",
      "«      ░  ║ └╥┘\n",
      "«q_2: ─░──╫──╫─\n",
      "«      ░  ║  ║ \n",
      "«c: 2/════╩══╩═\n",
      "«         0  1 \n",
      "=================================================================================================\n"
     ]
    }
   ],
   "source": [
    "compiler_settings = CompilerSettings(qiskit=QiskitSettings(optimization_level=1))\n",
    "qc = get_benchmark(benchmark_name=\"dj\",\n",
    "                    level=\"nativegates\",\n",
    "                    circuit_size=n,\n",
    "                    compiler=\"qiskit\",\n",
    "                    compiler_settings=compiler_settings,\n",
    "                    provider_name=\"ionq\",)\n",
    "print(\"---------------dj---------------\")\n",
    "print(qc.draw())\n",
    "print(\"=================================================================================================\")\n"
   ]
  },
  {
   "cell_type": "code",
   "execution_count": 20,
   "id": "9b41d2f3-c400-4ce1-a27f-f4026699c056",
   "metadata": {
    "execution": {
     "iopub.execute_input": "2025-08-18T11:28:25.098277Z",
     "iopub.status.busy": "2025-08-18T11:28:25.098109Z",
     "iopub.status.idle": "2025-08-18T11:28:25.117361Z",
     "shell.execute_reply": "2025-08-18T11:28:25.116962Z",
     "shell.execute_reply.started": "2025-08-18T11:28:25.098268Z"
    }
   },
   "outputs": [
    {
     "ename": "KeyError",
     "evalue": "'Key (meas) does not exist in this data bin.'",
     "output_type": "error",
     "traceback": [
      "\u001b[0;31m---------------------------------------------------------------------------\u001b[0m",
      "\u001b[0;31mKeyError\u001b[0m                                  Traceback (most recent call last)",
      "File \u001b[0;32m~/anaconda3/envs/mqt0/lib/python3.12/site-packages/qiskit/primitives/containers/data_bin.py:115\u001b[0m, in \u001b[0;36mDataBin.__getitem__\u001b[0;34m(self, key)\u001b[0m\n\u001b[1;32m    114\u001b[0m \u001b[38;5;28;01mtry\u001b[39;00m:\n\u001b[0;32m--> 115\u001b[0m     \u001b[38;5;28;01mreturn\u001b[39;00m \u001b[38;5;28;43mself\u001b[39;49m\u001b[38;5;241;43m.\u001b[39;49m\u001b[43m_data\u001b[49m\u001b[43m[\u001b[49m\u001b[43mkey\u001b[49m\u001b[43m]\u001b[49m\n\u001b[1;32m    116\u001b[0m \u001b[38;5;28;01mexcept\u001b[39;00m \u001b[38;5;167;01mKeyError\u001b[39;00m \u001b[38;5;28;01mas\u001b[39;00m ex:\n",
      "\u001b[0;31mKeyError\u001b[0m: 'meas'",
      "\nThe above exception was the direct cause of the following exception:\n",
      "\u001b[0;31mKeyError\u001b[0m                                  Traceback (most recent call last)",
      "Cell \u001b[0;32mIn[20], line 10\u001b[0m\n\u001b[1;32m      8\u001b[0m job \u001b[38;5;241m=\u001b[39m sampler\u001b[38;5;241m.\u001b[39mrun([qc], shots\u001b[38;5;241m=\u001b[39m\u001b[38;5;241m1000\u001b[39m)\n\u001b[1;32m      9\u001b[0m result \u001b[38;5;241m=\u001b[39m job\u001b[38;5;241m.\u001b[39mresult()\n\u001b[0;32m---> 10\u001b[0m count \u001b[38;5;241m=\u001b[39m \u001b[43mresult\u001b[49m\u001b[43m[\u001b[49m\u001b[38;5;241;43m0\u001b[39;49m\u001b[43m]\u001b[49m\u001b[38;5;241;43m.\u001b[39;49m\u001b[43mdata\u001b[49m\u001b[43m[\u001b[49m\u001b[38;5;124;43m\"\u001b[39;49m\u001b[38;5;124;43mmeas\u001b[39;49m\u001b[38;5;124;43m\"\u001b[39;49m\u001b[43m]\u001b[49m\u001b[38;5;241m.\u001b[39mget_counts()\n\u001b[1;32m     11\u001b[0m \u001b[38;5;66;03m#print(f\" > Counts: {result[0].data[\"meas\"].get_counts()}\")\u001b[39;00m\n",
      "File \u001b[0;32m~/anaconda3/envs/mqt0/lib/python3.12/site-packages/qiskit/primitives/containers/data_bin.py:117\u001b[0m, in \u001b[0;36mDataBin.__getitem__\u001b[0;34m(self, key)\u001b[0m\n\u001b[1;32m    115\u001b[0m     \u001b[38;5;28;01mreturn\u001b[39;00m \u001b[38;5;28mself\u001b[39m\u001b[38;5;241m.\u001b[39m_data[key]\n\u001b[1;32m    116\u001b[0m \u001b[38;5;28;01mexcept\u001b[39;00m \u001b[38;5;167;01mKeyError\u001b[39;00m \u001b[38;5;28;01mas\u001b[39;00m ex:\n\u001b[0;32m--> 117\u001b[0m     \u001b[38;5;28;01mraise\u001b[39;00m \u001b[38;5;167;01mKeyError\u001b[39;00m(\u001b[38;5;124mf\u001b[39m\u001b[38;5;124m\"\u001b[39m\u001b[38;5;124mKey (\u001b[39m\u001b[38;5;132;01m{\u001b[39;00mkey\u001b[38;5;132;01m}\u001b[39;00m\u001b[38;5;124m) does not exist in this data bin.\u001b[39m\u001b[38;5;124m\"\u001b[39m) \u001b[38;5;28;01mfrom\u001b[39;00m \u001b[38;5;21;01mex\u001b[39;00m\n",
      "\u001b[0;31mKeyError\u001b[0m: 'Key (meas) does not exist in this data bin.'"
     ]
    }
   ],
   "source": [
    "from qiskit_aer import AerSimulator\n",
    "from qiskit import *\n",
    "from qiskit.providers.fake_provider import *\n",
    "import numpy as np \n",
    "import os\n",
    "from qiskit.primitives import StatevectorSampler\n",
    "sampler = StatevectorSampler()\n",
    "job = sampler.run([qc], shots=1000)\n",
    "result = job.result()\n",
    "count = result[0].data[\"meas\"].get_counts()\n",
    "#print(f\" > Counts: {result[0].data[\"meas\"].get_counts()}\")"
   ]
  },
  {
   "cell_type": "code",
   "execution_count": 15,
   "id": "4610839c-01a5-4d8e-8197-563bfafdcdf0",
   "metadata": {
    "execution": {
     "iopub.execute_input": "2025-08-18T11:23:55.739282Z",
     "iopub.status.busy": "2025-08-18T11:23:55.739025Z",
     "iopub.status.idle": "2025-08-18T11:23:55.742898Z",
     "shell.execute_reply": "2025-08-18T11:23:55.742643Z",
     "shell.execute_reply.started": "2025-08-18T11:23:55.739266Z"
    }
   },
   "outputs": [
    {
     "data": {
      "text/plain": [
       "PrimitiveResult([SamplerPubResult(data=DataBin(c=BitArray(<shape=(), num_shots=1000, num_bits=2>)), metadata={'shots': 1000, 'circuit_metadata': {}})], metadata={'version': 2})"
      ]
     },
     "execution_count": 15,
     "metadata": {},
     "output_type": "execute_result"
    }
   ],
   "source": [
    "result"
   ]
  },
  {
   "cell_type": "code",
   "execution_count": 21,
   "id": "11affb8c-904f-458e-9fae-f32e975c23a3",
   "metadata": {
    "execution": {
     "iopub.execute_input": "2025-08-18T11:34:41.335502Z",
     "iopub.status.busy": "2025-08-18T11:34:41.335232Z",
     "iopub.status.idle": "2025-08-18T11:34:41.337938Z",
     "shell.execute_reply": "2025-08-18T11:34:41.337591Z",
     "shell.execute_reply.started": "2025-08-18T11:34:41.335488Z"
    }
   },
   "outputs": [
    {
     "data": {
      "text/plain": [
       "SamplerPubResult(data=DataBin(c=BitArray(<shape=(), num_shots=1000, num_bits=2>)), metadata={'shots': 1000, 'circuit_metadata': {}})"
      ]
     },
     "execution_count": 21,
     "metadata": {},
     "output_type": "execute_result"
    }
   ],
   "source": [
    "result[0]"
   ]
  },
  {
   "cell_type": "code",
   "execution_count": 23,
   "id": "b055f5f0-21f5-4761-b574-2d4fff9eabe5",
   "metadata": {
    "execution": {
     "iopub.execute_input": "2025-08-18T11:38:29.181895Z",
     "iopub.status.busy": "2025-08-18T11:38:29.181762Z",
     "iopub.status.idle": "2025-08-18T11:38:29.184097Z",
     "shell.execute_reply": "2025-08-18T11:38:29.183879Z",
     "shell.execute_reply.started": "2025-08-18T11:38:29.181885Z"
    }
   },
   "outputs": [
    {
     "data": {
      "text/plain": [
       "DataBin(c=BitArray(<shape=(), num_shots=1000, num_bits=2>))"
      ]
     },
     "execution_count": 23,
     "metadata": {},
     "output_type": "execute_result"
    }
   ],
   "source": [
    "result[0].data"
   ]
  },
  {
   "cell_type": "code",
   "execution_count": 31,
   "id": "ffebae6a-0daf-4919-aa47-3cff2b9843cc",
   "metadata": {
    "execution": {
     "iopub.execute_input": "2025-08-18T11:51:36.627979Z",
     "iopub.status.busy": "2025-08-18T11:51:36.627791Z",
     "iopub.status.idle": "2025-08-18T11:51:36.630334Z",
     "shell.execute_reply": "2025-08-18T11:51:36.629915Z",
     "shell.execute_reply.started": "2025-08-18T11:51:36.627968Z"
    }
   },
   "outputs": [
    {
     "data": {
      "text/plain": [
       "DataBin(c=BitArray(<shape=(), num_shots=1000, num_bits=2>))"
      ]
     },
     "execution_count": 31,
     "metadata": {},
     "output_type": "execute_result"
    }
   ],
   "source": [
    "data"
   ]
  },
  {
   "cell_type": "code",
   "execution_count": 34,
   "id": "e79cec6b-85cc-49a0-a682-fd2c201f8ca2",
   "metadata": {
    "execution": {
     "iopub.execute_input": "2025-08-18T11:51:48.925131Z",
     "iopub.status.busy": "2025-08-18T11:51:48.924966Z",
     "iopub.status.idle": "2025-08-18T11:51:48.927587Z",
     "shell.execute_reply": "2025-08-18T11:51:48.927345Z",
     "shell.execute_reply.started": "2025-08-18T11:51:48.925121Z"
    }
   },
   "outputs": [
    {
     "data": {
      "text/plain": [
       "DataBin(c=BitArray(<shape=(), num_shots=1000, num_bits=2>))"
      ]
     },
     "execution_count": 34,
     "metadata": {},
     "output_type": "execute_result"
    }
   ],
   "source": [
    "data1= result[0].data\n",
    "data1"
   ]
  },
  {
   "cell_type": "code",
   "execution_count": 33,
   "id": "1f0025d1-aac6-42ae-807f-67da0bf8d136",
   "metadata": {
    "execution": {
     "iopub.execute_input": "2025-08-18T11:51:40.736376Z",
     "iopub.status.busy": "2025-08-18T11:51:40.736236Z",
     "iopub.status.idle": "2025-08-18T11:51:40.739294Z",
     "shell.execute_reply": "2025-08-18T11:51:40.738981Z",
     "shell.execute_reply.started": "2025-08-18T11:51:40.736367Z"
    }
   },
   "outputs": [
    {
     "data": {
      "text/plain": [
       "DataBin(c=BitArray(<shape=(), num_shots=1000, num_bits=2>))"
      ]
     },
     "execution_count": 33,
     "metadata": {},
     "output_type": "execute_result"
    }
   ],
   "source": [
    "data"
   ]
  },
  {
   "cell_type": "code",
   "execution_count": 5,
   "id": "791758cb-690d-4cd5-883c-f2e2eaa78a39",
   "metadata": {
    "execution": {
     "iopub.execute_input": "2025-08-18T11:21:55.108649Z",
     "iopub.status.busy": "2025-08-18T11:21:55.108551Z",
     "iopub.status.idle": "2025-08-18T11:21:55.151931Z",
     "shell.execute_reply": "2025-08-18T11:21:55.151589Z",
     "shell.execute_reply.started": "2025-08-18T11:21:55.108640Z"
    }
   },
   "outputs": [
    {
     "ename": "IndentationError",
     "evalue": "unexpected indent (2656517398.py, line 2)",
     "output_type": "error",
     "traceback": [
      "\u001b[0;36m  Cell \u001b[0;32mIn[5], line 2\u001b[0;36m\u001b[0m\n\u001b[0;31m    else: key = '1'*input_size\u001b[0m\n\u001b[0m    ^\u001b[0m\n\u001b[0;31mIndentationError\u001b[0m\u001b[0;31m:\u001b[0m unexpected indent\n"
     ]
    }
   ],
   "source": [
    "if type == 0: key = '0'*input_size\n",
    "    else: key = '1'*input_size\n",
    "correct_dist={key: 1,0}"
   ]
  },
  {
   "cell_type": "code",
   "execution_count": null,
   "id": "76e896ca-3f9d-4e63-9c6b-bc01500c65bb",
   "metadata": {
    "execution": {
     "iopub.status.busy": "2025-08-18T11:21:55.152173Z",
     "iopub.status.idle": "2025-08-18T11:21:55.152290Z",
     "shell.execute_reply": "2025-08-18T11:21:55.152234Z",
     "shell.execute_reply.started": "2025-08-18T11:21:55.152229Z"
    }
   },
   "outputs": [],
   "source": [
    "def hellinger_fidelity_with_expected(p=count, q={key: 1.0}):\n",
    "    p_sum = sum(p.values())\n",
    "    q_sum = sum(q.values())\n",
    "    if q_sum == 0:\n",
    "        print(\"ERROR: polarization_fidelity(), expected distribution is invalid, all counts equal to 0\")\n",
    "        return 0\n",
    "    p_normed = {}\n",
    "    for key, val in p.items():\n",
    "        p_normed[key] = val/p_sum\n",
    "    q_normed = {}\n",
    "    for key, val in q.items():\n",
    "        q_normed[key] = val/q_sum\n",
    "    total = 0\n",
    "    for key, val in p_normed.items():\n",
    "        if key in q_normed.keys():\n",
    "            total += (np.sqrt(val) - np.sqrt(q_normed[key]))**2\n",
    "            del q_normed[key]\n",
    "        else:\n",
    "            total += val\n",
    "    total += sum(q_normed.values())\n",
    "    if total < 0:\n",
    "        print(\"WARNING: using absolute value in fidelity calculation\")\n",
    "        total = abs(total)\n",
    "        \n",
    "    dist = np.sqrt(total)/np.sqrt(2)\n",
    "    fidelity = (1-dist**2)**2\n",
    "\n",
    "    return fidelity"
   ]
  },
  {
   "cell_type": "code",
   "execution_count": null,
   "id": "58dce0e3-f099-4787-b30c-d5d2fb590ea5",
   "metadata": {},
   "outputs": [],
   "source": []
  },
  {
   "cell_type": "code",
   "execution_count": null,
   "id": "ef8b0f13-6a1c-473a-9898-f7cb1e214cd6",
   "metadata": {},
   "outputs": [],
   "source": []
  }
 ],
 "metadata": {
  "kernelspec": {
   "display_name": "Python 3 (ipykernel)",
   "language": "python",
   "name": "python3"
  },
  "language_info": {
   "codemirror_mode": {
    "name": "ipython",
    "version": 3
   },
   "file_extension": ".py",
   "mimetype": "text/x-python",
   "name": "python",
   "nbconvert_exporter": "python",
   "pygments_lexer": "ipython3",
   "version": "3.12.0"
  }
 },
 "nbformat": 4,
 "nbformat_minor": 5
}
