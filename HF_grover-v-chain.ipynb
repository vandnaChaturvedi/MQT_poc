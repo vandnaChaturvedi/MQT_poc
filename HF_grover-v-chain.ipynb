{
 "cells": [
  {
   "cell_type": "code",
   "execution_count": 1,
   "id": "951747d6-c034-4b1b-bb45-42116e20fcf8",
   "metadata": {
    "execution": {
     "iopub.execute_input": "2025-08-22T06:24:33.947891Z",
     "iopub.status.busy": "2025-08-22T06:24:33.947710Z",
     "iopub.status.idle": "2025-08-22T06:24:35.829160Z",
     "shell.execute_reply": "2025-08-22T06:24:35.828782Z",
     "shell.execute_reply.started": "2025-08-22T06:24:33.947880Z"
    }
   },
   "outputs": [
    {
     "name": "stdout",
     "output_type": "stream",
     "text": [
      "---------------grover with qubit 3 ---------------\n",
      "---------------grover with qubit 4 ---------------\n",
      "=================================================================================================\n",
      "[(3, <qiskit.circuit.quantumcircuit.QuantumCircuit object at 0x7efa9a98cd70>), (4, <qiskit.circuit.quantumcircuit.QuantumCircuit object at 0x7efa99de3a10>)]\n"
     ]
    }
   ],
   "source": [
    "from mqt.bench import CompilerSettings, QiskitSettings, get_benchmark\n",
    "from qiskit import *\n",
    "import numpy as np\n",
    "\n",
    "min_qubit = 3 # maximum number of qubit\n",
    "max_qubit = 5 # minimum number of qubit\n",
    "gaps = 1\n",
    "min_qubit = min(max(2, min_qubit), max_qubit) # maximum number of qubit\n",
    "max_qubit = max(2, max_qubit) # minimum number of qubit\n",
    "#skip_qubis = max(1, skip_qubits)\n",
    "gaps = 1\n",
    "compiler_settings = CompilerSettings(qiskit=QiskitSettings(optimization_level=1))\n",
    "circuits= []\n",
    "for i in range(min_qubit, max_qubit, gaps):\n",
    "    qc = get_benchmark(benchmark_name=\"grover-v-chain\",\n",
    "                       level=\"nativegates\",\n",
    "                       circuit_size=i,\n",
    "                       compiler=\"qiskit\",\n",
    "                       compiler_settings=compiler_settings,\n",
    "                       provider_name=\"ionq\",)\n",
    "    circuits.append((i,qc))\n",
    "    print(\"---------------grover with qubit\", i,\"---------------\")\n",
    "print(\"=================================================================================================\")\n",
    "print(circuits)"
   ]
  },
  {
   "cell_type": "code",
   "execution_count": 2,
   "id": "07e6d8d8-7705-485c-ab8b-e1043a515402",
   "metadata": {
    "execution": {
     "iopub.execute_input": "2025-08-22T06:24:35.829642Z",
     "iopub.status.busy": "2025-08-22T06:24:35.829456Z",
     "iopub.status.idle": "2025-08-22T06:24:35.847815Z",
     "shell.execute_reply": "2025-08-22T06:24:35.847510Z",
     "shell.execute_reply.started": "2025-08-22T06:24:35.829629Z"
    }
   },
   "outputs": [
    {
     "name": "stdout",
     "output_type": "stream",
     "text": [
      "[(3, {'111': 1000}), (4, {'1001': 4, '1100': 12, '1000': 11, '1010': 7, '1101': 13, '1110': 3, '1011': 10, '1111': 940})]\n"
     ]
    }
   ],
   "source": [
    "from qiskit_aer import AerSimulator\n",
    "from qiskit import *\n",
    "from qiskit.providers.fake_provider import *\n",
    "import numpy as np \n",
    "import os\n",
    "from qiskit.primitives import StatevectorSampler\n",
    "sampler = AerSimulator()\n",
    "jobs=[]\n",
    "for qubit_number,circuit_object in circuits: \n",
    "    job = sampler.run([circuit_object], shots=1000)\n",
    "    results = job.result()\n",
    "    counts= results.get_counts()\n",
    "    #print(f\" > Counts: {results[0].data[\"meas\"].get_counts()}\")\n",
    "    jobs.append((qubit_number , counts))\n",
    "print(jobs)"
   ]
  },
  {
   "cell_type": "code",
   "execution_count": 3,
   "id": "60d4f628-0145-4fd3-9f55-e32551f95cc5",
   "metadata": {
    "execution": {
     "iopub.execute_input": "2025-08-22T06:24:35.848432Z",
     "iopub.status.busy": "2025-08-22T06:24:35.848315Z",
     "iopub.status.idle": "2025-08-22T06:24:35.900112Z",
     "shell.execute_reply": "2025-08-22T06:24:35.899746Z",
     "shell.execute_reply.started": "2025-08-22T06:24:35.848421Z"
    }
   },
   "outputs": [],
   "source": [
    "# ----------------------------\n",
    "# Hellinger fidelity\n",
    "# ----------------------------\n",
    "def hellinger_fidelity_with_expected(p, q):\n",
    "    \"\"\"Compute Hellinger fidelity between measured distribution p (counts)\n",
    "       and expected distribution q (counts).\"\"\"\n",
    "    p_sum, q_sum = sum(p.values()), sum(q.values())\n",
    "    if q_sum == 0:\n",
    "        raise ValueError(\"Expected distribution invalid (all counts = 0)\")\n",
    "    p_norm = {k: v / p_sum for k, v in p.items()}\n",
    "    q_norm = {k: v / q_sum for k, v in q.items()}\n",
    "    overlap = 0.0\n",
    "    for k in set(p_norm) | set(q_norm):\n",
    "        overlap += np.sqrt(p_norm.get(k, 0) * q_norm.get(k, 0))\n",
    "    return overlap**2\n",
    "\n",
    "# ----------------------------\n",
    "# Ideal Grover distribution\n",
    "# ----------------------------\n",
    "def grovers_dist(num_qubits, marked_item):   \n",
    "    n_iterations = int(np.pi * np.sqrt(2 ** num_qubits) / 4)   \n",
    "    dist = {}\n",
    "    for i in range(2**num_qubits):\n",
    "        key = bin(i)[2:].zfill(num_qubits)\n",
    "        theta = np.arcsin(1/np.sqrt(2 ** num_qubits))       \n",
    "        if i == int(marked_item):\n",
    "            dist[key] = np.sin((2*n_iterations+1)*theta)**2\n",
    "        else:\n",
    "            dist[key] = (np.cos((2*n_iterations+1)*theta)/(np.sqrt(2 ** num_qubits - 1)))**2\n",
    "    return dist\n"
   ]
  },
  {
   "cell_type": "code",
   "execution_count": 4,
   "id": "a044d8ed-0708-4512-9138-bc076a5daa51",
   "metadata": {
    "execution": {
     "iopub.execute_input": "2025-08-22T06:24:35.900498Z",
     "iopub.status.busy": "2025-08-22T06:24:35.900399Z",
     "iopub.status.idle": "2025-08-22T06:24:36.028046Z",
     "shell.execute_reply": "2025-08-22T06:24:36.027739Z",
     "shell.execute_reply.started": "2025-08-22T06:24:35.900489Z"
    }
   },
   "outputs": [
    {
     "name": "stdout",
     "output_type": "stream",
     "text": [
      "[(3, {'111': 1000}), (4, {'1011': 6, '1010': 6, '1000': 5, '1001': 10, '1100': 11, '1101': 8, '1110': 11, '1111': 943})]\n",
      "\n",
      "For qubit 3, measured: {'111': 1000}\n",
      "Expected dist: {'000': 0.007812499999999989, '001': 0.9453125000000001, '010': 0.007812499999999989, '011': 0.007812499999999989, '100': 0.007812499999999989, '101': 0.007812499999999989, '110': 0.007812499999999989, '111': 0.007812499999999989}\n",
      "Hellinger fidelity (q=3): 0.0078\n",
      "\n",
      "For qubit 4, measured: {'1011': 6, '1010': 6, '1000': 5, '1001': 10, '1100': 11, '1101': 8, '1110': 11, '1111': 943}\n",
      "Expected dist: {'0000': 0.0025787353515625, '0001': 0.9613189697265625, '0010': 0.0025787353515625, '0011': 0.0025787353515625, '0100': 0.0025787353515625, '0101': 0.0025787353515625, '0110': 0.0025787353515625, '0111': 0.0025787353515625, '1000': 0.0025787353515625, '1001': 0.0025787353515625, '1010': 0.0025787353515625, '1011': 0.0025787353515625, '1100': 0.0025787353515625, '1101': 0.0025787353515625, '1110': 0.0025787353515625, '1111': 0.0025787353515625}\n",
      "Hellinger fidelity (q=4): 0.0066\n"
     ]
    }
   ],
   "source": [
    "from qiskit_aer import AerSimulator\n",
    "sampler = AerSimulator()\n",
    "jobs=[]\n",
    "for qubit_number,circuit_object in circuits: \n",
    "    job = sampler.run(transpile(circuit_object, sampler), shots=1000)\n",
    "    results = job.result()\n",
    "    counts= results.get_counts()\n",
    "    jobs.append((qubit_number , counts))\n",
    "print(jobs)\n",
    "\n",
    "\n",
    "# ----------------------------\n",
    "# Run fidelity evaluation\n",
    "# ----------------------------\n",
    "verbose = True\n",
    "marked_item = 1   # example: target state \"1\"\n",
    "\n",
    "for num_qubits, counts in jobs:\n",
    "    if verbose: print(f\"\\nFor qubit {num_qubits}, measured: {counts}\")\n",
    "    correct_dist = grovers_dist(num_qubits, marked_item)\n",
    "    if verbose: print(f\"Expected dist: {correct_dist}\")\n",
    "    fidelity = hellinger_fidelity_with_expected(counts, correct_dist)\n",
    "    print(f\"Hellinger fidelity (q={num_qubits}): {fidelity:.4f}\")"
   ]
  },
  {
   "cell_type": "raw",
   "id": "65c94137-ccb1-4a0e-a0a0-f40ddd545f36",
   "metadata": {},
   "source": [
    "run()\n",
    "│\n",
    "├── ex.init_execution(execution_handler)   # Initializes execution handler\n",
    "│   └── execution_handler(qc, result, num_qubits, s_int)\n",
    "│       └── analyze_and_print_result(qc, result, num_qubits, marked_item)\n",
    "│           ├── grovers_dist(num_qubits, marked_item)\n",
    "│           └── metrics.polarization_fidelity()\n",
    "│\n",
    "├── GroversSearch(num_qubits, marked_item, n_iterations)\n",
    "│   ├── create_grover_oracle(num_qubits, marked_item)\n",
    "│   │   └── add_mcx(qc, controls, target)\n",
    "│   │       └── add_cxcu1_units()\n",
    "│   │           └── add_cx_unit()\n",
    "│   │               └── add_cphaseshift()  [if shim is used]\n",
    "│   │\n",
    "│   └── create_diffusion_operator(num_qubits)\n",
    "│       └── add_mcx(qc, controls, target)\n",
    "│           └── add_cxcu1_units()\n",
    "│               └── add_cx_unit()\n",
    "│                   └── add_cphaseshift()  [if shim is used]\n",
    "│\n",
    "├── ex.submit_circuit(qc, num_qubits, s_int, shots)\n",
    "├── ex.execute_circuits()\n",
    "├── metrics.aggregate_metrics_for_group(num_qubits)\n",
    "├── metrics.report_metrics_for_group(num_qubits)\n",
    "└── metrics.plot_metrics()"
   ]
  }
 ],
 "metadata": {
  "kernelspec": {
   "display_name": "Python 3 (ipykernel)",
   "language": "python",
   "name": "python3"
  },
  "language_info": {
   "codemirror_mode": {
    "name": "ipython",
    "version": 3
   },
   "file_extension": ".py",
   "mimetype": "text/x-python",
   "name": "python",
   "nbconvert_exporter": "python",
   "pygments_lexer": "ipython3",
   "version": "3.12.0"
  }
 },
 "nbformat": 4,
 "nbformat_minor": 5
}
