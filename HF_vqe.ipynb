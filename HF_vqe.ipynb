{
 "cells": [
  {
   "cell_type": "code",
   "execution_count": 1,
   "id": "951747d6-c034-4b1b-bb45-42116e20fcf8",
   "metadata": {
    "execution": {
     "iopub.execute_input": "2025-08-22T07:17:39.655071Z",
     "iopub.status.busy": "2025-08-22T07:17:39.654979Z",
     "iopub.status.idle": "2025-08-22T07:17:41.865402Z",
     "shell.execute_reply": "2025-08-22T07:17:41.864999Z",
     "shell.execute_reply.started": "2025-08-22T07:17:39.655061Z"
    }
   },
   "outputs": [
    {
     "name": "stdout",
     "output_type": "stream",
     "text": [
      "---------------vqe with qubit 3 ---------------\n",
      "---------------vqe with qubit 4 ---------------\n",
      "=================================================================================================\n",
      "[(3, <qiskit.circuit.quantumcircuit.QuantumCircuit object at 0x72c393df4800>), (4, <qiskit.circuit.quantumcircuit.QuantumCircuit object at 0x72c421c51c70>)]\n"
     ]
    }
   ],
   "source": [
    "from mqt.bench import CompilerSettings, QiskitSettings, get_benchmark\n",
    "from qiskit import *\n",
    "import numpy as np\n",
    "\n",
    "min_qubit = 3 # maximum number of qubit\n",
    "max_qubit = 5 # minimum number of qubit\n",
    "gaps = 1\n",
    "min_qubit = min(max(2, min_qubit), max_qubit) # maximum number of qubit\n",
    "max_qubit = max(2, max_qubit) # minimum number of qubit\n",
    "#skip_qubis = max(1, skip_qubits)\n",
    "gaps = 1\n",
    "compiler_settings = CompilerSettings(qiskit=QiskitSettings(optimization_level=1))\n",
    "circuits= []\n",
    "for i in range(min_qubit, max_qubit, gaps):\n",
    "    qc = get_benchmark(benchmark_name=\"vqe\",\n",
    "                       level=\"nativegates\",\n",
    "                       circuit_size=i,\n",
    "                       compiler=\"qiskit\",\n",
    "                       compiler_settings=compiler_settings,\n",
    "                       provider_name=\"ionq\",)\n",
    "    circuits.append((i,qc))\n",
    "    print(\"---------------vqe with qubit\", i,\"---------------\")\n",
    "print(\"=================================================================================================\")\n",
    "print(circuits)"
   ]
  },
  {
   "cell_type": "code",
   "execution_count": 2,
   "id": "07e6d8d8-7705-485c-ab8b-e1043a515402",
   "metadata": {
    "execution": {
     "iopub.execute_input": "2025-08-22T07:17:41.866028Z",
     "iopub.status.busy": "2025-08-22T07:17:41.865779Z",
     "iopub.status.idle": "2025-08-22T07:17:41.881019Z",
     "shell.execute_reply": "2025-08-22T07:17:41.880686Z",
     "shell.execute_reply.started": "2025-08-22T07:17:41.866014Z"
    }
   },
   "outputs": [
    {
     "name": "stdout",
     "output_type": "stream",
     "text": [
      "Collected results:\n",
      "(3, {'110': 1, '011': 18, '100': 6, '101': 29, '010': 7, '001': 939}, {'000': 1.646305228181368e-11, '001': 0.9354135590938883, '010': 0.009983617727545434, '011': 0.014098485600205369, '100': 0.00410394440945187, '101': 0.03599113874463008, '110': 0.0004092532498016922, '111': 1.158013847925622e-09})\n",
      "(4, {'1001': 1000}, {'0000': 1.1939127850311922e-08, '0001': 4.757422743792308e-10, '0010': 1.6505000563282705e-08, '0011': 3.877382423926261e-09, '0100': 3.2619881386380706e-16, '0101': 7.385748123608895e-17, '0110': 1.32366079729259e-16, '0111': 5.1290945453411586e-17, '1000': 5.143090961236338e-09, '1001': 0.9999998997629683, '1010': 5.413734704979609e-08, '1011': 2.708666539585789e-10, '1100': 2.4547065430724234e-09, '1101': 2.752051277847019e-09, '1110': 2.5684129745521114e-09, '1111': 1.1330228023536813e-10})\n"
     ]
    }
   ],
   "source": [
    "from qiskit_aer import AerSimulator\n",
    "from qiskit.quantum_info import Statevector\n",
    "\n",
    "simulator = AerSimulator()\n",
    "\n",
    "jobs = []\n",
    "for qubit_number, circuit_object in circuits:\n",
    "    # Run noisy simulation (counts)\n",
    "    job = simulator.run(circuit_object, shots=1000)\n",
    "    results = job.result()\n",
    "    counts = results.get_counts()\n",
    "\n",
    "    # Get ideal distribution from statevector\n",
    "    qc_nom = circuit_object.remove_final_measurements(inplace=False)\n",
    "    state = Statevector.from_instruction(qc_nom)\n",
    "    ideal_probs = state.probabilities_dict()\n",
    "\n",
    "    jobs.append((qubit_number, counts, ideal_probs))\n",
    "\n",
    "print(\"Collected results:\")\n",
    "for res in jobs:\n",
    "    print(res)\n"
   ]
  },
  {
   "cell_type": "code",
   "execution_count": 3,
   "id": "60d4f628-0145-4fd3-9f55-e32551f95cc5",
   "metadata": {
    "execution": {
     "iopub.execute_input": "2025-08-22T07:17:41.881689Z",
     "iopub.status.busy": "2025-08-22T07:17:41.881572Z",
     "iopub.status.idle": "2025-08-22T07:17:41.925776Z",
     "shell.execute_reply": "2025-08-22T07:17:41.925218Z",
     "shell.execute_reply.started": "2025-08-22T07:17:41.881678Z"
    }
   },
   "outputs": [],
   "source": [
    "# Hellinger fidelity function\n",
    "def hellinger_fidelity_with_expected(p, q):\n",
    "    \"\"\"Compute Hellinger fidelity between measured distribution p (counts)\n",
    "       and expected distribution q (probabilities).\"\"\"\n",
    "    p_sum = sum(p.values())\n",
    "    p_norm = {k: v / p_sum for k, v in p.items()}\n",
    "\n",
    "    q_sum = sum(q.values())\n",
    "    q_norm = {k: v / q_sum for k, v in q.items()}\n",
    "\n",
    "    overlap = 0.0\n",
    "    for k in set(p_norm) | set(q_norm):\n",
    "        overlap += np.sqrt(p_norm.get(k, 0) * q_norm.get(k, 0))\n",
    "    return overlap**2"
   ]
  },
  {
   "cell_type": "code",
   "execution_count": 4,
   "id": "a044d8ed-0708-4512-9138-bc076a5daa51",
   "metadata": {
    "execution": {
     "iopub.execute_input": "2025-08-22T07:17:41.926370Z",
     "iopub.status.busy": "2025-08-22T07:17:41.926203Z",
     "iopub.status.idle": "2025-08-22T07:17:41.967947Z",
     "shell.execute_reply": "2025-08-22T07:17:41.967554Z",
     "shell.execute_reply.started": "2025-08-22T07:17:41.926356Z"
    }
   },
   "outputs": [
    {
     "name": "stdout",
     "output_type": "stream",
     "text": [
      "Hellinger Fidelity (VQE, 3 qubits): 0.9988\n",
      "Hellinger Fidelity (VQE, 4 qubits): 1.0000\n"
     ]
    }
   ],
   "source": [
    "for qubit_number, counts, ideal_probs in jobs:\n",
    "    fidelity = hellinger_fidelity_with_expected(counts, ideal_probs)\n",
    "    print(f\"Hellinger Fidelity (VQE, {qubit_number} qubits): {fidelity:.4f}\")"
   ]
  },
  {
   "cell_type": "code",
   "execution_count": 5,
   "id": "5f411f38-532e-49d1-9404-8255042412b8",
   "metadata": {
    "execution": {
     "iopub.execute_input": "2025-08-22T07:17:41.968338Z",
     "iopub.status.busy": "2025-08-22T07:17:41.968239Z",
     "iopub.status.idle": "2025-08-22T07:17:42.001215Z",
     "shell.execute_reply": "2025-08-22T07:17:42.000859Z",
     "shell.execute_reply.started": "2025-08-22T07:17:41.968329Z"
    }
   },
   "outputs": [
    {
     "name": "stdout",
     "output_type": "stream",
     "text": [
      "Hellinger Fidelity (VQE, 3 qubits): 0.9988\n",
      "Hellinger Fidelity (VQE, 4 qubits): 1.0000\n"
     ]
    }
   ],
   "source": [
    "for qubit_number, counts, ideal_probs in jobs:\n",
    "    fidelity = hellinger_fidelity_with_expected(counts, ideal_probs)\n",
    "    print(f\"Hellinger Fidelity (VQE, {qubit_number} qubits): {fidelity:.4f}\")"
   ]
  }
 ],
 "metadata": {
  "kernelspec": {
   "display_name": "Python 3 (ipykernel)",
   "language": "python",
   "name": "python3"
  },
  "language_info": {
   "codemirror_mode": {
    "name": "ipython",
    "version": 3
   },
   "file_extension": ".py",
   "mimetype": "text/x-python",
   "name": "python",
   "nbconvert_exporter": "python",
   "pygments_lexer": "ipython3",
   "version": "3.12.0"
  }
 },
 "nbformat": 4,
 "nbformat_minor": 5
}
