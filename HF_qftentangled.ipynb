{
 "cells": [
  {
   "cell_type": "code",
   "execution_count": 1,
   "id": "a7035a90-a0db-4530-9d18-862b84781b52",
   "metadata": {
    "execution": {
     "iopub.execute_input": "2025-08-22T11:11:41.787621Z",
     "iopub.status.busy": "2025-08-22T11:11:41.787440Z",
     "iopub.status.idle": "2025-08-22T11:11:43.770798Z",
     "shell.execute_reply": "2025-08-22T11:11:43.770462Z",
     "shell.execute_reply.started": "2025-08-22T11:11:41.787609Z"
    }
   },
   "outputs": [
    {
     "name": "stdout",
     "output_type": "stream",
     "text": [
      "--------------- qftentangled with qubit 3 ---------------\n",
      "--------------- qftentangled with qubit 4 ---------------\n",
      "=================================================================================================\n",
      "[(3, <qiskit.circuit.quantumcircuit.QuantumCircuit object at 0x72d39f18e1e0>), (4, <qiskit.circuit.quantumcircuit.QuantumCircuit object at 0x72d39f13b440>)]\n"
     ]
    }
   ],
   "source": [
    "from mqt.bench import CompilerSettings, QiskitSettings, get_benchmark\n",
    "from qiskit import *\n",
    "import numpy as np\n",
    "\n",
    "min_qubit = 3 # maximum number of qubit\n",
    "max_qubit = 5 # minimum number of qubit\n",
    "gaps = 1\n",
    "min_qubit = min(max(2, min_qubit), max_qubit) # maximum number of qubit\n",
    "max_qubit = max(2, max_qubit) # minimum number of qubit\n",
    "#skip_qubis = max(1, skip_qubits)\n",
    "gaps = 1\n",
    "compiler_settings = CompilerSettings(qiskit=QiskitSettings(optimization_level=1))\n",
    "circuits= []\n",
    "for i in range(min_qubit, max_qubit, gaps):\n",
    "    qc = get_benchmark(benchmark_name=\"qftentangled\",\n",
    "                       level=\"nativegates\",\n",
    "                       circuit_size=i,\n",
    "                       compiler=\"qiskit\",\n",
    "                       compiler_settings=compiler_settings,\n",
    "                       provider_name=\"ionq\",)\n",
    "    circuits.append((i,qc))\n",
    "    print(\"---------------\",qc.name, \"with qubit\", i,\"---------------\")\n",
    "print(\"=================================================================================================\")\n",
    "print(circuits)"
   ]
  },
  {
   "cell_type": "code",
   "execution_count": 2,
   "id": "c0e86e35-2516-4b54-a5e2-63b91dbae541",
   "metadata": {
    "execution": {
     "iopub.execute_input": "2025-08-22T11:11:45.947028Z",
     "iopub.status.busy": "2025-08-22T11:11:45.946596Z",
     "iopub.status.idle": "2025-08-22T11:11:46.028825Z",
     "shell.execute_reply": "2025-08-22T11:11:46.028531Z",
     "shell.execute_reply.started": "2025-08-22T11:11:45.947006Z"
    }
   },
   "outputs": [
    {
     "name": "stdout",
     "output_type": "stream",
     "text": [
      "Collected results:\n",
      "(3, {'010': 109, '000': 272, '011': 32, '111': 224, '101': 38, '001': 205, '110': 120}, {'000': 0.24999999999999994, '001': 0.21338834764831827, '010': 0.12499999999999978, '011': 0.0366116523516815, '100': 3.1006617162384195e-32, '101': 0.03661165235168155, '110': 0.12499999999999994, '111': 0.2133883476483186})\n",
      "(4, {'1101': 91, '0110': 19, '0100': 62, '0001': 103, '1111': 116, '1001': 1, '0101': 45, '1110': 100, '1100': 65, '0010': 104, '0000': 129, '0111': 3, '0011': 91, '1011': 48, '1010': 23}, {'0000': 0.12499999999999982, '0001': 0.12024247078195532, '0010': 0.10669417382415898, '0011': 0.0864177145228181, '0100': 0.06249999999999986, '0101': 0.038582285477181885, '0110': 0.01830582617584072, '0111': 0.00475752921804458, '1000': 9.451750926374887e-32, '1001': 0.00475752921804458, '1010': 0.01830582617584078, '1011': 0.03858228547718189, '1100': 0.06249999999999992, '1101': 0.08641771452281813, '1110': 0.10669417382415912, '1111': 0.1202424707819555})\n"
     ]
    }
   ],
   "source": [
    "from qiskit_aer import AerSimulator\n",
    "from qiskit.quantum_info import Statevector\n",
    "\n",
    "simulator = AerSimulator()\n",
    "\n",
    "jobs = []\n",
    "for qubit_number, circuit_object in circuits:\n",
    "    # Run noisy simulation (counts)\n",
    "    job = simulator.run(circuit_object, shots=1000)\n",
    "    results = job.result()\n",
    "    counts = results.get_counts()\n",
    "\n",
    "    # Get ideal distribution from statevector\n",
    "    qc_nom = circuit_object.remove_final_measurements(inplace=False)\n",
    "    state = Statevector.from_instruction(qc_nom)\n",
    "    ideal_probs = state.probabilities_dict()\n",
    "\n",
    "    jobs.append((qubit_number, counts, ideal_probs))\n",
    "\n",
    "print(\"Collected results:\")\n",
    "for res in jobs:\n",
    "    print(res)\n"
   ]
  },
  {
   "cell_type": "code",
   "execution_count": 3,
   "id": "52be13c4-f2c1-411d-8520-28ff7fb7b11d",
   "metadata": {
    "execution": {
     "iopub.execute_input": "2025-08-22T11:11:48.643453Z",
     "iopub.status.busy": "2025-08-22T11:11:48.643192Z",
     "iopub.status.idle": "2025-08-22T11:11:48.646465Z",
     "shell.execute_reply": "2025-08-22T11:11:48.646221Z",
     "shell.execute_reply.started": "2025-08-22T11:11:48.643436Z"
    }
   },
   "outputs": [],
   "source": [
    "# Hellinger fidelity function\n",
    "def hellinger_fidelity_with_expected(p, q):\n",
    "    \"\"\"Compute Hellinger fidelity between measured distribution p (counts)\n",
    "       and expected distribution q (probabilities).\"\"\"\n",
    "    p_sum = sum(p.values())\n",
    "    p_norm = {k: v / p_sum for k, v in p.items()}\n",
    "\n",
    "    q_sum = sum(q.values())\n",
    "    q_norm = {k: v / q_sum for k, v in q.items()}\n",
    "\n",
    "    overlap = 0.0\n",
    "    for k in set(p_norm) | set(q_norm):\n",
    "        overlap += np.sqrt(p_norm.get(k, 0) * q_norm.get(k, 0))\n",
    "    return overlap**2"
   ]
  },
  {
   "cell_type": "code",
   "execution_count": 4,
   "id": "602f7fd4-f439-4855-ba9f-3c93aa550173",
   "metadata": {
    "execution": {
     "iopub.execute_input": "2025-08-22T11:11:49.139958Z",
     "iopub.status.busy": "2025-08-22T11:11:49.139769Z",
     "iopub.status.idle": "2025-08-22T11:11:49.142459Z",
     "shell.execute_reply": "2025-08-22T11:11:49.142153Z",
     "shell.execute_reply.started": "2025-08-22T11:11:49.139949Z"
    }
   },
   "outputs": [
    {
     "name": "stdout",
     "output_type": "stream",
     "text": [
      "Hellinger Fidelity (qft, 3 qubits): 0.9986\n",
      "Hellinger Fidelity (qft, 4 qubits): 0.9964\n"
     ]
    }
   ],
   "source": [
    "for qubit_number, counts, ideal_probs in jobs:\n",
    "    fidelity = hellinger_fidelity_with_expected(counts, ideal_probs)\n",
    "    print(f\"Hellinger Fidelity (qft, {qubit_number} qubits): {fidelity:.4f}\")"
   ]
  },
  {
   "cell_type": "code",
   "execution_count": null,
   "id": "d0782e9e-a8f7-46dd-92e9-35066feda63f",
   "metadata": {},
   "outputs": [],
   "source": []
  }
 ],
 "metadata": {
  "kernelspec": {
   "display_name": "Python 3 (ipykernel)",
   "language": "python",
   "name": "python3"
  },
  "language_info": {
   "codemirror_mode": {
    "name": "ipython",
    "version": 3
   },
   "file_extension": ".py",
   "mimetype": "text/x-python",
   "name": "python",
   "nbconvert_exporter": "python",
   "pygments_lexer": "ipython3",
   "version": "3.12.0"
  }
 },
 "nbformat": 4,
 "nbformat_minor": 5
}
