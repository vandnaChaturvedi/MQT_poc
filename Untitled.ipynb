{
 "cells": [
  {
   "cell_type": "code",
   "execution_count": 4,
   "id": "b36f2bcd-d437-4c37-991d-d928a4835af1",
   "metadata": {
    "execution": {
     "iopub.execute_input": "2025-01-20T09:44:48.163817Z",
     "iopub.status.busy": "2025-01-20T09:44:48.163675Z",
     "iopub.status.idle": "2025-01-20T09:44:48.165703Z",
     "shell.execute_reply": "2025-01-20T09:44:48.165442Z",
     "shell.execute_reply.started": "2025-01-20T09:44:48.163808Z"
    }
   },
   "outputs": [],
   "source": [
    "import cirq # Define qubits and circuit "
   ]
  },
  {
   "cell_type": "code",
   "execution_count": 5,
   "id": "2ec3ea25-e3e7-4eb8-934e-2588043e9b48",
   "metadata": {
    "execution": {
     "iopub.execute_input": "2025-01-20T09:44:48.634843Z",
     "iopub.status.busy": "2025-01-20T09:44:48.634695Z",
     "iopub.status.idle": "2025-01-20T09:44:48.638643Z",
     "shell.execute_reply": "2025-01-20T09:44:48.638369Z",
     "shell.execute_reply.started": "2025-01-20T09:44:48.634833Z"
    }
   },
   "outputs": [
    {
     "data": {
      "text/html": [
       "<pre style=\"overflow: auto; white-space: pre;\">0: ───H───@───\n",
       "          │\n",
       "1: ───────X───</pre>"
      ],
      "text/plain": [
       "0: ───H───@───\n",
       "          │\n",
       "1: ───────X───"
      ]
     },
     "execution_count": 5,
     "metadata": {},
     "output_type": "execute_result"
    }
   ],
   "source": [
    "q0, q1 = cirq.LineQubit.range(2)\n",
    "circuit = cirq.Circuit(cirq.H(q0),cirq.CNOT(q0, q1))\n",
    "circuit"
   ]
  },
  {
   "cell_type": "code",
   "execution_count": 11,
   "id": "794870ab-b4c7-43a2-abd4-fbba7ae2c6d1",
   "metadata": {
    "execution": {
     "iopub.execute_input": "2025-01-20T09:46:47.608531Z",
     "iopub.status.busy": "2025-01-20T09:46:47.608341Z",
     "iopub.status.idle": "2025-01-20T09:46:47.611607Z",
     "shell.execute_reply": "2025-01-20T09:46:47.611335Z",
     "shell.execute_reply.started": "2025-01-20T09:46:47.608519Z"
    }
   },
   "outputs": [
    {
     "name": "stdout",
     "output_type": "stream",
     "text": [
      "<cirq.sim.sparse_simulator.Simulator object at 0x7c078caf4da0>\n",
      "------------\n",
      "measurements: (no measurements)\n",
      "\n",
      "qubits: (cirq.LineQubit(0), cirq.LineQubit(1))\n",
      "output vector: 0.707|00⟩ + 0.707|11⟩\n",
      "\n",
      "phase:\n",
      "output vector: |⟩\n"
     ]
    }
   ],
   "source": [
    "simulator = cirq.Simulator()\n",
    "result = simulator.simulate(circuit)\n",
    "print(simulator)\n",
    "print(\"------------\")\n",
    "print(result. )"
   ]
  },
  {
   "cell_type": "code",
   "execution_count": 12,
   "id": "88a36ca3-cfed-46d5-966c-7a8c75a1cac8",
   "metadata": {
    "execution": {
     "iopub.execute_input": "2025-01-20T09:47:07.564383Z",
     "iopub.status.busy": "2025-01-20T09:47:07.564240Z",
     "iopub.status.idle": "2025-01-20T09:47:07.566706Z",
     "shell.execute_reply": "2025-01-20T09:47:07.566456Z",
     "shell.execute_reply.started": "2025-01-20T09:47:07.564373Z"
    }
   },
   "outputs": [
    {
     "name": "stdout",
     "output_type": "stream",
     "text": [
      "[0.70710677+0.j 0.        +0.j 0.        +0.j 0.70710677+0.j]\n"
     ]
    }
   ],
   "source": [
    "final_state = result.final_state_vector \n",
    "print(final_state)"
   ]
  },
  {
   "cell_type": "code",
   "execution_count": 13,
   "id": "79e57470-1639-4978-a74a-864472b820fe",
   "metadata": {
    "execution": {
     "iopub.execute_input": "2025-01-20T09:47:51.809990Z",
     "iopub.status.busy": "2025-01-20T09:47:51.809758Z",
     "iopub.status.idle": "2025-01-20T09:47:51.813008Z",
     "shell.execute_reply": "2025-01-20T09:47:51.812719Z",
     "shell.execute_reply.started": "2025-01-20T09:47:51.809972Z"
    }
   },
   "outputs": [
    {
     "name": "stdout",
     "output_type": "stream",
     "text": [
      "[0.70710678+0.j 0.        +0.j 0.        +0.j 0.70710678+0.j]\n"
     ]
    }
   ],
   "source": [
    "final_state = circuit.final_state_vector() \n",
    "print(final_state)"
   ]
  },
  {
   "cell_type": "code",
   "execution_count": null,
   "id": "7ede112e-7c46-4ac6-a82e-ea30413bc9bf",
   "metadata": {},
   "outputs": [],
   "source": []
  }
 ],
 "metadata": {
  "kernelspec": {
   "display_name": "Python 3 (ipykernel)",
   "language": "python",
   "name": "python3"
  },
  "language_info": {
   "codemirror_mode": {
    "name": "ipython",
    "version": 3
   },
   "file_extension": ".py",
   "mimetype": "text/x-python",
   "name": "python",
   "nbconvert_exporter": "python",
   "pygments_lexer": "ipython3",
   "version": "3.12.8"
  }
 },
 "nbformat": 4,
 "nbformat_minor": 5
}
