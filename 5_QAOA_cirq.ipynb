{
 "cells": [
  {
   "cell_type": "code",
   "execution_count": 2,
   "id": "789dd32b-0486-4a3d-b7ca-506f0e02cde1",
   "metadata": {
    "execution": {
     "iopub.execute_input": "2025-01-24T08:55:15.599098Z",
     "iopub.status.busy": "2025-01-24T08:55:15.598813Z",
     "iopub.status.idle": "2025-01-24T08:55:15.601358Z",
     "shell.execute_reply": "2025-01-24T08:55:15.600965Z",
     "shell.execute_reply.started": "2025-01-24T08:55:15.599084Z"
    }
   },
   "outputs": [],
   "source": [
    "from mqt.bench import CompilerSettings, QiskitSettings, TKETSettings, get_benchmark\n",
    "from qiskit import *\n",
    "import numpy as np\n",
    "import cirq"
   ]
  },
  {
   "cell_type": "code",
   "execution_count": 3,
   "id": "a2be1262-259c-4d88-8105-670d7681df4c",
   "metadata": {
    "execution": {
     "iopub.execute_input": "2025-01-24T08:55:16.534451Z",
     "iopub.status.busy": "2025-01-24T08:55:16.534258Z",
     "iopub.status.idle": "2025-01-24T08:55:16.537075Z",
     "shell.execute_reply": "2025-01-24T08:55:16.536743Z",
     "shell.execute_reply.started": "2025-01-24T08:55:16.534438Z"
    }
   },
   "outputs": [],
   "source": [
    "from __future__ import annotations\n",
    "import cirq\n",
    "import numpy as np\n",
    "def get_ideal_counts(circuit: cirq.Circuit) -> dict[str, float]:\n",
    "    ideal_counts = {}\n",
    "    for i, amplitude in enumerate(circuit.final_state_vector(ignore_terminal_measurements=True)):\n",
    "        bitstring = f\"{i:>0{len(circuit.all_qubits())}b}\"\n",
    "        probability = np.abs(amplitude) ** 2\n",
    "        ideal_counts[bitstring] = probability\n",
    "    return ideal_counts"
   ]
  },
  {
   "cell_type": "code",
   "execution_count": 4,
   "id": "2094e852-e414-4d28-a160-42fe0124f6a2",
   "metadata": {
    "execution": {
     "iopub.execute_input": "2025-01-24T08:55:18.026302Z",
     "iopub.status.busy": "2025-01-24T08:55:18.026111Z",
     "iopub.status.idle": "2025-01-24T08:55:18.030934Z",
     "shell.execute_reply": "2025-01-24T08:55:18.030668Z",
     "shell.execute_reply.started": "2025-01-24T08:55:18.026290Z"
    }
   },
   "outputs": [
    {
     "name": "stdout",
     "output_type": "stream",
     "text": [
      "Circuit:\n",
      "(0, 0): ───X^0.5───M('m')───\n",
      "Results:\n",
      "m=11111011101000001010\n"
     ]
    }
   ],
   "source": [
    "# Pick a qubit.\n",
    "qubit = cirq.GridQubit(0, 0)\n",
    "\n",
    "# Create a circuit\n",
    "circuit = cirq.Circuit(\n",
    "    cirq.X(qubit)**0.5,  # Square root of NOT.\n",
    "    cirq.measure(qubit, key='m')  # Measurement.\n",
    ")\n",
    "print(\"Circuit:\")\n",
    "print(circuit)\n",
    "\n",
    "# Simulate the circuit several times.\n",
    "simulator = cirq.Simulator()\n",
    "result = simulator.run(circuit, repetitions=20)\n",
    "print(\"Results:\")\n",
    "print(result)"
   ]
  },
  {
   "cell_type": "code",
   "execution_count": 6,
   "id": "4c8dee29-76c1-436e-a6db-328de86ad69c",
   "metadata": {
    "execution": {
     "iopub.execute_input": "2025-01-24T08:57:41.848348Z",
     "iopub.status.busy": "2025-01-24T08:57:41.848169Z",
     "iopub.status.idle": "2025-01-24T08:57:41.851824Z",
     "shell.execute_reply": "2025-01-24T08:57:41.851473Z",
     "shell.execute_reply.started": "2025-01-24T08:57:41.848335Z"
    }
   },
   "outputs": [],
   "source": [
    "#print(compilation_information)\n",
    "def get_ideal_counts(circuit: cirq.Circuit) -> dict[str, float]:\n",
    "    ideal_counts = {}\n",
    "    for i, amplitude in enumerate(circuit.final_state_vector(ignore_terminal_measurements=True)):\n",
    "        bitstring = f\"{i:>0{len(circuit.all_qubits())}b}\"\n",
    "        probability = np.abs(amplitude) ** 2\n",
    "        \n",
    "        ideal_counts[bitstring] = probability\n",
    "    return ideal_counts\n",
    "raw_counts = get_ideal_counts(circuit)\n",
    "ideal_counts = {bitstring[::-1]: probability for bitstring, probability in raw_counts.items()}"
   ]
  },
  {
   "cell_type": "code",
   "execution_count": 8,
   "id": "8c47a817-d90a-4d84-a880-e31c957d64d2",
   "metadata": {
    "execution": {
     "iopub.execute_input": "2025-01-24T09:01:38.742244Z",
     "iopub.status.busy": "2025-01-24T09:01:38.742056Z",
     "iopub.status.idle": "2025-01-24T09:01:38.861789Z",
     "shell.execute_reply": "2025-01-24T09:01:38.861037Z",
     "shell.execute_reply.started": "2025-01-24T09:01:38.742231Z"
    }
   },
   "outputs": [
    {
     "ename": "ValueError",
     "evalue": "Circuit contains a measurement.",
     "output_type": "error",
     "traceback": [
      "\u001b[0;31m---------------------------------------------------------------------------\u001b[0m",
      "\u001b[0;31mValueError\u001b[0m                                Traceback (most recent call last)",
      "Cell \u001b[0;32mIn[8], line 1\u001b[0m\n\u001b[0;32m----> 1\u001b[0m \u001b[43mcircuit\u001b[49m\u001b[38;5;241;43m.\u001b[39;49m\u001b[43mfinal_state_vector\u001b[49m\u001b[43m(\u001b[49m\u001b[43m)\u001b[49m\n",
      "File \u001b[0;32m~/anaconda3/envs/mqt0/lib/python3.12/site-packages/cirq/circuits/circuit.py:1165\u001b[0m, in \u001b[0;36mAbstractCircuit.final_state_vector\u001b[0;34m(self, initial_state, qubit_order, ignore_terminal_measurements, dtype, param_resolver, seed)\u001b[0m\n\u001b[1;32m   1126\u001b[0m \u001b[38;5;250m\u001b[39m\u001b[38;5;124;03m\"\"\"Returns the state vector resulting from acting operations on a state.\u001b[39;00m\n\u001b[1;32m   1127\u001b[0m \n\u001b[1;32m   1128\u001b[0m \u001b[38;5;124;03mThis is equivalent to calling cirq.final_state_vector with the same\u001b[39;00m\n\u001b[0;32m   (...)\u001b[0m\n\u001b[1;32m   1161\u001b[0m \u001b[38;5;124;03m        because it has non-unitary gates.\u001b[39;00m\n\u001b[1;32m   1162\u001b[0m \u001b[38;5;124;03m\"\"\"\u001b[39;00m\n\u001b[1;32m   1163\u001b[0m \u001b[38;5;28;01mfrom\u001b[39;00m \u001b[38;5;21;01mcirq\u001b[39;00m\u001b[38;5;21;01m.\u001b[39;00m\u001b[38;5;21;01msim\u001b[39;00m\u001b[38;5;21;01m.\u001b[39;00m\u001b[38;5;21;01mmux\u001b[39;00m \u001b[38;5;28;01mimport\u001b[39;00m final_state_vector\n\u001b[0;32m-> 1165\u001b[0m \u001b[38;5;28;01mreturn\u001b[39;00m \u001b[43mfinal_state_vector\u001b[49m\u001b[43m(\u001b[49m\n\u001b[1;32m   1166\u001b[0m \u001b[43m    \u001b[49m\u001b[38;5;28;43mself\u001b[39;49m\u001b[43m,\u001b[49m\n\u001b[1;32m   1167\u001b[0m \u001b[43m    \u001b[49m\u001b[43minitial_state\u001b[49m\u001b[38;5;241;43m=\u001b[39;49m\u001b[43minitial_state\u001b[49m\u001b[43m,\u001b[49m\n\u001b[1;32m   1168\u001b[0m \u001b[43m    \u001b[49m\u001b[43mparam_resolver\u001b[49m\u001b[38;5;241;43m=\u001b[39;49m\u001b[43mparam_resolver\u001b[49m\u001b[43m,\u001b[49m\n\u001b[1;32m   1169\u001b[0m \u001b[43m    \u001b[49m\u001b[43mqubit_order\u001b[49m\u001b[38;5;241;43m=\u001b[39;49m\u001b[43mqubit_order\u001b[49m\u001b[43m,\u001b[49m\n\u001b[1;32m   1170\u001b[0m \u001b[43m    \u001b[49m\u001b[43mignore_terminal_measurements\u001b[49m\u001b[38;5;241;43m=\u001b[39;49m\u001b[43mignore_terminal_measurements\u001b[49m\u001b[43m,\u001b[49m\n\u001b[1;32m   1171\u001b[0m \u001b[43m    \u001b[49m\u001b[43mdtype\u001b[49m\u001b[38;5;241;43m=\u001b[39;49m\u001b[43mdtype\u001b[49m\u001b[43m,\u001b[49m\n\u001b[1;32m   1172\u001b[0m \u001b[43m    \u001b[49m\u001b[43mseed\u001b[49m\u001b[38;5;241;43m=\u001b[39;49m\u001b[43mseed\u001b[49m\u001b[43m,\u001b[49m\n\u001b[1;32m   1173\u001b[0m \u001b[43m\u001b[49m\u001b[43m)\u001b[49m\n",
      "File \u001b[0;32m~/anaconda3/envs/mqt0/lib/python3.12/site-packages/cirq/sim/mux.py:153\u001b[0m, in \u001b[0;36mfinal_state_vector\u001b[0;34m(program, initial_state, param_resolver, qubit_order, ignore_terminal_measurements, dtype, seed)\u001b[0m\n\u001b[1;32m    151\u001b[0m \u001b[38;5;28;01mif\u001b[39;00m \u001b[38;5;129;01mnot\u001b[39;00m ignore_terminal_measurements:\n\u001b[1;32m    152\u001b[0m     \u001b[38;5;28;01mif\u001b[39;00m \u001b[38;5;28many\u001b[39m(protocols\u001b[38;5;241m.\u001b[39mis_measurement(op) \u001b[38;5;28;01mfor\u001b[39;00m op \u001b[38;5;129;01min\u001b[39;00m circuit_like\u001b[38;5;241m.\u001b[39mall_operations()):\n\u001b[0;32m--> 153\u001b[0m         \u001b[38;5;28;01mraise\u001b[39;00m \u001b[38;5;167;01mValueError\u001b[39;00m(\u001b[38;5;124m'\u001b[39m\u001b[38;5;124mCircuit contains a measurement.\u001b[39m\u001b[38;5;124m'\u001b[39m)\n\u001b[1;32m    154\u001b[0m \u001b[38;5;28;01melse\u001b[39;00m:\n\u001b[1;32m    155\u001b[0m     circuit_like \u001b[38;5;241m=\u001b[39m measurement_transformers\u001b[38;5;241m.\u001b[39mdrop_terminal_measurements(circuit_like)\n",
      "\u001b[0;31mValueError\u001b[0m: Circuit contains a measurement."
     ]
    }
   ],
   "source": [
    "circuit.final_state_vector()"
   ]
  },
  {
   "cell_type": "code",
   "execution_count": 7,
   "id": "26b33b33-9b18-4b73-abae-8faa62bee4c4",
   "metadata": {
    "execution": {
     "iopub.execute_input": "2025-01-24T08:59:16.003280Z",
     "iopub.status.busy": "2025-01-24T08:59:16.002897Z",
     "iopub.status.idle": "2025-01-24T08:59:16.005652Z",
     "shell.execute_reply": "2025-01-24T08:59:16.005362Z",
     "shell.execute_reply.started": "2025-01-24T08:59:16.003258Z"
    }
   },
   "outputs": [
    {
     "name": "stdout",
     "output_type": "stream",
     "text": [
      "{'0': 0.5000000000000001, '1': 0.5000000000000001}\n",
      "-----------------------------------\n",
      "{'0': 0.5000000000000001, '1': 0.5000000000000001}\n"
     ]
    }
   ],
   "source": [
    "print(raw_counts)\n",
    "print(\"-----------------------------------\")\n",
    "print(ideal_counts)"
   ]
  },
  {
   "cell_type": "code",
   "execution_count": 3,
   "id": "a1b4a1d1-fa64-464e-b87a-b84f6dfadfff",
   "metadata": {
    "execution": {
     "iopub.execute_input": "2025-01-23T07:29:21.478548Z",
     "iopub.status.busy": "2025-01-23T07:29:21.478326Z",
     "iopub.status.idle": "2025-01-23T07:29:21.525353Z",
     "shell.execute_reply": "2025-01-23T07:29:21.524914Z",
     "shell.execute_reply.started": "2025-01-23T07:29:21.478536Z"
    }
   },
   "outputs": [
    {
     "name": "stdout",
     "output_type": "stream",
     "text": [
      " > Counts: {'110': 179, '011': 163, '100': 175, '101': 159, '010': 154, '001': 170}\n"
     ]
    }
   ],
   "source": [
    "from qiskit_aer import AerSimulator\n",
    "from qiskit import *\n",
    "from qiskit.providers.fake_provider import *\n",
    "import numpy as np \n",
    "import os\n",
    "from qiskit.primitives import StatevectorSampler\n",
    "sampler = StatevectorSampler()\n",
    "job = sampler.run([qc], shots=1000)\n",
    "result = job.result()\n",
    "counts= result[0].data[\"meas\"].get_counts()\n",
    "print(f\" > Counts: {result[0].data[\"meas\"].get_counts()}\")"
   ]
  },
  {
   "cell_type": "code",
   "execution_count": 2,
   "id": "9b41d2f3-c400-4ce1-a27f-f4026699c056",
   "metadata": {
    "execution": {
     "iopub.execute_input": "2025-01-23T07:29:09.371689Z",
     "iopub.status.busy": "2025-01-23T07:29:09.371498Z",
     "iopub.status.idle": "2025-01-23T07:29:21.477653Z",
     "shell.execute_reply": "2025-01-23T07:29:21.477340Z",
     "shell.execute_reply.started": "2025-01-23T07:29:09.371679Z"
    }
   },
   "outputs": [
    {
     "name": "stdout",
     "output_type": "stream",
     "text": [
      "---------------qaoa---------------\n",
      "global phase: π/2\n",
      "        ┌──────────────┐┌──────────────┐ ┌────────────┐               »\n",
      "   q_0: ┤0             ├┤0             ├─┤ Rz(1.9773) ├───────────────»\n",
      "        │  Rxx(3.0598) ││              │┌┴────────────┴┐┌────────────┐»\n",
      "   q_1: ┤1             ├┤  Rxx(3.0598) ├┤0             ├┤ Rz(1.9773) ├»\n",
      "        └──────────────┘│              ││  Rxx(3.0598) │├────────────┤»\n",
      "   q_2: ────────────────┤1             ├┤1             ├┤ Rz(1.9773) ├»\n",
      "                        └──────────────┘└──────────────┘└────────────┘»\n",
      "meas: 3/══════════════════════════════════════════════════════════════»\n",
      "                                                                      »\n",
      "«        ┌────────────┐┌────────────┐┌──────────────┐  ┌─────────┐   »\n",
      "«   q_0: ┤0           ├┤0           ├┤ Rz(-0.68274) ├──┤ Ry(π/2) ├───»\n",
      "«        │  Rxx(-2.6) ││            │└┬────────────┬┘┌─┴─────────┴──┐»\n",
      "«   q_1: ┤1           ├┤  Rxx(-2.6) ├─┤0           ├─┤ Rz(-0.68274) ├»\n",
      "«        └────────────┘│            │ │  Rxx(-2.6) │ ├──────────────┤»\n",
      "«   q_2: ──────────────┤1           ├─┤1           ├─┤ Rz(-0.68274) ├»\n",
      "«                      └────────────┘ └────────────┘ └──────────────┘»\n",
      "«meas: 3/════════════════════════════════════════════════════════════»\n",
      "«                                                                    »\n",
      "«                    ░ ┌─┐      \n",
      "«   q_0: ────────────░─┤M├──────\n",
      "«        ┌─────────┐ ░ └╥┘┌─┐   \n",
      "«   q_1: ┤ Ry(π/2) ├─░──╫─┤M├───\n",
      "«        ├─────────┤ ░  ║ └╥┘┌─┐\n",
      "«   q_2: ┤ Ry(π/2) ├─░──╫──╫─┤M├\n",
      "«        └─────────┘ ░  ║  ║ └╥┘\n",
      "«meas: 3/═══════════════╩══╩══╩═\n",
      "«                       0  1  2 \n",
      "=================================================================================================\n"
     ]
    }
   ],
   "source": [
    "q_num=3 #number of choosen qubit\n",
    "compiler_settings = CompilerSettings(qiskit=QiskitSettings(optimization_level=1))\n",
    "qc = get_benchmark(\n",
    "benchmark_name=\"qaoa\",\n",
    "level=\"nativegates\",\n",
    "circuit_size=q_num,\n",
    "compiler=\"qiskit\",\n",
    "compiler_settings=compiler_settings,\n",
    "provider_name=\"ionq\",)\n",
    "print(\"---------------qaoa---------------\")\n",
    "print(qc.draw())\n",
    "print(\"=================================================================================================\")"
   ]
  },
  {
   "cell_type": "code",
   "execution_count": null,
   "id": "8c0fabd3-44f4-4f79-ab1d-01e595080fc1",
   "metadata": {
    "execution": {
     "iopub.status.busy": "2025-01-23T07:29:21.721626Z",
     "iopub.status.idle": "2025-01-23T07:29:21.721719Z",
     "shell.execute_reply": "2025-01-23T07:29:21.721678Z",
     "shell.execute_reply.started": "2025-01-23T07:29:21.721673Z"
    }
   },
   "outputs": [],
   "source": [
    "from qiskit.quantum_info import hellinger_fidelity\n",
    "ideal_counts = get_ideal_counts(qc)\n",
    "total_shots = sum(counts.values())\n",
    "experimental_counts = {k: v / total_shots for k, v in counts.items()}\n",
    "ideal_value = self._get_expectation_value_from_probs(ideal_counts)\n",
    "experimental_value = self._get_expectation_value_from_probs(experimental_counts)\n",
    "return 1 - abs(ideal_value - experimental_value) / (2 * ideal_value)\n",
    "\n",
    "device_dist = {bitstr: count / total_shots for bitstr, count in counts.items()}\n",
    "hf = hellinger_fidelity(ideal_dist, device_dist) #formula of Hellinger fidelity between two distributions p and q is given by $(\\sum_i{p_i q_i})^2$ as FLOAT.\n",
    "print(\"Hellinger fidelity\",hf*100,\"%\")"
   ]
  },
  {
   "cell_type": "code",
   "execution_count": null,
   "id": "2a4f5e4c-3cb0-40cb-8aab-a776723a59df",
   "metadata": {
    "execution": {
     "iopub.status.busy": "2025-01-23T07:29:21.722100Z",
     "iopub.status.idle": "2025-01-23T07:29:21.722212Z",
     "shell.execute_reply": "2025-01-23T07:29:21.722170Z",
     "shell.execute_reply.started": "2025-01-23T07:29:21.722166Z"
    }
   },
   "outputs": [],
   "source": [
    "from qiskit.visualization import plot_histogram\n",
    "legend = ['Ideal', 'Current']\n",
    "plot_histogram([ideal_dist, device_dist], legend=legend, color=['skyblue','lightgreen'],title=\"Visual Comparision of Counts\")"
   ]
  }
 ],
 "metadata": {
  "kernelspec": {
   "display_name": "Python 3 (ipykernel)",
   "language": "python",
   "name": "python3"
  },
  "language_info": {
   "codemirror_mode": {
    "name": "ipython",
    "version": 3
   },
   "file_extension": ".py",
   "mimetype": "text/x-python",
   "name": "python",
   "nbconvert_exporter": "python",
   "pygments_lexer": "ipython3",
   "version": "3.12.0"
  }
 },
 "nbformat": 4,
 "nbformat_minor": 5
}
