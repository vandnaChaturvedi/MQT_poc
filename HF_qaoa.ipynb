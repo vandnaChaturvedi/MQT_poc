{
 "cells": [
  {
   "cell_type": "code",
   "execution_count": 1,
   "id": "a7035a90-a0db-4530-9d18-862b84781b52",
   "metadata": {
    "execution": {
     "iopub.execute_input": "2025-08-22T09:12:45.833432Z",
     "iopub.status.busy": "2025-08-22T09:12:45.833240Z",
     "iopub.status.idle": "2025-08-22T09:12:48.035335Z",
     "shell.execute_reply": "2025-08-22T09:12:48.034987Z",
     "shell.execute_reply.started": "2025-08-22T09:12:45.833418Z"
    }
   },
   "outputs": [
    {
     "name": "stdout",
     "output_type": "stream",
     "text": [
      "---------------vqe with qubit 3 ---------------\n",
      "---------------vqe with qubit 4 ---------------\n",
      "=================================================================================================\n",
      "[(3, <qiskit.circuit.quantumcircuit.QuantumCircuit object at 0x77166cdaec00>), (4, <qiskit.circuit.quantumcircuit.QuantumCircuit object at 0x7715cb0cc3b0>)]\n"
     ]
    }
   ],
   "source": [
    "from mqt.bench import CompilerSettings, QiskitSettings, get_benchmark\n",
    "from qiskit import *\n",
    "import numpy as np\n",
    "\n",
    "min_qubit = 3 # maximum number of qubit\n",
    "max_qubit = 5 # minimum number of qubit\n",
    "gaps = 1\n",
    "min_qubit = min(max(2, min_qubit), max_qubit) # maximum number of qubit\n",
    "max_qubit = max(2, max_qubit) # minimum number of qubit\n",
    "#skip_qubis = max(1, skip_qubits)\n",
    "gaps = 1\n",
    "compiler_settings = CompilerSettings(qiskit=QiskitSettings(optimization_level=1))\n",
    "circuits= []\n",
    "for i in range(min_qubit, max_qubit, gaps):\n",
    "    qc = get_benchmark(benchmark_name=\"qaoa\",\n",
    "                       level=\"nativegates\",\n",
    "                       circuit_size=i,\n",
    "                       compiler=\"qiskit\",\n",
    "                       compiler_settings=compiler_settings,\n",
    "                       provider_name=\"ionq\",)\n",
    "    circuits.append((i,qc))\n",
    "    print(\"---------------vqe with qubit\", i,\"---------------\")\n",
    "print(\"=================================================================================================\")\n",
    "print(circuits)"
   ]
  },
  {
   "cell_type": "code",
   "execution_count": 2,
   "id": "c0e86e35-2516-4b54-a5e2-63b91dbae541",
   "metadata": {
    "execution": {
     "iopub.execute_input": "2025-08-22T09:12:48.036060Z",
     "iopub.status.busy": "2025-08-22T09:12:48.035783Z",
     "iopub.status.idle": "2025-08-22T09:12:48.070361Z",
     "shell.execute_reply": "2025-08-22T09:12:48.069609Z",
     "shell.execute_reply.started": "2025-08-22T09:12:48.036043Z"
    }
   },
   "outputs": [
    {
     "name": "stdout",
     "output_type": "stream",
     "text": [
      "Collected results:\n",
      "(3, {'010': 135, '101': 177, '011': 169, '100': 175, '110': 172, '001': 172}, {'000': 1.7719891433140784e-10, '001': 0.16666666660760052, '010': 0.16666666660760052, '011': 0.16666666660760057, '100': 0.16666666660760043, '101': 0.16666666660760057, '110': 0.16666666660760057, '111': 1.7719891433224025e-10})\n",
      "(4, {'1001': 514, '0110': 486}, {'0000': 2.5191300044309198e-17, '0001': 5.368779350009058e-10, '0010': 5.368779350011479e-10, '0011': 2.493003754762642e-09, '0100': 5.368779349976857e-10, '0101': 2.4930037547652307e-09, '0110': 0.4999999928664806, '0111': 5.36877934996029e-10, '1000': 5.368779349988282e-10, '1001': 0.4999999928664806, '1010': 2.4930037547623e-09, '1011': 5.368779349937427e-10, '1100': 2.4930037547625473e-09, '1101': 5.368779349962228e-10, '1110': 5.368779349916915e-10, '1111': 2.5191299846979642e-17})\n"
     ]
    }
   ],
   "source": [
    "from qiskit_aer import AerSimulator\n",
    "from qiskit.quantum_info import Statevector\n",
    "\n",
    "simulator = AerSimulator()\n",
    "\n",
    "jobs = []\n",
    "for qubit_number, circuit_object in circuits:\n",
    "    # Run noisy simulation (counts)\n",
    "    job = simulator.run(circuit_object, shots=1000)\n",
    "    results = job.result()\n",
    "    counts = results.get_counts()\n",
    "\n",
    "    # Get ideal distribution from statevector\n",
    "    qc_nom = circuit_object.remove_final_measurements(inplace=False)\n",
    "    state = Statevector.from_instruction(qc_nom)\n",
    "    ideal_probs = state.probabilities_dict()\n",
    "\n",
    "    jobs.append((qubit_number, counts, ideal_probs))\n",
    "\n",
    "print(\"Collected results:\")\n",
    "for res in jobs:\n",
    "    print(res)\n"
   ]
  },
  {
   "cell_type": "code",
   "execution_count": 3,
   "id": "52be13c4-f2c1-411d-8520-28ff7fb7b11d",
   "metadata": {
    "execution": {
     "iopub.execute_input": "2025-08-22T09:12:48.071051Z",
     "iopub.status.busy": "2025-08-22T09:12:48.070936Z",
     "iopub.status.idle": "2025-08-22T09:12:48.195531Z",
     "shell.execute_reply": "2025-08-22T09:12:48.195250Z",
     "shell.execute_reply.started": "2025-08-22T09:12:48.071040Z"
    }
   },
   "outputs": [],
   "source": [
    "# Hellinger fidelity function\n",
    "def hellinger_fidelity_with_expected(p, q):\n",
    "    \"\"\"Compute Hellinger fidelity between measured distribution p (counts)\n",
    "       and expected distribution q (probabilities).\"\"\"\n",
    "    p_sum = sum(p.values())\n",
    "    p_norm = {k: v / p_sum for k, v in p.items()}\n",
    "\n",
    "    q_sum = sum(q.values())\n",
    "    q_norm = {k: v / q_sum for k, v in q.items()}\n",
    "\n",
    "    overlap = 0.0\n",
    "    for k in set(p_norm) | set(q_norm):\n",
    "        overlap += np.sqrt(p_norm.get(k, 0) * q_norm.get(k, 0))\n",
    "    return overlap**2"
   ]
  },
  {
   "cell_type": "code",
   "execution_count": 4,
   "id": "602f7fd4-f439-4855-ba9f-3c93aa550173",
   "metadata": {
    "execution": {
     "iopub.execute_input": "2025-08-22T09:12:48.195925Z",
     "iopub.status.busy": "2025-08-22T09:12:48.195816Z",
     "iopub.status.idle": "2025-08-22T09:12:48.228671Z",
     "shell.execute_reply": "2025-08-22T09:12:48.228402Z",
     "shell.execute_reply.started": "2025-08-22T09:12:48.195915Z"
    }
   },
   "outputs": [
    {
     "name": "stdout",
     "output_type": "stream",
     "text": [
      "Hellinger Fidelity (QAOA, 3 qubits): 0.9980\n",
      "Hellinger Fidelity (QAOA, 4 qubits): 0.9998\n"
     ]
    }
   ],
   "source": [
    "for qubit_number, counts, ideal_probs in jobs:\n",
    "    fidelity = hellinger_fidelity_with_expected(counts, ideal_probs)\n",
    "    print(f\"Hellinger Fidelity (QAOA, {qubit_number} qubits): {fidelity:.4f}\")"
   ]
  }
 ],
 "metadata": {
  "kernelspec": {
   "display_name": "Python 3 (ipykernel)",
   "language": "python",
   "name": "python3"
  },
  "language_info": {
   "codemirror_mode": {
    "name": "ipython",
    "version": 3
   },
   "file_extension": ".py",
   "mimetype": "text/x-python",
   "name": "python",
   "nbconvert_exporter": "python",
   "pygments_lexer": "ipython3",
   "version": "3.12.0"
  }
 },
 "nbformat": 4,
 "nbformat_minor": 5
}
