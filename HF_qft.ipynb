{
 "cells": [
  {
   "cell_type": "code",
   "execution_count": 9,
   "id": "a7035a90-a0db-4530-9d18-862b84781b52",
   "metadata": {
    "execution": {
     "iopub.execute_input": "2025-08-22T09:20:13.980905Z",
     "iopub.status.busy": "2025-08-22T09:20:13.980695Z",
     "iopub.status.idle": "2025-08-22T09:20:13.992178Z",
     "shell.execute_reply": "2025-08-22T09:20:13.991904Z",
     "shell.execute_reply.started": "2025-08-22T09:20:13.980889Z"
    }
   },
   "outputs": [
    {
     "name": "stdout",
     "output_type": "stream",
     "text": [
      "---------------qft with qubit 3 ---------------\n",
      "---------------qft with qubit 4 ---------------\n",
      "=================================================================================================\n",
      "[(3, <qiskit.circuit.quantumcircuit.QuantumCircuit object at 0x7059b5d64e30>), (4, <qiskit.circuit.quantumcircuit.QuantumCircuit object at 0x705926644c80>)]\n"
     ]
    }
   ],
   "source": [
    "from mqt.bench import CompilerSettings, QiskitSettings, get_benchmark\n",
    "from qiskit import *\n",
    "import numpy as np\n",
    "\n",
    "min_qubit = 3 # maximum number of qubit\n",
    "max_qubit = 5 # minimum number of qubit\n",
    "gaps = 1\n",
    "min_qubit = min(max(2, min_qubit), max_qubit) # maximum number of qubit\n",
    "max_qubit = max(2, max_qubit) # minimum number of qubit\n",
    "#skip_qubis = max(1, skip_qubits)\n",
    "gaps = 1\n",
    "compiler_settings = CompilerSettings(qiskit=QiskitSettings(optimization_level=1))\n",
    "circuits= []\n",
    "for i in range(min_qubit, max_qubit, gaps):\n",
    "    qc = get_benchmark(benchmark_name=\"qft\",\n",
    "                       level=\"nativegates\",\n",
    "                       circuit_size=i,\n",
    "                       compiler=\"qiskit\",\n",
    "                       compiler_settings=compiler_settings,\n",
    "                       provider_name=\"ionq\",)\n",
    "    circuits.append((i,qc))\n",
    "    print(\"---------------\",qc.name, \"with qubit\", i,\"---------------\")\n",
    "print(\"=================================================================================================\")\n",
    "print(circuits)"
   ]
  },
  {
   "cell_type": "code",
   "execution_count": 10,
   "id": "c0e86e35-2516-4b54-a5e2-63b91dbae541",
   "metadata": {
    "execution": {
     "iopub.execute_input": "2025-08-22T09:20:14.305319Z",
     "iopub.status.busy": "2025-08-22T09:20:14.305183Z",
     "iopub.status.idle": "2025-08-22T09:20:14.318893Z",
     "shell.execute_reply": "2025-08-22T09:20:14.318609Z",
     "shell.execute_reply.started": "2025-08-22T09:20:14.305309Z"
    }
   },
   "outputs": [
    {
     "name": "stdout",
     "output_type": "stream",
     "text": [
      "Collected results:\n",
      "(3, {'010': 114, '000': 130, '100': 142, '110': 125, '101': 118, '001': 122, '111': 120, '011': 129}, {'000': 0.12499999999999986, '001': 0.1249999999999999, '010': 0.12500000000000003, '011': 0.12499999999999997, '100': 0.12499999999999994, '101': 0.12499999999999986, '110': 0.12499999999999997, '111': 0.12500000000000003})\n",
      "(4, {'1101': 54, '1110': 53, '1011': 60, '0011': 86, '0111': 53, '1001': 59, '0101': 71, '0001': 62, '1111': 64, '1010': 68, '0000': 53, '0010': 65, '0100': 66, '1100': 48, '0110': 72, '1000': 66}, {'0000': 0.06249999999999989, '0001': 0.06249999999999992, '0010': 0.06249999999999989, '0011': 0.06249999999999989, '0100': 0.062499999999999944, '0101': 0.06249999999999993, '0110': 0.0624999999999999, '0111': 0.06249999999999986, '1000': 0.062499999999999944, '1001': 0.06249999999999993, '1010': 0.062499999999999944, '1011': 0.06249999999999992, '1100': 0.06249999999999992, '1101': 0.062499999999999944, '1110': 0.062499999999999875, '1111': 0.06249999999999992})\n"
     ]
    }
   ],
   "source": [
    "from qiskit_aer import AerSimulator\n",
    "from qiskit.quantum_info import Statevector\n",
    "\n",
    "simulator = AerSimulator()\n",
    "\n",
    "jobs = []\n",
    "for qubit_number, circuit_object in circuits:\n",
    "    # Run noisy simulation (counts)\n",
    "    job = simulator.run(circuit_object, shots=1000)\n",
    "    results = job.result()\n",
    "    counts = results.get_counts()\n",
    "\n",
    "    # Get ideal distribution from statevector\n",
    "    qc_nom = circuit_object.remove_final_measurements(inplace=False)\n",
    "    state = Statevector.from_instruction(qc_nom)\n",
    "    ideal_probs = state.probabilities_dict()\n",
    "\n",
    "    jobs.append((qubit_number, counts, ideal_probs))\n",
    "\n",
    "print(\"Collected results:\")\n",
    "for res in jobs:\n",
    "    print(res)\n"
   ]
  },
  {
   "cell_type": "code",
   "execution_count": 11,
   "id": "52be13c4-f2c1-411d-8520-28ff7fb7b11d",
   "metadata": {
    "execution": {
     "iopub.execute_input": "2025-08-22T09:20:14.885000Z",
     "iopub.status.busy": "2025-08-22T09:20:14.884316Z",
     "iopub.status.idle": "2025-08-22T09:20:14.888234Z",
     "shell.execute_reply": "2025-08-22T09:20:14.887660Z",
     "shell.execute_reply.started": "2025-08-22T09:20:14.884983Z"
    }
   },
   "outputs": [],
   "source": [
    "# Hellinger fidelity function\n",
    "def hellinger_fidelity_with_expected(p, q):\n",
    "    \"\"\"Compute Hellinger fidelity between measured distribution p (counts)\n",
    "       and expected distribution q (probabilities).\"\"\"\n",
    "    p_sum = sum(p.values())\n",
    "    p_norm = {k: v / p_sum for k, v in p.items()}\n",
    "\n",
    "    q_sum = sum(q.values())\n",
    "    q_norm = {k: v / q_sum for k, v in q.items()}\n",
    "\n",
    "    overlap = 0.0\n",
    "    for k in set(p_norm) | set(q_norm):\n",
    "        overlap += np.sqrt(p_norm.get(k, 0) * q_norm.get(k, 0))\n",
    "    return overlap**2"
   ]
  },
  {
   "cell_type": "code",
   "execution_count": 13,
   "id": "602f7fd4-f439-4855-ba9f-3c93aa550173",
   "metadata": {
    "execution": {
     "iopub.execute_input": "2025-08-22T09:20:21.882216Z",
     "iopub.status.busy": "2025-08-22T09:20:21.881979Z",
     "iopub.status.idle": "2025-08-22T09:20:21.884866Z",
     "shell.execute_reply": "2025-08-22T09:20:21.884344Z",
     "shell.execute_reply.started": "2025-08-22T09:20:21.882199Z"
    }
   },
   "outputs": [
    {
     "name": "stdout",
     "output_type": "stream",
     "text": [
      "Hellinger Fidelity (qft, 3 qubits): 0.9990\n",
      "Hellinger Fidelity (qft, 4 qubits): 0.9948\n"
     ]
    }
   ],
   "source": [
    "for qubit_number, counts, ideal_probs in jobs:\n",
    "    fidelity = hellinger_fidelity_with_expected(counts, ideal_probs)\n",
    "    print(f\"Hellinger Fidelity (qft, {qubit_number} qubits): {fidelity:.4f}\")"
   ]
  },
  {
   "cell_type": "code",
   "execution_count": null,
   "id": "fa416870-59f0-4d81-b060-a057ff814957",
   "metadata": {},
   "outputs": [],
   "source": []
  },
  {
   "cell_type": "code",
   "execution_count": null,
   "id": "b2f776df-80be-4b11-8e4c-4dd9207fb7b8",
   "metadata": {},
   "outputs": [],
   "source": []
  }
 ],
 "metadata": {
  "kernelspec": {
   "display_name": "Python 3 (ipykernel)",
   "language": "python",
   "name": "python3"
  },
  "language_info": {
   "codemirror_mode": {
    "name": "ipython",
    "version": 3
   },
   "file_extension": ".py",
   "mimetype": "text/x-python",
   "name": "python",
   "nbconvert_exporter": "python",
   "pygments_lexer": "ipython3",
   "version": "3.12.0"
  }
 },
 "nbformat": 4,
 "nbformat_minor": 5
}
