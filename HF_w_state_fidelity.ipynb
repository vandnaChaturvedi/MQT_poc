{
 "cells": [
  {
   "cell_type": "code",
   "execution_count": 1,
   "id": "286ecc32-4169-452f-b0cc-a64184db3f74",
   "metadata": {
    "execution": {
     "iopub.execute_input": "2025-08-04T05:53:12.735696Z",
     "iopub.status.busy": "2025-08-04T05:53:12.735483Z",
     "iopub.status.idle": "2025-08-04T05:54:11.674278Z",
     "shell.execute_reply": "2025-08-04T05:54:11.673961Z",
     "shell.execute_reply.started": "2025-08-04T05:53:12.735680Z"
    }
   },
   "outputs": [],
   "source": [
    "from mqt.bench import CompilerSettings, QiskitSettings, TKETSettings, get_benchmark\n",
    "from qiskit import *\n",
    "import numpy as np"
   ]
  },
  {
   "cell_type": "code",
   "execution_count": 2,
   "id": "811d5c42-b183-458c-b277-d478a61afccd",
   "metadata": {
    "execution": {
     "iopub.execute_input": "2025-08-04T05:54:35.584024Z",
     "iopub.status.busy": "2025-08-04T05:54:35.583785Z",
     "iopub.status.idle": "2025-08-04T05:55:09.490802Z",
     "shell.execute_reply": "2025-08-04T05:55:09.490493Z",
     "shell.execute_reply.started": "2025-08-04T05:54:35.584011Z"
    }
   },
   "outputs": [
    {
     "name": "stdout",
     "output_type": "stream",
     "text": [
      "---------------w_state---------------\n",
      "global phase: 3π/2\n",
      "         ┌───────────┐  ┌────────┐                                         »\n",
      "   q_0: ─┤ Ry(-3π/4) ├──┤ Rz(-π) ├─────────────────────────────────────────»\n",
      "        ┌┴───────────┴┐ ├────────┤┌───────────┐┌──────────────┐┌─────────┐ »\n",
      "   q_1: ┤ Ry(-2.5261) ├─┤ Rz(-π) ├┤1          ├┤ Rz(-0.95532) ├┤ Rx(π/2) ├─»\n",
      "        └──┬───────┬──┘┌┴────────┤│  Rxx(π/2) │└─┬──────────┬─┘├─────────┴┐»\n",
      "   q_2: ───┤ Rx(π) ├───┤ Ry(π/2) ├┤0          ├──┤ Rx(-π/2) ├──┤ Ry(-π/2) ├»\n",
      "           └───────┘   └─────────┘└───────────┘  └──────────┘  └──────────┘»\n",
      "meas: 3/═══════════════════════════════════════════════════════════════════»\n",
      "                                                                           »\n",
      "«        ┌───────────┐┌──────────┐ ┌─────────┐                         »\n",
      "«   q_0: ┤1          ├┤ Rz(-π/4) ├─┤ Rx(π/2) ├─────────────────────────»\n",
      "«        │  Rxx(π/2) │├──────────┤┌┴─────────┴┐┌──────────┐┌──────────┐»\n",
      "«   q_1: ┤0          ├┤ Rx(-π/2) ├┤0          ├┤ Rx(-π/2) ├┤ Ry(-π/2) ├»\n",
      "«        └───────────┘└──────────┘│  Rxx(π/2) │├──────────┤└──────────┘»\n",
      "«   q_2: ─────────────────────────┤1          ├┤ Rx(-π/2) ├────────────»\n",
      "«                                 └───────────┘└──────────┘            »\n",
      "«meas: 3/══════════════════════════════════════════════════════════════»\n",
      "«                                                                      »\n",
      "«        ┌───────────┐┌──────────┐┌──────────┐ ░ ┌─┐      \n",
      "«   q_0: ┤0          ├┤ Rx(-π/2) ├┤ Ry(-π/2) ├─░─┤M├──────\n",
      "«        │  Rxx(π/2) │├──────────┤└──────────┘ ░ └╥┘┌─┐   \n",
      "«   q_1: ┤1          ├┤ Rx(-π/2) ├─────────────░──╫─┤M├───\n",
      "«        └───────────┘└──────────┘             ░  ║ └╥┘┌─┐\n",
      "«   q_2: ──────────────────────────────────────░──╫──╫─┤M├\n",
      "«                                              ░  ║  ║ └╥┘\n",
      "«meas: 3/═════════════════════════════════════════╩══╩══╩═\n",
      "«                                                 0  1  2 \n"
     ]
    }
   ],
   "source": [
    "q_num=3 #number of choosen qubit\n",
    "compiler_settings = CompilerSettings(qiskit=QiskitSettings(optimization_level=1))\n",
    "qc = get_benchmark(\n",
    "benchmark_name=\"wstate\",\n",
    "level=\"nativegates\",\n",
    "circuit_size=q_num,\n",
    "compiler=\"qiskit\",\n",
    "compiler_settings=compiler_settings,\n",
    "provider_name=\"ionq\",)\n",
    "print(\"---------------w_state---------------\")\n",
    "print(qc.draw())"
   ]
  },
  {
   "cell_type": "code",
   "execution_count": 3,
   "id": "4f0ebc21-74eb-4e1f-98a0-c7642952871a",
   "metadata": {
    "execution": {
     "iopub.execute_input": "2025-08-04T05:55:09.491528Z",
     "iopub.status.busy": "2025-08-04T05:55:09.491202Z",
     "iopub.status.idle": "2025-08-04T05:55:10.418535Z",
     "shell.execute_reply": "2025-08-04T05:55:10.418066Z",
     "shell.execute_reply.started": "2025-08-04T05:55:09.491514Z"
    }
   },
   "outputs": [
    {
     "name": "stdout",
     "output_type": "stream",
     "text": [
      " > Counts: {'100': 314, '001': 352, '010': 334}\n"
     ]
    }
   ],
   "source": [
    "from qiskit_aer import AerSimulator\n",
    "from qiskit import *\n",
    "from qiskit.providers.fake_provider import *\n",
    "import numpy as np \n",
    "import os\n",
    "from qiskit.primitives import StatevectorSampler\n",
    "sampler = StatevectorSampler()\n",
    "job = sampler.run([qc], shots=1000)\n",
    "result = job.result()\n",
    "counts= result[0].data[\"meas\"].get_counts()\n",
    "print(f\" > Counts: {result[0].data[\"meas\"].get_counts()}\")"
   ]
  },
  {
   "cell_type": "markdown",
   "id": "9317ea3e-9029-4558-b1d5-37a140dc9b32",
   "metadata": {},
   "source": [
    " 3-Qubit W state\n",
    "∣W3⟩=13(∣001⟩+∣010⟩+∣100⟩)\n",
    "∣W3​⟩=3\n",
    "​1​(∣001⟩+∣010⟩+∣100⟩)"
   ]
  },
  {
   "cell_type": "code",
   "execution_count": 4,
   "id": "99a1d390-7437-43fb-a103-16914ea8db7d",
   "metadata": {
    "execution": {
     "iopub.execute_input": "2025-08-04T05:55:10.418886Z",
     "iopub.status.busy": "2025-08-04T05:55:10.418798Z",
     "iopub.status.idle": "2025-08-04T05:55:10.421583Z",
     "shell.execute_reply": "2025-08-04T05:55:10.421313Z",
     "shell.execute_reply.started": "2025-08-04T05:55:10.418878Z"
    }
   },
   "outputs": [
    {
     "name": "stdout",
     "output_type": "stream",
     "text": [
      "Hellinger fidelity: 99.945670812934 %\n"
     ]
    }
   ],
   "source": [
    "from qiskit.quantum_info import hellinger_fidelity\n",
    "\n",
    "#ideal_dist = {b * q_num: 0.5 for b in [\"0\", \"1\"]}\n",
    "#total_shots = sum(counts.values())\n",
    "#device_dist = {bitstr: count / total_shots for bitstr, count in counts.items()}\n",
    "#hf = hellinger_fidelity(ideal_dist, device_dist) #formula of Hellinger fidelity between two distributions p and q is given by $(\\sum_i{p_i q_i})^2$ as FLOAT.\n",
    "#print(\"Hellinger fidelity\",hf*100,\"%\")\n",
    "\n",
    "ideal_dist = {'001': 1/3, '010': 1/3, '100': 1/3}\n",
    "total_shots = sum(counts.values())\n",
    "device_dist = {bitstr: count / total_shots for bitstr, count in counts.items()}\n",
    "hf = hellinger_fidelity(ideal_dist, device_dist)\n",
    "print(\"Hellinger fidelity:\", hf * 100, \"%\")\n"
   ]
  },
  {
   "cell_type": "markdown",
   "id": "e5c64b38-b11b-4de3-92d3-e3fa7583ec7a",
   "metadata": {},
   "source": [
    "🔸 4-Qubit W state\n",
    "∣W4⟩=12(∣0001⟩+∣0010⟩+∣0100⟩+∣1000⟩)\n",
    "∣W4​⟩=21​(∣0001⟩+∣0010⟩+∣0100⟩+∣1000⟩)\n",
    "\n",
    "ideal_dist = {'0001': 0.25,'0010': 0.25,'0100': 0.25,'1000': 0.25}\n"
   ]
  },
  {
   "cell_type": "code",
   "execution_count": null,
   "id": "d8957a9c-d9ad-483e-88ba-234a283a1f24",
   "metadata": {},
   "outputs": [],
   "source": []
  },
  {
   "cell_type": "code",
   "execution_count": null,
   "id": "e6bef59d-9c34-4e4d-9a59-1e7707b5e827",
   "metadata": {},
   "outputs": [],
   "source": []
  }
 ],
 "metadata": {
  "kernelspec": {
   "display_name": "Python 3 (ipykernel)",
   "language": "python",
   "name": "python3"
  },
  "language_info": {
   "codemirror_mode": {
    "name": "ipython",
    "version": 3
   },
   "file_extension": ".py",
   "mimetype": "text/x-python",
   "name": "python",
   "nbconvert_exporter": "python",
   "pygments_lexer": "ipython3",
   "version": "3.12.0"
  }
 },
 "nbformat": 4,
 "nbformat_minor": 5
}
