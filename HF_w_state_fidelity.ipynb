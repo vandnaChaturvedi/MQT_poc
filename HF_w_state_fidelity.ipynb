{
 "cells": [
  {
   "cell_type": "code",
   "execution_count": 1,
   "id": "286ecc32-4169-452f-b0cc-a64184db3f74",
   "metadata": {
    "execution": {
     "iopub.execute_input": "2025-08-04T06:54:20.151066Z",
     "iopub.status.busy": "2025-08-04T06:54:20.150985Z",
     "iopub.status.idle": "2025-08-04T06:54:21.627859Z",
     "shell.execute_reply": "2025-08-04T06:54:21.627616Z",
     "shell.execute_reply.started": "2025-08-04T06:54:20.151057Z"
    }
   },
   "outputs": [],
   "source": [
    "from mqt.bench import CompilerSettings, QiskitSettings, TKETSettings, get_benchmark\n",
    "from qiskit import *\n",
    "import numpy as np\n",
    "from qiskit.quantum_info import hellinger_fidelity"
   ]
  },
  {
   "cell_type": "code",
   "execution_count": 2,
   "id": "811d5c42-b183-458c-b277-d478a61afccd",
   "metadata": {
    "execution": {
     "iopub.execute_input": "2025-08-04T06:54:21.628414Z",
     "iopub.status.busy": "2025-08-04T06:54:21.628210Z",
     "iopub.status.idle": "2025-08-04T06:54:22.225558Z",
     "shell.execute_reply": "2025-08-04T06:54:22.225291Z",
     "shell.execute_reply.started": "2025-08-04T06:54:21.628400Z"
    }
   },
   "outputs": [
    {
     "name": "stdout",
     "output_type": "stream",
     "text": [
      "---------------w_state---------------\n"
     ]
    }
   ],
   "source": [
    "q_num=3 #number of choosen qubit\n",
    "compiler_settings = CompilerSettings(qiskit=QiskitSettings(optimization_level=1))\n",
    "qc = get_benchmark(\n",
    "benchmark_name=\"wstate\",\n",
    "level=\"nativegates\",\n",
    "circuit_size=q_num,\n",
    "compiler=\"qiskit\",\n",
    "compiler_settings=compiler_settings,\n",
    "provider_name=\"ionq\",)\n",
    "print(\"---------------w_state---------------\")\n",
    "#print(qc.draw())"
   ]
  },
  {
   "cell_type": "code",
   "execution_count": 3,
   "id": "4f0ebc21-74eb-4e1f-98a0-c7642952871a",
   "metadata": {
    "execution": {
     "iopub.execute_input": "2025-08-04T06:54:22.226275Z",
     "iopub.status.busy": "2025-08-04T06:54:22.226086Z",
     "iopub.status.idle": "2025-08-04T06:54:22.235734Z",
     "shell.execute_reply": "2025-08-04T06:54:22.235479Z",
     "shell.execute_reply.started": "2025-08-04T06:54:22.226260Z"
    }
   },
   "outputs": [
    {
     "name": "stdout",
     "output_type": "stream",
     "text": [
      " > Counts: {'010': 324, '001': 324, '100': 352}\n"
     ]
    }
   ],
   "source": [
    "from qiskit_aer import AerSimulator\n",
    "from qiskit.providers.fake_provider import *\n",
    "import numpy as np \n",
    "import os\n",
    "from qiskit.primitives import StatevectorSampler\n",
    "sampler = StatevectorSampler()\n",
    "job = sampler.run([qc], shots=1000)\n",
    "result = job.result()\n",
    "counts= result[0].data[\"meas\"].get_counts()\n",
    "print(f\" > Counts: {result[0].data[\"meas\"].get_counts()}\")"
   ]
  },
  {
   "cell_type": "markdown",
   "id": "9317ea3e-9029-4558-b1d5-37a140dc9b32",
   "metadata": {},
   "source": [
    " 3-Qubit W state\n",
    "∣W3⟩=13(∣001⟩+∣010⟩+∣100⟩)\n",
    "∣W3​⟩=3\n",
    "​1​(∣001⟩+∣010⟩+∣100⟩)"
   ]
  },
  {
   "cell_type": "markdown",
   "id": "e5c64b38-b11b-4de3-92d3-e3fa7583ec7a",
   "metadata": {},
   "source": [
    "🔸 4-Qubit W state\n",
    "∣W4⟩=12(∣0001⟩+∣0010⟩+∣0100⟩+∣1000⟩)\n",
    "∣W4​⟩=21​(∣0001⟩+∣0010⟩+∣0100⟩+∣1000⟩)\n",
    "\n",
    "ideal_dist = {'0001': 0.25,'0010': 0.25,'0100': 0.25,'1000': 0.25}\n"
   ]
  },
  {
   "cell_type": "code",
   "execution_count": 4,
   "id": "99a1d390-7437-43fb-a103-16914ea8db7d",
   "metadata": {
    "execution": {
     "iopub.execute_input": "2025-08-04T06:54:22.236170Z",
     "iopub.status.busy": "2025-08-04T06:54:22.236066Z",
     "iopub.status.idle": "2025-08-04T06:54:22.482210Z",
     "shell.execute_reply": "2025-08-04T06:54:22.481970Z",
     "shell.execute_reply.started": "2025-08-04T06:54:22.236161Z"
    }
   },
   "outputs": [
    {
     "name": "stdout",
     "output_type": "stream",
     "text": [
      "Hellinger fidelity: 99.96132462763826 %\n"
     ]
    }
   ],
   "source": [
    "ideal_dist = {'001': 1/3, '010': 1/3, '100': 1/3}\n",
    "total_shots = sum(counts.values())\n",
    "device_dist = {bitstr: count / total_shots for bitstr, count in counts.items()}\n",
    "hf = hellinger_fidelity(ideal_dist, device_dist)\n",
    "print(\"Hellinger fidelity:\", hf * 100, \"%\")"
   ]
  },
  {
   "cell_type": "code",
   "execution_count": 8,
   "id": "dac39435-424c-4372-9504-1885fc898e1c",
   "metadata": {
    "execution": {
     "iopub.execute_input": "2025-08-04T06:55:36.546582Z",
     "iopub.status.busy": "2025-08-04T06:55:36.546440Z",
     "iopub.status.idle": "2025-08-04T06:55:36.549254Z",
     "shell.execute_reply": "2025-08-04T06:55:36.548916Z",
     "shell.execute_reply.started": "2025-08-04T06:55:36.546572Z"
    }
   },
   "outputs": [],
   "source": [
    "from itertools import permutations\n",
    "from collections import Counter\n",
    "def ideal_w_state_dist(n):\n",
    "    bitstrings = set(['0' * i + '1' + '0' * (n - i - 1) for i in range(n)])\n",
    "    prob = 1 / n\n",
    "    return {b: prob for b in bitstrings}"
   ]
  },
  {
   "cell_type": "markdown",
   "id": "6500f8bf-7b4f-436a-878d-2b9f6ca4d6d7",
   "metadata": {},
   "source": [
    "* n-Qubit W state (general case)*\n",
    "    bitstrings = set(['0' * i + '1' + '0' * (n - i - 1) for i in range(n)])\n",
    "    prob = 1 / n\n",
    "    return {b: prob for b in bitstrings}"
   ]
  },
  {
   "cell_type": "code",
   "execution_count": 10,
   "id": "c4161425-8f85-47cb-b2aa-bfb32fc2465d",
   "metadata": {
    "execution": {
     "iopub.execute_input": "2025-08-04T06:55:42.801957Z",
     "iopub.status.busy": "2025-08-04T06:55:42.801772Z",
     "iopub.status.idle": "2025-08-04T06:55:42.804300Z",
     "shell.execute_reply": "2025-08-04T06:55:42.804042Z",
     "shell.execute_reply.started": "2025-08-04T06:55:42.801946Z"
    }
   },
   "outputs": [
    {
     "name": "stdout",
     "output_type": "stream",
     "text": [
      "Hellinger fidelity: 99.96132462763826 %\n"
     ]
    }
   ],
   "source": [
    "from qiskit.quantum_info import hellinger_fidelity \n",
    "\n",
    "ideal_dist = ideal_w_state_dist(q_num)\n",
    "total_shots = sum(counts.values())\n",
    "device_dist = {}\n",
    "for bitstr, count in counts.items():\n",
    "    prob = count / total_shots\n",
    "    device_dist[bitstr] = prob\n",
    "hf = hellinger_fidelity(ideal_dist, device_dist)\n",
    "print(\"Hellinger fidelity:\", hf * 100, \"%\")\n"
   ]
  },
  {
   "cell_type": "code",
   "execution_count": null,
   "id": "c3bbe82b-559e-43d3-a59f-40b11c1b2a2d",
   "metadata": {},
   "outputs": [],
   "source": []
  }
 ],
 "metadata": {
  "kernelspec": {
   "display_name": "Python 3 (ipykernel)",
   "language": "python",
   "name": "python3"
  },
  "language_info": {
   "codemirror_mode": {
    "name": "ipython",
    "version": 3
   },
   "file_extension": ".py",
   "mimetype": "text/x-python",
   "name": "python",
   "nbconvert_exporter": "python",
   "pygments_lexer": "ipython3",
   "version": "3.12.0"
  }
 },
 "nbformat": 4,
 "nbformat_minor": 5
}
