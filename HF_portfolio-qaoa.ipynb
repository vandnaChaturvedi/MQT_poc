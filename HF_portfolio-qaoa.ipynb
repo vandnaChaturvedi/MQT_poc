{
 "cells": [
  {
   "cell_type": "code",
   "execution_count": 1,
   "id": "a7035a90-a0db-4530-9d18-862b84781b52",
   "metadata": {
    "execution": {
     "iopub.execute_input": "2025-08-22T09:14:53.368066Z",
     "iopub.status.busy": "2025-08-22T09:14:53.367964Z",
     "iopub.status.idle": "2025-08-22T09:14:55.449010Z",
     "shell.execute_reply": "2025-08-22T09:14:55.448504Z",
     "shell.execute_reply.started": "2025-08-22T09:14:53.368055Z"
    }
   },
   "outputs": [
    {
     "name": "stdout",
     "output_type": "stream",
     "text": [
      "---------------vqe with qubit 3 ---------------\n",
      "---------------vqe with qubit 4 ---------------\n",
      "=================================================================================================\n",
      "[(3, <qiskit.circuit.quantumcircuit.QuantumCircuit object at 0x747e0e16ca70>), (4, <qiskit.circuit.quantumcircuit.QuantumCircuit object at 0x747e9d92d730>)]\n"
     ]
    }
   ],
   "source": [
    "from mqt.bench import CompilerSettings, QiskitSettings, get_benchmark\n",
    "from qiskit import *\n",
    "import numpy as np\n",
    "\n",
    "min_qubit = 3 # maximum number of qubit\n",
    "max_qubit = 5 # minimum number of qubit\n",
    "gaps = 1\n",
    "min_qubit = min(max(2, min_qubit), max_qubit) # maximum number of qubit\n",
    "max_qubit = max(2, max_qubit) # minimum number of qubit\n",
    "#skip_qubis = max(1, skip_qubits)\n",
    "gaps = 1\n",
    "compiler_settings = CompilerSettings(qiskit=QiskitSettings(optimization_level=1))\n",
    "circuits= []\n",
    "for i in range(min_qubit, max_qubit, gaps):\n",
    "    qc = get_benchmark(benchmark_name=\"portfolioqaoa\",\n",
    "                       level=\"nativegates\",\n",
    "                       circuit_size=i,\n",
    "                       compiler=\"qiskit\",\n",
    "                       compiler_settings=compiler_settings,\n",
    "                       provider_name=\"ionq\",)\n",
    "    circuits.append((i,qc))\n",
    "    print(\"---------------vqe with qubit\", i,\"---------------\")\n",
    "print(\"=================================================================================================\")\n",
    "print(circuits)"
   ]
  },
  {
   "cell_type": "code",
   "execution_count": 2,
   "id": "c0e86e35-2516-4b54-a5e2-63b91dbae541",
   "metadata": {
    "execution": {
     "iopub.execute_input": "2025-08-22T09:14:55.449652Z",
     "iopub.status.busy": "2025-08-22T09:14:55.449415Z",
     "iopub.status.idle": "2025-08-22T09:14:55.486499Z",
     "shell.execute_reply": "2025-08-22T09:14:55.486036Z",
     "shell.execute_reply.started": "2025-08-22T09:14:55.449638Z"
    }
   },
   "outputs": [
    {
     "name": "stdout",
     "output_type": "stream",
     "text": [
      "Collected results:\n",
      "(3, {'101': 5, '110': 8, '011': 6, '111': 7, '100': 293, '000': 48, '010': 337, '001': 296}, {'000': 0.050611836321212765, '001': 0.3073248399833461, '010': 0.30916132891268916, '011': 0.008929894430543883, '100': 0.3047594060440712, '101': 0.0061373359089927845, '110': 0.007114182325192089, '111': 0.005961176073951349})\n",
      "(4, {'1110': 7, '1111': 9, '1101': 13, '0010': 8, '0000': 14, '1011': 4, '0011': 152, '0111': 3, '0101': 174, '1001': 166, '1100': 149, '1010': 122, '1000': 9, '0110': 151, '0100': 7, '0001': 12}, {'0000': 0.012044522341875061, '0001': 0.011268640518491056, '0010': 0.007864501783857211, '0011': 0.14318372451629274, '0100': 0.011159636491578254, '0101': 0.165754146018092, '0110': 0.1433637080005151, '0111': 0.008075302714678354, '1000': 0.009901777527396618, '1001': 0.15787934492114894, '1010': 0.13675504954022594, '1011': 0.007144948349164059, '1100': 0.15753258696431705, '1101': 0.010414249936295998, '1110': 0.007207256152968772, '1111': 0.010450604223102079})\n"
     ]
    }
   ],
   "source": [
    "from qiskit_aer import AerSimulator\n",
    "from qiskit.quantum_info import Statevector\n",
    "\n",
    "simulator = AerSimulator()\n",
    "\n",
    "jobs = []\n",
    "for qubit_number, circuit_object in circuits:\n",
    "    # Run noisy simulation (counts)\n",
    "    job = simulator.run(circuit_object, shots=1000)\n",
    "    results = job.result()\n",
    "    counts = results.get_counts()\n",
    "\n",
    "    # Get ideal distribution from statevector\n",
    "    qc_nom = circuit_object.remove_final_measurements(inplace=False)\n",
    "    state = Statevector.from_instruction(qc_nom)\n",
    "    ideal_probs = state.probabilities_dict()\n",
    "\n",
    "    jobs.append((qubit_number, counts, ideal_probs))\n",
    "\n",
    "print(\"Collected results:\")\n",
    "for res in jobs:\n",
    "    print(res)\n"
   ]
  },
  {
   "cell_type": "code",
   "execution_count": 3,
   "id": "52be13c4-f2c1-411d-8520-28ff7fb7b11d",
   "metadata": {
    "execution": {
     "iopub.execute_input": "2025-08-22T09:14:55.487796Z",
     "iopub.status.busy": "2025-08-22T09:14:55.487415Z",
     "iopub.status.idle": "2025-08-22T09:14:55.552224Z",
     "shell.execute_reply": "2025-08-22T09:14:55.551701Z",
     "shell.execute_reply.started": "2025-08-22T09:14:55.487779Z"
    }
   },
   "outputs": [],
   "source": [
    "# Hellinger fidelity function\n",
    "def hellinger_fidelity_with_expected(p, q):\n",
    "    \"\"\"Compute Hellinger fidelity between measured distribution p (counts)\n",
    "       and expected distribution q (probabilities).\"\"\"\n",
    "    p_sum = sum(p.values())\n",
    "    p_norm = {k: v / p_sum for k, v in p.items()}\n",
    "\n",
    "    q_sum = sum(q.values())\n",
    "    q_norm = {k: v / q_sum for k, v in q.items()}\n",
    "\n",
    "    overlap = 0.0\n",
    "    for k in set(p_norm) | set(q_norm):\n",
    "        overlap += np.sqrt(p_norm.get(k, 0) * q_norm.get(k, 0))\n",
    "    return overlap**2"
   ]
  },
  {
   "cell_type": "code",
   "execution_count": 4,
   "id": "602f7fd4-f439-4855-ba9f-3c93aa550173",
   "metadata": {
    "execution": {
     "iopub.execute_input": "2025-08-22T09:14:55.552907Z",
     "iopub.status.busy": "2025-08-22T09:14:55.552670Z",
     "iopub.status.idle": "2025-08-22T09:14:55.586009Z",
     "shell.execute_reply": "2025-08-22T09:14:55.585483Z",
     "shell.execute_reply.started": "2025-08-22T09:14:55.552895Z"
    }
   },
   "outputs": [
    {
     "name": "stdout",
     "output_type": "stream",
     "text": [
      "Hellinger Fidelity (QAOA, 3 qubits): 0.9987\n",
      "Hellinger Fidelity (QAOA, 4 qubits): 0.9966\n"
     ]
    }
   ],
   "source": [
    "for qubit_number, counts, ideal_probs in jobs:\n",
    "    fidelity = hellinger_fidelity_with_expected(counts, ideal_probs)\n",
    "    print(f\"Hellinger Fidelity (QAOA, {qubit_number} qubits): {fidelity:.4f}\")"
   ]
  }
 ],
 "metadata": {
  "kernelspec": {
   "display_name": "Python 3 (ipykernel)",
   "language": "python",
   "name": "python3"
  },
  "language_info": {
   "codemirror_mode": {
    "name": "ipython",
    "version": 3
   },
   "file_extension": ".py",
   "mimetype": "text/x-python",
   "name": "python",
   "nbconvert_exporter": "python",
   "pygments_lexer": "ipython3",
   "version": "3.12.0"
  }
 },
 "nbformat": 4,
 "nbformat_minor": 5
}
