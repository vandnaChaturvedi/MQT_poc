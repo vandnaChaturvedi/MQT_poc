{
 "cells": [
  {
   "cell_type": "code",
   "execution_count": 1,
   "id": "726f886f-49c6-485c-9072-7a5e37e2a1f5",
   "metadata": {
    "execution": {
     "iopub.execute_input": "2025-08-08T10:53:45.797606Z",
     "iopub.status.busy": "2025-08-08T10:53:45.797256Z",
     "iopub.status.idle": "2025-08-08T10:53:47.281891Z",
     "shell.execute_reply": "2025-08-08T10:53:47.281602Z",
     "shell.execute_reply.started": "2025-08-08T10:53:45.797586Z"
    }
   },
   "outputs": [],
   "source": [
    "from mqt.bench import CompilerSettings, QiskitSettings, TKETSettings, get_benchmark\n",
    "from qiskit import *\n",
    "import numpy as np"
   ]
  },
  {
   "cell_type": "code",
   "execution_count": 2,
   "id": "f714fe26-caa9-4ceb-8273-fe6c6c60fb46",
   "metadata": {
    "execution": {
     "iopub.execute_input": "2025-08-08T10:53:47.282437Z",
     "iopub.status.busy": "2025-08-08T10:53:47.282237Z",
     "iopub.status.idle": "2025-08-08T10:53:47.284062Z",
     "shell.execute_reply": "2025-08-08T10:53:47.283728Z",
     "shell.execute_reply.started": "2025-08-08T10:53:47.282426Z"
    }
   },
   "outputs": [],
   "source": [
    "#def create_circuit(num_qubits: int) -> QuantumCircuit:\n",
    "#    ae = AmplitudeEstimation(\n",
    "#        num_eval_qubits=num_qubits - 1,  # -1 because of the to be estimated qubit\n",
    "#    )\n",
    "#    problem = get_estimation_problem()\n",
    "#\n",
    "#    qc = ae.construct_circuit(problem)\n",
    "#    qc.name = \"ae\"\n",
    "#    qc.measure_all()\n",
    "#    return qc"
   ]
  },
  {
   "cell_type": "code",
   "execution_count": 3,
   "id": "fda91882-4a54-49fc-8fa2-04eeeaf13664",
   "metadata": {
    "execution": {
     "iopub.execute_input": "2025-08-08T10:53:47.284701Z",
     "iopub.status.busy": "2025-08-08T10:53:47.284583Z",
     "iopub.status.idle": "2025-08-08T10:53:47.351856Z",
     "shell.execute_reply": "2025-08-08T10:53:47.351429Z",
     "shell.execute_reply.started": "2025-08-08T10:53:47.284692Z"
    }
   },
   "outputs": [],
   "source": [
    "n=3 #number of qubit"
   ]
  },
  {
   "cell_type": "code",
   "execution_count": 4,
   "id": "9b41d2f3-c400-4ce1-a27f-f4026699c056",
   "metadata": {
    "execution": {
     "iopub.execute_input": "2025-08-08T10:53:47.352602Z",
     "iopub.status.busy": "2025-08-08T10:53:47.352303Z",
     "iopub.status.idle": "2025-08-08T10:53:47.990176Z",
     "shell.execute_reply": "2025-08-08T10:53:47.989911Z",
     "shell.execute_reply.started": "2025-08-08T10:53:47.352588Z"
    }
   },
   "outputs": [
    {
     "name": "stdout",
     "output_type": "stream",
     "text": [
      "---------------ae---------------\n",
      "global phase: 7π/8\n",
      "          ┌───────┐   ┌───────────┐  ┌──────────┐             ┌───────────┐»\n",
      "eval_0: ──┤ Rx(π) ├───┤0          ├──┤ Rx(-π/2) ├─────────────┤0          ├»\n",
      "          ├───────┤   │           │  └──────────┘             │           │»\n",
      "eval_1: ──┤ Rx(π) ├───┤  Rxx(π/2) ├───────────────────────────┤  Rxx(π/2) ├»\n",
      "        ┌─┴───────┴──┐│           │┌─────────────┐┌──────────┐│           │»\n",
      "     q: ┤ Ry(0.9273) ├┤1          ├┤ Rz(-0.9273) ├┤ Rx(-π/2) ├┤1          ├»\n",
      "        └────────────┘└───────────┘└─────────────┘└──────────┘└───────────┘»\n",
      "meas: 3/═══════════════════════════════════════════════════════════════════»\n",
      "                                                                           »\n",
      "«         ┌─────────┐                                                      »\n",
      "«eval_0: ─┤ Rx(π/2) ├──────────────────────────────────────────────────────»\n",
      "«         └─────────┘              ┌───────────┐  ┌──────────┐             »\n",
      "«eval_1: ──────────────────────────┤0          ├──┤ Rx(-π/2) ├─────────────»\n",
      "«        ┌────────────┐┌──────────┐│  Rxx(π/2) │┌─┴──────────┴┐┌──────────┐»\n",
      "«     q: ┤ Rz(0.9273) ├┤ Rx(-π/2) ├┤1          ├┤ Rz(-1.8546) ├┤ Rx(-π/2) ├»\n",
      "«        └────────────┘└──────────┘└───────────┘└─────────────┘└──────────┘»\n",
      "«meas: 3/══════════════════════════════════════════════════════════════════»\n",
      "«                                                                          »\n",
      "«                                               ┌───────────┐┌──────────┐»\n",
      "«eval_0: ───────────────────────────────────────┤0          ├┤ Rx(-π/4) ├»\n",
      "«        ┌───────────┐ ┌──────────┐ ┌──────────┐│  Rxx(π/4) │├──────────┤»\n",
      "«eval_1: ┤0          ├─┤ Ry(-π/2) ├─┤ Rz(-π/2) ├┤1          ├┤ Ry(-π/2) ├»\n",
      "«        │  Rxx(π/2) │┌┴──────────┴┐├──────────┤└───────────┘└──────────┘»\n",
      "«     q: ┤1          ├┤ Rz(1.8546) ├┤ Rx(-π/2) ├─────────────────────────»\n",
      "«        └───────────┘└────────────┘└──────────┘                         »\n",
      "«meas: 3/════════════════════════════════════════════════════════════════»\n",
      "«                                                                        »\n",
      "«                     ░ ┌─┐      \n",
      "«eval_0: ─────────────░─┤M├──────\n",
      "«        ┌──────────┐ ░ └╥┘┌─┐   \n",
      "«eval_1: ┤ Rz(3π/4) ├─░──╫─┤M├───\n",
      "«        └──────────┘ ░  ║ └╥┘┌─┐\n",
      "«     q: ─────────────░──╫──╫─┤M├\n",
      "«                     ░  ║  ║ └╥┘\n",
      "«meas: 3/════════════════╩══╩══╩═\n",
      "«                        0  1  2 \n",
      "=================================================================================================\n"
     ]
    }
   ],
   "source": [
    "compiler_settings = CompilerSettings(qiskit=QiskitSettings(optimization_level=1))\n",
    "qc = get_benchmark(benchmark_name=\"ae\",\n",
    "                   level=\"nativegates\",\n",
    "                   circuit_size=n,\n",
    "                   compiler=\"qiskit\",\n",
    "                   compiler_settings=compiler_settings,\n",
    "                   provider_name=\"ionq\",)\n",
    "print(\"---------------ae---------------\")\n",
    "print(qc.draw())\n",
    "print(\"=================================================================================================\")"
   ]
  },
  {
   "cell_type": "code",
   "execution_count": 5,
   "id": "a1b4a1d1-fa64-464e-b87a-b84f6dfadfff",
   "metadata": {
    "execution": {
     "iopub.execute_input": "2025-08-08T10:53:47.990683Z",
     "iopub.status.busy": "2025-08-08T10:53:47.990466Z",
     "iopub.status.idle": "2025-08-08T10:53:48.001024Z",
     "shell.execute_reply": "2025-08-08T10:53:48.000742Z",
     "shell.execute_reply.started": "2025-08-08T10:53:47.990671Z"
    }
   },
   "outputs": [
    {
     "name": "stdout",
     "output_type": "stream",
     "text": [
      " > Counts: {'010': 203, '100': 270, '110': 80, '001': 60, '111': 96, '011': 260, '000': 26, '101': 5}\n"
     ]
    }
   ],
   "source": [
    "from qiskit_aer import AerSimulator\n",
    "from qiskit import *\n",
    "from qiskit.providers.fake_provider import *\n",
    "import numpy as np \n",
    "import os\n",
    "from qiskit.primitives import StatevectorSampler\n",
    "sampler = StatevectorSampler()\n",
    "job = sampler.run([qc], shots=1000)\n",
    "result = job.result()\n",
    "counts = result[0].data[\"meas\"].get_counts()\n",
    "print(f\" > Counts: {result[0].data[\"meas\"].get_counts()}\")"
   ]
  },
  {
   "cell_type": "markdown",
   "id": "0c55b691-9074-4192-adf9-c68ea6d75547",
   "metadata": {},
   "source": [
    "In AE, the bitstring x corresponds to the estimate:\n",
    "θx=x2m\n",
    "θx​=2mx​\n",
    "\n",
    "and the amplitude estimate is:\n",
    "a^=sin⁡2(πθx)\n",
    "a^=sin2(πθx​)"
   ]
  },
  {
   "cell_type": "code",
   "execution_count": 6,
   "id": "8748f58c-a11a-44a7-801f-e6dc95b01efa",
   "metadata": {
    "execution": {
     "iopub.execute_input": "2025-08-08T10:53:48.001396Z",
     "iopub.status.busy": "2025-08-08T10:53:48.001283Z",
     "iopub.status.idle": "2025-08-08T10:53:48.112914Z",
     "shell.execute_reply": "2025-08-08T10:53:48.112609Z",
     "shell.execute_reply.started": "2025-08-08T10:53:48.001388Z"
    }
   },
   "outputs": [],
   "source": [
    "def estimate_amplitude_from_counts(counts, n):\n",
    "    # Get the most probable measurement outcome\n",
    "    most_probable_bitstring = max(counts, key=counts.get)\n",
    "    \n",
    "    # Convert bitstring to integer\n",
    "    x = int(most_probable_bitstring, 2)\n",
    "\n",
    "    # Compute theta\n",
    "    theta = x / (2 ** n)\n",
    "\n",
    "    # Estimate amplitude\n",
    "    a_estimated = np.sin(np.pi * theta) ** 2\n",
    "\n",
    "    return a_estimated"
   ]
  },
  {
   "cell_type": "code",
   "execution_count": 7,
   "id": "bd632a7a-a40d-4ed8-9799-c1d4220fc32d",
   "metadata": {
    "execution": {
     "iopub.execute_input": "2025-08-08T10:53:48.113323Z",
     "iopub.status.busy": "2025-08-08T10:53:48.113205Z",
     "iopub.status.idle": "2025-08-08T10:53:48.163437Z",
     "shell.execute_reply": "2025-08-08T10:53:48.163162Z",
     "shell.execute_reply.started": "2025-08-08T10:53:48.113314Z"
    }
   },
   "outputs": [
    {
     "name": "stdout",
     "output_type": "stream",
     "text": [
      "{'001': 0.5, '111': 0.5}\n"
     ]
    }
   ],
   "source": [
    "def a_to_bitstring(a, n):\n",
    "    m = n\n",
    "    num1 = round(np.arcsin(np.sqrt(a)) / np.pi * 2**m)\n",
    "    num2 = round((np.pi - np.arcsin(np.sqrt(a))) / np.pi * 2**m)\n",
    "    if num1 != num2 and num2 < 2**m and num1 < 2**m:\n",
    "        counts = {format(num1, \"0\"+str(m)+\"b\"): 0.5, format(num2, \"0\"+str(m)+\"b\"): 0.5}\n",
    "    else:\n",
    "        counts = {format(num1, \"0\"+str(m)+\"b\"): 1}\n",
    "    return counts\n",
    "\n",
    "def estimate_s_int_from_counts(counts):\n",
    "    # Find the bitstring with highest count (most probable result)\n",
    "    most_common_bitstring = max(counts, key=counts.get)\n",
    "    \n",
    "    # Convert bitstring to integer\n",
    "    s_int = int(most_common_bitstring, 2)\n",
    "    return s_int\n",
    "\n",
    "\n",
    "\n",
    "def a_from_s_int(s_int, num_counting_qubits):\n",
    "    theta = s_int * np.pi / (2 ** num_counting_qubits)\n",
    "    a = np.sin(theta) ** 2\n",
    "    return a\n",
    "\n",
    "\n",
    "\n",
    "# Example usage:\n",
    "a = 0.2  # known amplitude\n",
    "\n",
    "correct_dist = a_to_bitstring(a, n)\n",
    "print(correct_dist)\n"
   ]
  },
  {
   "cell_type": "code",
   "execution_count": 8,
   "id": "890f4e2d-3392-42c9-86ad-d6f2f8980618",
   "metadata": {
    "execution": {
     "iopub.execute_input": "2025-08-08T10:53:48.163850Z",
     "iopub.status.busy": "2025-08-08T10:53:48.163728Z",
     "iopub.status.idle": "2025-08-08T10:53:48.235292Z",
     "shell.execute_reply": "2025-08-08T10:53:48.235044Z",
     "shell.execute_reply.started": "2025-08-08T10:53:48.163842Z"
    }
   },
   "outputs": [
    {
     "data": {
      "text/plain": [
       "0.2700000000000002"
      ]
     },
     "execution_count": 8,
     "metadata": {},
     "output_type": "execute_result"
    }
   ],
   "source": [
    "from fidelity import *\n",
    "s_int = estimate_s_int_from_counts(counts)\n",
    "estimated_a = a_from_s_int(s_int, n)\n",
    "a = a_from_s_int(s_int, n)\n",
    "correct_dist = a_to_bitstring(a, n)\n",
    "hellinger_fidelity_with_expected(counts,correct_dist )"
   ]
  },
  {
   "cell_type": "markdown",
   "id": "0fd2c313-40da-4410-9f3f-86c69041663b",
   "metadata": {},
   "source": [
    "hellinger_fidelity_with_expected >>  called in Polarization_fidelity >> "
   ]
  },
  {
   "cell_type": "code",
   "execution_count": null,
   "id": "f601fb09-c69d-4c0b-bd51-e577776eb2ce",
   "metadata": {},
   "outputs": [],
   "source": []
  },
  {
   "cell_type": "code",
   "execution_count": null,
   "id": "438c38fa-c346-48b7-b907-c6839099aef6",
   "metadata": {},
   "outputs": [],
   "source": []
  },
  {
   "cell_type": "code",
   "execution_count": null,
   "id": "4cc7d5f3-b18b-4a71-8958-aeb3c9bb4910",
   "metadata": {},
   "outputs": [],
   "source": []
  }
 ],
 "metadata": {
  "kernelspec": {
   "display_name": "Python 3 (ipykernel)",
   "language": "python",
   "name": "python3"
  },
  "language_info": {
   "codemirror_mode": {
    "name": "ipython",
    "version": 3
   },
   "file_extension": ".py",
   "mimetype": "text/x-python",
   "name": "python",
   "nbconvert_exporter": "python",
   "pygments_lexer": "ipython3",
   "version": "3.12.0"
  }
 },
 "nbformat": 4,
 "nbformat_minor": 5
}
